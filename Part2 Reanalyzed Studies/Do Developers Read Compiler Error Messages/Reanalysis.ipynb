{
 "cells": [
  {
   "cell_type": "code",
   "execution_count": 1,
   "metadata": {},
   "outputs": [],
   "source": [
    "# Import relevant packages\n",
    "import pandas as pd\n",
    "import numpy as np\n",
    "import scipy.stats as stats\n",
    "import statistics"
   ]
  },
  {
   "cell_type": "code",
   "execution_count": 20,
   "metadata": {},
   "outputs": [
    {
     "name": "stdout",
     "output_type": "stream",
     "text": [
      "Significance test(chi^2) (198.16281320517598, 1.557871842431496e-38, 8, array([[89.07614213, 45.23181049, 29.69204738],\n",
      "       [59.74619289, 30.33840948, 19.91539763],\n",
      "       [70.60913706, 35.85448393, 23.53637902],\n",
      "       [41.82233503, 21.23688663, 13.94077834],\n",
      "       [59.74619289, 30.33840948, 19.91539763]]))\n"
     ]
    }
   ],
   "source": [
    "# Do Developers Read Compiler Error Messages?\n",
    "\n",
    "# Create contingency table for correctness/incorrectness/timout (data from file \"DoDevelopersReadCompilerMessages.xlsx\". It contains two work sheets)\n",
    "correctness = np.array([[31,98,35],[66,10,34],[104,25,1],[50,2,25],[70,28,12]])\n",
    "print('Significance test(chi^2)',stats.chi2_contingency(correctness))"
   ]
  },
  {
   "cell_type": "code",
   "execution_count": 21,
   "metadata": {},
   "outputs": [
    {
     "name": "stdout",
     "output_type": "stream",
     "text": [
      "Signifance tests (ANOVA): F_onewayResult(statistic=4.624386369675644e-05, pvalue=0.9999999948680551)\n"
     ]
    }
   ],
   "source": [
    "#Study 3: Do Developers Read Compiler Error Messages?\n",
    "\n",
    "# Create contingency table for correctness/incorrectness/timout (data from file \"DoDevelopersReadCompilerMessages.xlsx\". It contains two work sheets)\n",
    "Semantic = np.array([70.66666667,19.66666667,9.333333333])\n",
    "Dependency = np.array([76.5,14.5,8.5])\n",
    "Typemismatch =np.array([66.5,24,10])\n",
    "Syntax =np.array([65,20,15])\n",
    "Other =np.array([73,16,11])\n",
    "\n",
    "print('Signifance tests (ANOVA):',stats.f_oneway(Semantic,Dependency,Typemismatch,Syntax,Other))"
   ]
  }
 ],
 "metadata": {
  "kernelspec": {
   "display_name": "Python 3",
   "language": "python",
   "name": "python3"
  },
  "language_info": {
   "codemirror_mode": {
    "name": "ipython",
    "version": 3
   },
   "file_extension": ".py",
   "mimetype": "text/x-python",
   "name": "python",
   "nbconvert_exporter": "python",
   "pygments_lexer": "ipython3",
   "version": "3.6.5"
  }
 },
 "nbformat": 4,
 "nbformat_minor": 2
}
