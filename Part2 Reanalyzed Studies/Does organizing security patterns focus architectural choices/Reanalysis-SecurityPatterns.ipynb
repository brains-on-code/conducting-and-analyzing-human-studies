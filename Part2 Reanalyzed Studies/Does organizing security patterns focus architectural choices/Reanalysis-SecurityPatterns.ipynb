{
 "cells": [
  {
   "cell_type": "code",
   "execution_count": 1,
   "metadata": {},
   "outputs": [],
   "source": [
    "# Import relevant packages\n",
    "import pandas as pd\n",
    "import numpy as np\n",
    "import scipy.stats as stats\n",
    "import statistics"
   ]
  },
  {
   "cell_type": "code",
   "execution_count": 16,
   "metadata": {},
   "outputs": [
    {
     "name": "stdout",
     "output_type": "stream",
     "text": [
      "Normality Check group1B: (0.8869596719741821, 0.019708415493369102)\n",
      "Normality Check group1B: (0.9429785013198853, 0.2494087964296341)\n",
      "Normality Check group1B: (0.9255083799362183, 0.11186745762825012)\n",
      "Normality Check group1B: (0.899042546749115, 0.03353019058704376)\n",
      "Normality Check group1B: (0.8333584070205688, 0.0013783670729026198)\n",
      "Normality Check group1B: (0.9589257836341858, 0.44202113151550293)\n",
      "Normality Check group1B: (0.9827153086662292, 0.9529820084571838)\n",
      "Normality Check group1B: (0.5251306891441345, 5.410082053458609e-07)\n",
      "Significance test (Wilcoxon): RanksumsResult(statistic=0.6696620080077293, pvalue=0.5030732757853404)\n",
      "Significance test (Wilcoxon): Ttest_indResult(statistic=-1.2823624557963305, pvalue=0.2067483876065386)\n",
      "Significance test (Wilcoxon): Ttest_indResult(statistic=-0.5823105459490746, pvalue=0.5635462690902153)\n",
      "Significance test (Wilcoxon): RanksumsResult(statistic=-1.2519372742975226, pvalue=0.21059272118690975)\n"
     ]
    }
   ],
   "source": [
    "data = pd.read_csv('Does organizing security patterns focus architectural choices/TaskWiseEffort.csv',sep=';',decimal='.')\n",
    "\n",
    "group1 = data[data.Group == 1]\n",
    "group1B = group1[group1.Task == 'B']\n",
    "group1C = group1[group1.Task == 'C']\n",
    "group1D = group1[group1.Task == 'D']\n",
    "group1E = group1[group1.Task == 'E']\n",
    "group1B.reset_index(inplace=True, drop=True)\n",
    "group1C.reset_index(inplace=True, drop=True)\n",
    "group1D.reset_index(inplace=True, drop=True)\n",
    "group1E.reset_index(inplace=True, drop=True)\n",
    "\n",
    "print('Normality Check group1B:',stats.shapiro(group1B.Time))\n",
    "print('Normality Check group1C:',stats.shapiro(group1C.Time))\n",
    "print('Normality Check group1D:',stats.shapiro(group1D.Time))\n",
    "print('Normality Check group1E:',stats.shapiro(group1E.Time))\n",
    "\n",
    "group2 = data[data.Group == 2]\n",
    "group2B = group2[group2.Task == 'B']\n",
    "group2C = group2[group2.Task == 'C']\n",
    "group2D = group2[group2.Task == 'D']\n",
    "group2E = group2[group2.Task == 'E']\n",
    "group2B.reset_index(inplace=True, drop=True)\n",
    "group2C.reset_index(inplace=True, drop=True)\n",
    "group2D.reset_index(inplace=True, drop=True)\n",
    "group2E.reset_index(inplace=True, drop=True)\n",
    "\n",
    "print('Normality Check group2B:',stats.shapiro(group2B.Time))\n",
    "print('Normality Check group2C:',stats.shapiro(group2C.Time))\n",
    "print('Normality Check group2D:',stats.shapiro(group2D.Time))\n",
    "print('Normality Check group2E:',stats.shapiro(group2E.Time))\n",
    "\n",
    "print('Significance test (Wilcoxon):',stats.ranksums(group1B.Time, group2B.Time))\n",
    "print('Significance test (Wilcoxon):',stats.ttest_ind(group1C.Time, group2C.Time))\n",
    "print('Significance test (Wilcoxon):',stats.ttest_ind(group1D.Time, group2D.Time))\n",
    "print('Significance test (Wilcoxon):',stats.ranksums(group1E.Time, group2E.Time))\n"
   ]
  },
  {
   "cell_type": "code",
   "execution_count": 21,
   "metadata": {},
   "outputs": [
    {
     "name": "stdout",
     "output_type": "stream",
     "text": [
      "Normality Check group1B: (0.897844672203064, 0.03758179023861885)\n",
      "Normality Check group1C: (0.8744439482688904, 0.01407673954963684)\n",
      "Normality Check group1D: (0.9475483894348145, 0.35870361328125)\n",
      "Normality Check group1E: (0.8496123552322388, 0.004182919394224882)\n",
      "Normality Check group2B: (0.8624181747436523, 0.005674304906278849)\n",
      "Normality Check group2C: (0.9586825370788574, 0.43728601932525635)\n",
      "Normality Check group2D: (0.9441545009613037, 0.24085929989814758)\n",
      "Normality Check group2E: (0.9330505728721619, 0.15845060348510742)\n",
      "Significance test (Wilcoxon): RanksumsResult(statistic=-3.8909758989344554, pvalue=9.984185070005239e-05)\n",
      "Significance test (Wilcoxon): RanksumsResult(statistic=-3.8837034096224503, pvalue=0.00010287738929922626)\n",
      "Significance test (Wilcoxon): Ttest_indResult(statistic=-0.00273278324819187, pvalue=0.99783348819536)\n",
      "Significance test (Wilcoxon): RanksumsResult(statistic=1.6728567220186852, pvalue=0.09435550530891151)\n"
     ]
    }
   ],
   "source": [
    "data = pd.read_csv('Does organizing security patterns focus architectural choices/TaskWiseEfficiency.csv',sep=';',decimal='.')\n",
    "\n",
    "group1 = data[data.Group == 1]\n",
    "group1B = group1[group1.Task == 'B']\n",
    "group1C = group1[group1.Task == 'C']\n",
    "group1D = group1[group1.Task == 'D']\n",
    "group1E = group1[group1.Task == 'E']\n",
    "group1B.reset_index(inplace=True, drop=True)\n",
    "group1C.reset_index(inplace=True, drop=True)\n",
    "group1D.reset_index(inplace=True, drop=True)\n",
    "group1E.reset_index(inplace=True, drop=True)\n",
    "\n",
    "print('Normality Check group1B:',stats.shapiro(group1B.Efficiency))\n",
    "print('Normality Check group1C:',stats.shapiro(group1C.Efficiency))\n",
    "print('Normality Check group1D:',stats.shapiro(group1D.Efficiency))\n",
    "print('Normality Check group1E:',stats.shapiro(group1E.Efficiency))\n",
    "\n",
    "group2 = data[data.Group == 2]\n",
    "group2B = group2[group2.Task == 'B']\n",
    "group2C = group2[group2.Task == 'C']\n",
    "group2D = group2[group2.Task == 'D']\n",
    "group2E = group2[group2.Task == 'E']\n",
    "group2B.reset_index(inplace=True, drop=True)\n",
    "group2C.reset_index(inplace=True, drop=True)\n",
    "group2D.reset_index(inplace=True, drop=True)\n",
    "group2E.reset_index(inplace=True, drop=True)\n",
    "\n",
    "print('Normality Check group2B:',stats.shapiro(group2B.Efficiency))\n",
    "print('Normality Check group2C:',stats.shapiro(group2C.Efficiency))\n",
    "print('Normality Check group2D:',stats.shapiro(group2D.Efficiency))\n",
    "print('Normality Check group2E:',stats.shapiro(group2E.Efficiency))\n",
    "\n",
    "print('Significance test (Wilcoxon):',stats.ranksums(group1B.Efficiency, group2B.Efficiency))\n",
    "print('Significance test (Wilcoxon):',stats.ranksums(group1C.Efficiency, group2C.Efficiency))\n",
    "print('Significance test (Wilcoxon):',stats.ttest_ind(group1D.Efficiency, group2D.Efficiency))\n",
    "print('Significance test (Wilcoxon):',stats.ranksums(group1E.Efficiency, group2E.Efficiency))\n"
   ]
  },
  {
   "cell_type": "code",
   "execution_count": 2,
   "metadata": {},
   "outputs": [
    {
     "name": "stdout",
     "output_type": "stream",
     "text": [
      "Mean Group 1: 1483.8095238095239\n",
      "Mean Group 2: 1763.534090909091\n",
      "Normality Check: (0.9216144680976868, 7.67596357036382e-05)\n",
      "Normality Check: (0.6352300047874451, 1.84106243163e-13)\n",
      "Significance test (Wilcoxon): RanksumsResult(statistic=-1.1502613669820627, pvalue=0.25003623757007165)\n"
     ]
    }
   ],
   "source": [
    "# Study 1: Does organizing security patterns focus architectural choices?\n",
    "# Time (our paper), resp. Effort (original paper)\n",
    "# Read in data; we assume having just the two relevant columns, i.e., Group and Sum\n",
    "data = pd.read_csv('Does organizing security patterns focus architectural choices/SecurityPatternsOnlyRelevantData.csv',sep=';',decimal='.')\n",
    "\n",
    "group1 = data[data.Group == 1]\n",
    "group1 = group1.drop('Group', axis = 1)\n",
    "\n",
    "group2 = data[data.Group == 2]\n",
    "group2 = group2.drop('Group', axis = 1)\n",
    "\n",
    "print('Mean Group 1:',statistics.mean(group1.Sum))\n",
    "print('Mean Group 2:',statistics.mean(group2.Sum))\n",
    "\n",
    "print('Normality Check:',stats.shapiro(group1))\n",
    "print('Normality Check:',stats.shapiro(group2))\n",
    "print('Significance test (Wilcoxon):',stats.ranksums(group1, group2))"
   ]
  },
  {
   "cell_type": "code",
   "execution_count": 12,
   "metadata": {},
   "outputs": [
    {
     "name": "stdout",
     "output_type": "stream",
     "text": [
      "Mean Group 1: 0.14324798466666666\n",
      "Mean Group 2: 0.21079198159770116\n",
      "Normality Check: (0.8466210961341858, 1.6525716262094647e-07)\n",
      "Normality Check: (0.8402353525161743, 2.9145654778517383e-08)\n",
      "Significance test (Wilcoxon): RanksumsResult(statistic=-2.849337507878849, pvalue=0.0043810378189598626)\n"
     ]
    }
   ],
   "source": [
    "# Study 1: Does organizing security patterns focus architectural choices?\n",
    "# Efficiency (original paper)\n",
    "# Read in data; we assume having just the two relevant columns, i.e., Group and Values\n",
    "data = pd.read_csv('SecurityPatternsOnlyRelevantDataEfficiency.csv',sep=';',decimal='.')\n",
    "\n",
    "group1 = data[data.Group == 1]\n",
    "group1 = group1.drop('Group', axis = 1)\n",
    "group1.reset_index(inplace=True, drop=True)\n",
    "\n",
    "group2 = data[data.Group == 2]\n",
    "group2 = group2.drop('Group', axis = 1)\n",
    "group2.reset_index(inplace=True, drop=True)\n",
    "\n",
    "print('Mean Group 1:',statistics.mean(group1.Values))\n",
    "print('Mean Group 2:',statistics.mean(group2.Values))\n",
    "\n",
    "print('Normality Check:',stats.shapiro(group1))\n",
    "print('Normality Check:',stats.shapiro(group2))\n",
    "print('Significance test (Wilcoxon):',stats.ranksums(group1, group2))"
   ]
  }
 ],
 "metadata": {
  "kernelspec": {
   "display_name": "Python 3",
   "language": "python",
   "name": "python3"
  },
  "language_info": {
   "codemirror_mode": {
    "name": "ipython",
    "version": 3
   },
   "file_extension": ".py",
   "mimetype": "text/x-python",
   "name": "python",
   "nbconvert_exporter": "python",
   "pygments_lexer": "ipython3",
   "version": "3.6.5"
  }
 },
 "nbformat": 4,
 "nbformat_minor": 2
}
