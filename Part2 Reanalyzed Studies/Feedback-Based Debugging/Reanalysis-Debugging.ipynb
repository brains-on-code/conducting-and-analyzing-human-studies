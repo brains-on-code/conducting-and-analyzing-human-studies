{
 "cells": [
  {
   "cell_type": "code",
   "execution_count": 1,
   "metadata": {},
   "outputs": [],
   "source": [
    "# Import relevant packages\n",
    "import pandas as pd\n",
    "import numpy as np\n",
    "import scipy.stats as stats\n",
    "import statistics"
   ]
  },
  {
   "cell_type": "code",
   "execution_count": 28,
   "metadata": {},
   "outputs": [
    {
     "name": "stdout",
     "output_type": "stream",
     "text": [
      "Mean Group Microbat Task 1: 14.9125\n",
      "Mean Group Microbat Task 2: 10.4875\n",
      "Mean Group Microbat Task 3: 9.8875\n",
      "Mean Group Whyline Task 1: 30.0875\n",
      "Mean Group Whyline Task 2: 30.3875\n",
      "Mean Group Whyline Task 3: 24.537499999999998\n",
      "Normality Check Task 1: (0.8592226505279541, 0.11795025318861008)\n",
      "Normality Check Task 2: (0.8082747459411621, 0.035076942294836044)\n",
      "Normality Check Task 3: (0.9415837526321411, 0.626727283000946)\n",
      "Normality Check Task 1: (0.9710449576377869, 0.906079888343811)\n",
      "Normality Check Task 2: (0.963402509689331, 0.8418174386024475)\n",
      "Normality Check Task 3: (0.9345546364784241, 0.5584197640419006)\n",
      "Significance test (Wilcoxon): Ttest_indResult(statistic=-2.745977916130569, pvalue=0.015769014773508862)\n",
      "Significance test (Wilcoxon): RanksumsResult(statistic=-2.9405881764588204, pvalue=0.003275897482908591)\n",
      "Significance test (Wilcoxon): Ttest_indResult(statistic=-3.7900488466400537, pvalue=0.0019895250091382425)\n",
      "Mean Group Microbat Task 1: 11.7625\n",
      "Mean Group Whyline Task 1: 28.3375\n",
      "Normality Check Microbat: (0.7945119142532349, 0.00023992844216991216)\n",
      "Normality Check Whyline: (0.9548107981681824, 0.3432249128818512)\n",
      "Significance test (Wilcoxon): RanksumsResult(statistic=-4.814688851992058, pvalue=1.4742942149091545e-06)\n"
     ]
    }
   ],
   "source": [
    "# Paper: Feedback-Based Debugging\n",
    "# Time (Performance)\n",
    "data = pd.read_csv('Feedback-Based Debugging/Table7.csv',sep=';',decimal='.')\n",
    "\n",
    "data.head(5)\n",
    "group1 = data[data.Group == 'Microbat']\n",
    "group1 = group1.drop('Group', axis = 1)\n",
    "\n",
    "group2 = data[data.Group == 'Whyline']\n",
    "group2 = group2.drop('Group', axis = 1)\n",
    "\n",
    "# reproduce results by authors\n",
    "print('Mean Group Microbat Task 1:',statistics.mean(group1.Task1))\n",
    "print('Mean Group Microbat Task 2:',statistics.mean(group1.Task2))\n",
    "print('Mean Group Microbat Task 3:',statistics.mean(group1.Task3))\n",
    "\n",
    "print('Mean Group Whyline Task 1:',statistics.mean(group2.Task1))\n",
    "print('Mean Group Whyline Task 2:',statistics.mean(group2.Task2))\n",
    "print('Mean Group Whyline Task 3:',statistics.mean(group2.Task3))\n",
    "\n",
    "print('Normality Check Task 1:',stats.shapiro(group1.Task1))\n",
    "print('Normality Check Task 2:',stats.shapiro(group1.Task2))\n",
    "print('Normality Check Task 3:',stats.shapiro(group1.Task3))\n",
    "print('Normality Check Task 1:',stats.shapiro(group2.Task1))\n",
    "print('Normality Check Task 2:',stats.shapiro(group2.Task2))\n",
    "print('Normality Check Task 3:',stats.shapiro(group2.Task3))\n",
    "\n",
    "print('Significance test (Wilcoxon):',stats.ttest_ind(group1.Task1, group2.Task1))\n",
    "print('Significance test (Wilcoxon):',stats.ranksums(group1.Task2, group2.Task2))\n",
    "print('Significance test (Wilcoxon):',stats.ttest_ind(group1.Task3, group2.Task3))\n",
    "\n",
    "# do aggregated analysis\n",
    "group1Agg = group1.Task1.append(group1.Task2.append(group1.Task3))\n",
    "group2Agg = group2.Task1.append(group2.Task2.append(group2.Task3))\n",
    "\n",
    "print('Mean Group Microbat Task 1:',statistics.mean(group1Agg))\n",
    "print('Mean Group Whyline Task 1:',statistics.mean(group2Agg))\n",
    "\n",
    "print('Normality Check Microbat:',stats.shapiro(group1Agg))\n",
    "print('Normality Check Whyline:',stats.shapiro(group2Agg))\n",
    "print('Significance test (Wilcoxon):',stats.ranksums(group1Agg, group2Agg))"
   ]
  }
 ],
 "metadata": {
  "kernelspec": {
   "display_name": "Python 3",
   "language": "python",
   "name": "python3"
  },
  "language_info": {
   "codemirror_mode": {
    "name": "ipython",
    "version": 3
   },
   "file_extension": ".py",
   "mimetype": "text/x-python",
   "name": "python",
   "nbconvert_exporter": "python",
   "pygments_lexer": "ipython3",
   "version": "3.6.5"
  }
 },
 "nbformat": 4,
 "nbformat_minor": 2
}
