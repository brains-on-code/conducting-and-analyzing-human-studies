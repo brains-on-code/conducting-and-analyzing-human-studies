{
 "cells": [
  {
   "cell_type": "code",
   "execution_count": 1,
   "metadata": {},
   "outputs": [],
   "source": [
    "# Import relevant packages\n",
    "import pandas as pd\n",
    "import numpy as np\n",
    "import scipy.stats as stats\n",
    "import statistics"
   ]
  },
  {
   "cell_type": "code",
   "execution_count": 16,
   "metadata": {},
   "outputs": [
    {
     "name": "stdout",
     "output_type": "stream",
     "text": [
      "Mean Group idef, static: 554.1190476190476\n",
      "Mean Group color, static: 352.8636363636364\n",
      "Mean Group ifdef, maintenance: 515.9880952380952\n",
      "Mean Group color, maintenance: 657.125\n",
      "Normality Check: (0.9590693712234497, 0.4975792467594147)\n",
      "Normality Check: (0.9600026607513428, 0.5161784291267395)\n",
      "Normality Check: (0.9510636329650879, 0.331510066986084)\n",
      "Normality Check: (0.9457451105117798, 0.25947996973991394)\n",
      "Significance test (t test): Ttest_indResult(statistic=array([3.93815022]), pvalue=array([0.00031169]))\n",
      "Significance test (t test): Ttest_indResult(statistic=array([-2.49144762]), pvalue=array([0.01686067]))\n"
     ]
    }
   ],
   "source": [
    "# Do background colors improve program comprehension in the #ifdef hell?\n",
    "\n",
    "# Read data\n",
    "colorsTime = pd.read_csv('backgroundcolorsTime.csv',sep=';',decimal='.')\n",
    "# get the group with the colors\n",
    "groupCS = colorsTime[colorsTime.Group == 'color']\n",
    "# drop the maintenance tasks\n",
    "groupCS = groupCS.drop('M', axis = 1)\n",
    "# drop the group\n",
    "groupCS = groupCS.drop('Group', axis = 1)\n",
    "# abbreviation: groupCS: data of the group with background colors (C); static tasks (S)\n",
    "\n",
    "# Repeat above steps for maintenance tasks and ifdef group\n",
    "groupCM = colorsTime[colorsTime.Group == 'color']\n",
    "groupCM = groupCM.drop('S', axis = 1)\n",
    "groupCM = groupCM.drop('Group', axis = 1)\n",
    "\n",
    "groupIS = colorsTime[colorsTime.Group == 'ifdef']\n",
    "groupIS = groupIS.drop('M', axis = 1)\n",
    "groupIS = groupIS.drop('Group', axis = 1)\n",
    "\n",
    "groupIM = colorsTime[colorsTime.Group == 'ifdef']\n",
    "groupIM = groupIM.drop('S', axis = 1)\n",
    "groupIM = groupIM.drop('Group', axis = 1)\n",
    "\n",
    "print('Mean Group idef, static:',statistics.mean(groupIS.S.values))\n",
    "print('Mean Group color, static:',statistics.mean(groupCS.S.values))\n",
    "print('Mean Group ifdef, maintenance:',statistics.mean(groupIM.M.values))\n",
    "print('Mean Group color, maintenance:',statistics.mean(groupCM.M.values))\n",
    "\n",
    "print('Normality Check:',shapiro(groupIM))\n",
    "print('Normality Check:',shapiro(groupIS))\n",
    "print('Normality Check:',shapiro(groupCM))\n",
    "print('Normality Check:',shapiro(groupCS))\n",
    "\n",
    "\n",
    "print('Significance test (t test):',stats.ttest_ind(groupIS, groupCS))\n",
    "print('Significance test (t test):',stats.ttest_ind(groupIM, groupCM))"
   ]
  },
  {
   "cell_type": "code",
   "execution_count": 17,
   "metadata": {},
   "outputs": [
    {
     "name": "stdout",
     "output_type": "stream",
     "text": [
      "Significance test(chi^2), static: (1.1443511772780082, 0.2847347757810025, 1, array([[23.02325581, 21.97674419],\n",
      "       [20.97674419, 20.02325581]]))\n",
      "Significance test(chi^2), maintenace: (3.5158688640146414, 0.060783777832451834, 1, array([[70.60465116, 67.39534884],\n",
      "       [17.39534884, 16.60465116]]))\n"
     ]
    }
   ],
   "source": [
    "# Do background colors improve program comprehension in the #ifdef hell?\n",
    "# correctness\n",
    "\n",
    "#Created contingency table for correctness of static and maintenance tasks\n",
    "# according to Figure 5 of the paper; sum up all values of correctness and incorrectness\n",
    "# for static tasks, and the same for maintenance tasks\n",
    "static = np.array([[26,19],[18,23]])\n",
    "maintenance = np.array([[76,62],[12,22]])\n",
    "\n",
    "# then run the chi^2 tests for both contingency tables\n",
    "print('Significance test(chi^2), static:',stats.chi2_contingency(static))\n",
    "print('Significance test(chi^2), maintenace:',stats.chi2_contingency(maintenance))"
   ]
  }
 ],
 "metadata": {
  "kernelspec": {
   "display_name": "Python 3",
   "language": "python",
   "name": "python3"
  },
  "language_info": {
   "codemirror_mode": {
    "name": "ipython",
    "version": 3
   },
   "file_extension": ".py",
   "mimetype": "text/x-python",
   "name": "python",
   "nbconvert_exporter": "python",
   "pygments_lexer": "ipython3",
   "version": "3.6.5"
  }
 },
 "nbformat": 4,
 "nbformat_minor": 2
}
