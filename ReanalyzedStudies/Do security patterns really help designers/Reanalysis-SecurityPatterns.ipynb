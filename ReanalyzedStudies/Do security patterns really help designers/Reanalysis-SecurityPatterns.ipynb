{
 "cells": [
  {
   "cell_type": "code",
   "execution_count": 1,
   "metadata": {},
   "outputs": [],
   "source": [
    "# Import relevant packages\n",
    "import pandas as pd\n",
    "import numpy as np\n",
    "import scipy.stats as stats\n",
    "import statistics"
   ]
  },
  {
   "cell_type": "code",
   "execution_count": 28,
   "metadata": {},
   "outputs": [
    {
     "name": "stdout",
     "output_type": "stream",
     "text": [
      "Mean Group Microbat Task 1: 14.9125\n",
      "Mean Group Microbat Task 2: 10.4875\n",
      "Mean Group Microbat Task 3: 9.8875\n",
      "Mean Group Whyline Task 1: 30.0875\n",
      "Mean Group Whyline Task 2: 30.3875\n",
      "Mean Group Whyline Task 3: 24.537499999999998\n",
      "Normality Check Task 1: (0.8592226505279541, 0.11795025318861008)\n",
      "Normality Check Task 2: (0.8082747459411621, 0.035076942294836044)\n",
      "Normality Check Task 3: (0.9415837526321411, 0.626727283000946)\n",
      "Normality Check Task 1: (0.9710449576377869, 0.906079888343811)\n",
      "Normality Check Task 2: (0.963402509689331, 0.8418174386024475)\n",
      "Normality Check Task 3: (0.9345546364784241, 0.5584197640419006)\n",
      "Significance test (Wilcoxon): Ttest_indResult(statistic=-2.745977916130569, pvalue=0.015769014773508862)\n",
      "Significance test (Wilcoxon): RanksumsResult(statistic=-2.9405881764588204, pvalue=0.003275897482908591)\n",
      "Significance test (Wilcoxon): Ttest_indResult(statistic=-3.7900488466400537, pvalue=0.0019895250091382425)\n",
      "Mean Group Microbat Task 1: 11.7625\n",
      "Mean Group Whyline Task 1: 28.3375\n",
      "Normality Check Microbat: (0.7945119142532349, 0.00023992844216991216)\n",
      "Normality Check Whyline: (0.9548107981681824, 0.3432249128818512)\n",
      "Significance test (Wilcoxon): RanksumsResult(statistic=-4.814688851992058, pvalue=1.4742942149091545e-06)\n"
     ]
    }
   ],
   "source": [
    "# Paper: Feedback-Based Debugging\n",
    "# Time (Performance)\n",
    "data = pd.read_csv('Feedback-Based Debugging/Table7.csv',sep=';',decimal='.')\n",
    "\n",
    "data.head(5)\n",
    "group1 = data[data.Group == 'Microbat']\n",
    "group1 = group1.drop('Group', axis = 1)\n",
    "\n",
    "group2 = data[data.Group == 'Whyline']\n",
    "group2 = group2.drop('Group', axis = 1)\n",
    "\n",
    "# reproduce results by authors\n",
    "print('Mean Group Microbat Task 1:',statistics.mean(group1.Task1))\n",
    "print('Mean Group Microbat Task 2:',statistics.mean(group1.Task2))\n",
    "print('Mean Group Microbat Task 3:',statistics.mean(group1.Task3))\n",
    "\n",
    "print('Mean Group Whyline Task 1:',statistics.mean(group2.Task1))\n",
    "print('Mean Group Whyline Task 2:',statistics.mean(group2.Task2))\n",
    "print('Mean Group Whyline Task 3:',statistics.mean(group2.Task3))\n",
    "\n",
    "print('Normality Check Task 1:',stats.shapiro(group1.Task1))\n",
    "print('Normality Check Task 2:',stats.shapiro(group1.Task2))\n",
    "print('Normality Check Task 3:',stats.shapiro(group1.Task3))\n",
    "print('Normality Check Task 1:',stats.shapiro(group2.Task1))\n",
    "print('Normality Check Task 2:',stats.shapiro(group2.Task2))\n",
    "print('Normality Check Task 3:',stats.shapiro(group2.Task3))\n",
    "\n",
    "print('Significance test (Wilcoxon):',stats.ttest_ind(group1.Task1, group2.Task1))\n",
    "print('Significance test (Wilcoxon):',stats.ranksums(group1.Task2, group2.Task2))\n",
    "print('Significance test (Wilcoxon):',stats.ttest_ind(group1.Task3, group2.Task3))\n",
    "\n",
    "# do aggregated analysis\n",
    "group1Agg = group1.Task1.append(group1.Task2.append(group1.Task3))\n",
    "group2Agg = group2.Task1.append(group2.Task2.append(group2.Task3))\n",
    "\n",
    "print('Mean Group Microbat Task 1:',statistics.mean(group1Agg))\n",
    "print('Mean Group Whyline Task 1:',statistics.mean(group2Agg))\n",
    "\n",
    "print('Normality Check Microbat:',stats.shapiro(group1Agg))\n",
    "print('Normality Check Whyline:',stats.shapiro(group2Agg))\n",
    "print('Significance test (Wilcoxon):',stats.ranksums(group1Agg, group2Agg))"
   ]
  },
  {
   "cell_type": "code",
   "execution_count": 16,
   "metadata": {},
   "outputs": [
    {
     "name": "stdout",
     "output_type": "stream",
     "text": [
      "Normality Check group1B: (0.8869596719741821, 0.019708415493369102)\n",
      "Normality Check group1B: (0.9429785013198853, 0.2494087964296341)\n",
      "Normality Check group1B: (0.9255083799362183, 0.11186745762825012)\n",
      "Normality Check group1B: (0.899042546749115, 0.03353019058704376)\n",
      "Normality Check group1B: (0.8333584070205688, 0.0013783670729026198)\n",
      "Normality Check group1B: (0.9589257836341858, 0.44202113151550293)\n",
      "Normality Check group1B: (0.9827153086662292, 0.9529820084571838)\n",
      "Normality Check group1B: (0.5251306891441345, 5.410082053458609e-07)\n",
      "Significance test (Wilcoxon): RanksumsResult(statistic=0.6696620080077293, pvalue=0.5030732757853404)\n",
      "Significance test (Wilcoxon): Ttest_indResult(statistic=-1.2823624557963305, pvalue=0.2067483876065386)\n",
      "Significance test (Wilcoxon): Ttest_indResult(statistic=-0.5823105459490746, pvalue=0.5635462690902153)\n",
      "Significance test (Wilcoxon): RanksumsResult(statistic=-1.2519372742975226, pvalue=0.21059272118690975)\n"
     ]
    }
   ],
   "source": [
    "data = pd.read_csv('Does organizing security patterns focus architectural choices/TaskWiseEffort.csv',sep=';',decimal='.')\n",
    "\n",
    "group1 = data[data.Group == 1]\n",
    "group1B = group1[group1.Task == 'B']\n",
    "group1C = group1[group1.Task == 'C']\n",
    "group1D = group1[group1.Task == 'D']\n",
    "group1E = group1[group1.Task == 'E']\n",
    "group1B.reset_index(inplace=True, drop=True)\n",
    "group1C.reset_index(inplace=True, drop=True)\n",
    "group1D.reset_index(inplace=True, drop=True)\n",
    "group1E.reset_index(inplace=True, drop=True)\n",
    "\n",
    "print('Normality Check group1B:',stats.shapiro(group1B.Time))\n",
    "print('Normality Check group1C:',stats.shapiro(group1C.Time))\n",
    "print('Normality Check group1D:',stats.shapiro(group1D.Time))\n",
    "print('Normality Check group1E:',stats.shapiro(group1E.Time))\n",
    "\n",
    "group2 = data[data.Group == 2]\n",
    "group2B = group2[group2.Task == 'B']\n",
    "group2C = group2[group2.Task == 'C']\n",
    "group2D = group2[group2.Task == 'D']\n",
    "group2E = group2[group2.Task == 'E']\n",
    "group2B.reset_index(inplace=True, drop=True)\n",
    "group2C.reset_index(inplace=True, drop=True)\n",
    "group2D.reset_index(inplace=True, drop=True)\n",
    "group2E.reset_index(inplace=True, drop=True)\n",
    "\n",
    "print('Normality Check group2B:',stats.shapiro(group2B.Time))\n",
    "print('Normality Check group2C:',stats.shapiro(group2C.Time))\n",
    "print('Normality Check group2D:',stats.shapiro(group2D.Time))\n",
    "print('Normality Check group2E:',stats.shapiro(group2E.Time))\n",
    "\n",
    "print('Significance test (Wilcoxon):',stats.ranksums(group1B.Time, group2B.Time))\n",
    "print('Significance test (Wilcoxon):',stats.ttest_ind(group1C.Time, group2C.Time))\n",
    "print('Significance test (Wilcoxon):',stats.ttest_ind(group1D.Time, group2D.Time))\n",
    "print('Significance test (Wilcoxon):',stats.ranksums(group1E.Time, group2E.Time))\n"
   ]
  },
  {
   "cell_type": "code",
   "execution_count": 21,
   "metadata": {},
   "outputs": [
    {
     "name": "stdout",
     "output_type": "stream",
     "text": [
      "Normality Check group1B: (0.897844672203064, 0.03758179023861885)\n",
      "Normality Check group1C: (0.8744439482688904, 0.01407673954963684)\n",
      "Normality Check group1D: (0.9475483894348145, 0.35870361328125)\n",
      "Normality Check group1E: (0.8496123552322388, 0.004182919394224882)\n",
      "Normality Check group2B: (0.8624181747436523, 0.005674304906278849)\n",
      "Normality Check group2C: (0.9586825370788574, 0.43728601932525635)\n",
      "Normality Check group2D: (0.9441545009613037, 0.24085929989814758)\n",
      "Normality Check group2E: (0.9330505728721619, 0.15845060348510742)\n",
      "Significance test (Wilcoxon): RanksumsResult(statistic=-3.8909758989344554, pvalue=9.984185070005239e-05)\n",
      "Significance test (Wilcoxon): RanksumsResult(statistic=-3.8837034096224503, pvalue=0.00010287738929922626)\n",
      "Significance test (Wilcoxon): Ttest_indResult(statistic=-0.00273278324819187, pvalue=0.99783348819536)\n",
      "Significance test (Wilcoxon): RanksumsResult(statistic=1.6728567220186852, pvalue=0.09435550530891151)\n"
     ]
    }
   ],
   "source": [
    "data = pd.read_csv('Does organizing security patterns focus architectural choices/TaskWiseEfficiency.csv',sep=';',decimal='.')\n",
    "\n",
    "group1 = data[data.Group == 1]\n",
    "group1B = group1[group1.Task == 'B']\n",
    "group1C = group1[group1.Task == 'C']\n",
    "group1D = group1[group1.Task == 'D']\n",
    "group1E = group1[group1.Task == 'E']\n",
    "group1B.reset_index(inplace=True, drop=True)\n",
    "group1C.reset_index(inplace=True, drop=True)\n",
    "group1D.reset_index(inplace=True, drop=True)\n",
    "group1E.reset_index(inplace=True, drop=True)\n",
    "\n",
    "print('Normality Check group1B:',stats.shapiro(group1B.Efficiency))\n",
    "print('Normality Check group1C:',stats.shapiro(group1C.Efficiency))\n",
    "print('Normality Check group1D:',stats.shapiro(group1D.Efficiency))\n",
    "print('Normality Check group1E:',stats.shapiro(group1E.Efficiency))\n",
    "\n",
    "group2 = data[data.Group == 2]\n",
    "group2B = group2[group2.Task == 'B']\n",
    "group2C = group2[group2.Task == 'C']\n",
    "group2D = group2[group2.Task == 'D']\n",
    "group2E = group2[group2.Task == 'E']\n",
    "group2B.reset_index(inplace=True, drop=True)\n",
    "group2C.reset_index(inplace=True, drop=True)\n",
    "group2D.reset_index(inplace=True, drop=True)\n",
    "group2E.reset_index(inplace=True, drop=True)\n",
    "\n",
    "print('Normality Check group2B:',stats.shapiro(group2B.Efficiency))\n",
    "print('Normality Check group2C:',stats.shapiro(group2C.Efficiency))\n",
    "print('Normality Check group2D:',stats.shapiro(group2D.Efficiency))\n",
    "print('Normality Check group2E:',stats.shapiro(group2E.Efficiency))\n",
    "\n",
    "print('Significance test (Wilcoxon):',stats.ranksums(group1B.Efficiency, group2B.Efficiency))\n",
    "print('Significance test (Wilcoxon):',stats.ranksums(group1C.Efficiency, group2C.Efficiency))\n",
    "print('Significance test (Wilcoxon):',stats.ttest_ind(group1D.Efficiency, group2D.Efficiency))\n",
    "print('Significance test (Wilcoxon):',stats.ranksums(group1E.Efficiency, group2E.Efficiency))\n"
   ]
  },
  {
   "cell_type": "code",
   "execution_count": 2,
   "metadata": {},
   "outputs": [
    {
     "name": "stdout",
     "output_type": "stream",
     "text": [
      "Mean Group 1: 1483.8095238095239\n",
      "Mean Group 2: 1763.534090909091\n",
      "Normality Check: (0.9216144680976868, 7.67596357036382e-05)\n",
      "Normality Check: (0.6352300047874451, 1.84106243163e-13)\n",
      "Significance test (Wilcoxon): RanksumsResult(statistic=-1.1502613669820627, pvalue=0.25003623757007165)\n"
     ]
    }
   ],
   "source": [
    "# Study 1: Does organizing security patterns focus architectural choices?\n",
    "# Time (our paper), resp. Effort (original paper)\n",
    "# Read in data; we assume having just the two relevant columns, i.e., Group and Sum\n",
    "data = pd.read_csv('Does organizing security patterns focus architectural choices/SecurityPatternsOnlyRelevantData.csv',sep=';',decimal='.')\n",
    "\n",
    "group1 = data[data.Group == 1]\n",
    "group1 = group1.drop('Group', axis = 1)\n",
    "\n",
    "group2 = data[data.Group == 2]\n",
    "group2 = group2.drop('Group', axis = 1)\n",
    "\n",
    "print('Mean Group 1:',statistics.mean(group1.Sum))\n",
    "print('Mean Group 2:',statistics.mean(group2.Sum))\n",
    "\n",
    "print('Normality Check:',stats.shapiro(group1))\n",
    "print('Normality Check:',stats.shapiro(group2))\n",
    "print('Significance test (Wilcoxon):',stats.ranksums(group1, group2))"
   ]
  },
  {
   "cell_type": "code",
   "execution_count": 12,
   "metadata": {},
   "outputs": [
    {
     "name": "stdout",
     "output_type": "stream",
     "text": [
      "Mean Group 1: 0.14324798466666666\n",
      "Mean Group 2: 0.21079198159770116\n",
      "Normality Check: (0.8466210961341858, 1.6525716262094647e-07)\n",
      "Normality Check: (0.8402353525161743, 2.9145654778517383e-08)\n",
      "Significance test (Wilcoxon): RanksumsResult(statistic=-2.849337507878849, pvalue=0.0043810378189598626)\n"
     ]
    }
   ],
   "source": [
    "# Study 1: Does organizing security patterns focus architectural choices?\n",
    "# Efficiency (original paper)\n",
    "# Read in data; we assume having just the two relevant columns, i.e., Group and Values\n",
    "data = pd.read_csv('SecurityPatternsOnlyRelevantDataEfficiency.csv',sep=';',decimal='.')\n",
    "\n",
    "group1 = data[data.Group == 1]\n",
    "group1 = group1.drop('Group', axis = 1)\n",
    "group1.reset_index(inplace=True, drop=True)\n",
    "\n",
    "group2 = data[data.Group == 2]\n",
    "group2 = group2.drop('Group', axis = 1)\n",
    "group2.reset_index(inplace=True, drop=True)\n",
    "\n",
    "print('Mean Group 1:',statistics.mean(group1.Values))\n",
    "print('Mean Group 2:',statistics.mean(group2.Values))\n",
    "\n",
    "print('Normality Check:',stats.shapiro(group1))\n",
    "print('Normality Check:',stats.shapiro(group2))\n",
    "print('Significance test (Wilcoxon):',stats.ranksums(group1, group2))"
   ]
  },
  {
   "cell_type": "code",
   "execution_count": 3,
   "metadata": {},
   "outputs": [
    {
     "name": "stdout",
     "output_type": "stream",
     "text": [
      "Mean Number of Caught Misuse Cases (with patterns): 8.03125\n",
      "Mean Number of Caught Misuse Cases (no patterns): 6.625\n",
      "Significance test (Wilcoxon): RanksumsResult(statistic=1.8663743904652719, pvalue=0.06198900352317222)\n",
      "\n",
      "\n",
      "Mean Number of Correctness (with patterns): 4.09375\n",
      "Mean Number of Correctness (no patterns): 3\n",
      "Significance test (Wilcoxon): RanksumsResult(statistic=3.5246278956628334, pvalue=0.00042407804151509186)\n",
      "\n",
      "\n",
      "Significance test (Wilcoxon) B (misuse cases): RanksumsResult(statistic=1.557461211615052, pvalue=0.1193610229091287)\n",
      "Significance test (Wilcoxon) C (misuse cases): RanksumsResult(statistic=1.1495120012027238, pvalue=0.2503449209783549)\n",
      "Significance test (Wilcoxon) D (misuse cases): RanksumsResult(statistic=0.9251872672604672, pvalue=0.3548685054869629)\n",
      "Significance test (Wilcoxon) E (misuse cases): RanksumsResult(statistic=0.18844459036110225, pvalue=0.8505281477251081)\n",
      "Significance test (Wilcoxon) F (misuse cases): RanksumsResult(statistic=0.5887963117081294, pvalue=0.5559979203373258)\n",
      "Significance test (Wilcoxon) G (misuse cases): RanksumsResult(statistic=0.9440686400617012, pvalue=0.3451345734172193)\n",
      "\n",
      "\n",
      "Significance test (Wilcoxon) B (correctness): RanksumsResult(statistic=0.3608751587888535, pvalue=0.7181927744281571)\n",
      "Significance test (Wilcoxon) C (correctness): RanksumsResult(statistic=2.977424527705416, pvalue=0.0029068120222267763)\n",
      "Significance test (Wilcoxon) D (correctness): RanksumsResult(statistic=0.8496617760555312, pvalue=0.3955131555639412)\n",
      "Significance test (Wilcoxon) E (correctness): RanksumsResult(statistic=1.8090680674665818, pvalue=0.07044042927208799)\n",
      "Significance test (Wilcoxon) F (correctness): RanksumsResult(statistic=1.1016189057765002, pvalue=0.27062738558725763)\n",
      "Significance test (Wilcoxon) G (correctness): RanksumsResult(statistic=1.529391196899956, pvalue=0.12616749346383302)\n"
     ]
    }
   ],
   "source": [
    "# Do security patterns really help designers?\n",
    "\n",
    "# FDR-correction for p values reported by the authors for correctness\n",
    "# 0.691 -> 6/6*0.05 = 0.05\n",
    "# 0.367 -> 5/6*0.05 = 0.042\n",
    "# 0.185 -> 4/6*0.05 = 0.033\n",
    "# 0.101 -> 3/6*0.05 = 0.025\n",
    "# 0.037 -> 2/6*0.05 = 0.017 (not significant)\n",
    "# 0.001 -> 1/6*0.05 = 0.008 (only this one is significant)\n",
    "\n",
    "# Correctness and number of covered misuse cases\n",
    "data = pd.read_csv('Do security patterns really help designers/security.csv',sep=',',decimal='.')\n",
    "\n",
    "group1 = data[data.patterns == 'Y']\n",
    "group1 = group1.drop('patterns', axis = 1)\n",
    "group1.reset_index(inplace=True, drop=True)\n",
    "group1AggSum = group1.groupby(['Code']).sum()\n",
    "\n",
    "group2 = data[data.patterns == 'N']\n",
    "group2 = group2.drop('patterns', axis = 1)\n",
    "group2.reset_index(inplace=True, drop=True)\n",
    "group2AggSum = group2.groupby(['Code']).sum()\n",
    "\n",
    "print('Mean Number of Caught Misuse Cases (with patterns):',statistics.mean(group1AggSum.ncovered))\n",
    "print('Mean Number of Caught Misuse Cases (no patterns):',statistics.mean(group2AggSum.ncovered))\n",
    "print('Significance test (Wilcoxon):',stats.ranksums(group1AggSum.ncovered, group2AggSum.ncovered))\n",
    "print(\"\\n\")\n",
    "print('Mean Number of Correctness (with patterns):',statistics.mean(group1AggSum.correctness))\n",
    "print('Mean Number of Correctness (no patterns):',statistics.mean(group2AggSum.correctness))\n",
    "print('Significance test (Wilcoxon):',stats.ranksums(group1AggSum.correctness, group2AggSum.correctness))\n",
    "print(\"\\n\")\n",
    "\n",
    "# rerun the analysis of the authors per task\n",
    "group1 = data[data.patterns == 'Y']\n",
    "group1B = group1[group1.taskID == 'B']\n",
    "group1C = group1[group1.taskID == 'C']\n",
    "group1D = group1[group1.taskID == 'D']\n",
    "group1E = group1[group1.taskID == 'E']\n",
    "group1F = group1[group1.taskID == 'F']\n",
    "group1G = group1[group1.taskID == 'G']\n",
    "group1B.reset_index(inplace=True, drop=True)\n",
    "group1C.reset_index(inplace=True, drop=True)\n",
    "group1D.reset_index(inplace=True, drop=True)\n",
    "group1E.reset_index(inplace=True, drop=True)\n",
    "group1F.reset_index(inplace=True, drop=True)\n",
    "group1G.reset_index(inplace=True, drop=True)\n",
    "\n",
    "group2 = data[data.patterns == 'N']\n",
    "group2B = group2[group2.taskID == 'B']\n",
    "group2C = group2[group2.taskID == 'C']\n",
    "group2D = group2[group2.taskID == 'D']\n",
    "group2E = group2[group2.taskID == 'E']\n",
    "group2F = group2[group2.taskID == 'F']\n",
    "group2G = group2[group2.taskID == 'G']\n",
    "group2B.reset_index(inplace=True, drop=True)\n",
    "group2C.reset_index(inplace=True, drop=True)\n",
    "group2D.reset_index(inplace=True, drop=True)\n",
    "group2E.reset_index(inplace=True, drop=True)\n",
    "group2F.reset_index(inplace=True, drop=True)\n",
    "group2G.reset_index(inplace=True, drop=True)\n",
    "\n",
    "print('Significance test (Wilcoxon) B (misuse cases):',stats.ranksums(group1B.ncovered, group2B.ncovered))\n",
    "print('Significance test (Wilcoxon) C (misuse cases):',stats.ranksums(group1C.ncovered, group2C.ncovered))\n",
    "print('Significance test (Wilcoxon) D (misuse cases):',stats.ranksums(group1D.ncovered, group2D.ncovered))\n",
    "print('Significance test (Wilcoxon) E (misuse cases):',stats.ranksums(group1E.ncovered, group2E.ncovered))\n",
    "print('Significance test (Wilcoxon) F (misuse cases):',stats.ranksums(group1F.ncovered, group2F.ncovered))\n",
    "print('Significance test (Wilcoxon) G (misuse cases):',stats.ranksums(group1G.ncovered, group2G.ncovered))\n",
    "print(\"\\n\")\n",
    "print('Significance test (Wilcoxon) B (correctness):',stats.ranksums(group1B.correctness, group2B.correctness))\n",
    "print('Significance test (Wilcoxon) C (correctness):',stats.ranksums(group1C.correctness, group2C.correctness))\n",
    "print('Significance test (Wilcoxon) D (correctness):',stats.ranksums(group1D.correctness, group2D.correctness))\n",
    "print('Significance test (Wilcoxon) E (correctness):',stats.ranksums(group1E.correctness, group2E.correctness))\n",
    "print('Significance test (Wilcoxon) F (correctness):',stats.ranksums(group1F.correctness, group2F.correctness))\n",
    "print('Significance test (Wilcoxon) G (correctness):',stats.ranksums(group1G.correctness, group2G.correctness))"
   ]
  },
  {
   "cell_type": "code",
   "execution_count": 6,
   "metadata": {},
   "outputs": [
    {
     "data": {
      "text/plain": [
       "257"
      ]
     },
     "execution_count": 6,
     "metadata": {},
     "output_type": "execute_result"
    }
   ],
   "source": [
    "sum(group1AggSum.ncovered)"
   ]
  },
  {
   "cell_type": "code",
   "execution_count": 93,
   "metadata": {},
   "outputs": [
    {
     "name": "stdout",
     "output_type": "stream",
     "text": [
      "Time (with patterns): 10102.125\n",
      "Time (no patterns): 8716.34375\n",
      "Normality Check: (0.9436916708946228, 0.09532733261585236)\n",
      "Normality Check: (0.9610158801078796, 0.2927635908126831)\n",
      "Significance test (t-test): Ttest_indResult(statistic=1.2421792065484774, pvalue=0.21884861096861943)\n"
     ]
    }
   ],
   "source": [
    "# Do security patterns really help designers?\n",
    "# Time (our paper), resp. Productivity (original paper)\n",
    "data = pd.read_csv('Do security patterns really help designers/time.csv',sep=',',decimal='.')\n",
    "\n",
    "group1 = data[data.patterns == 'Y']\n",
    "group1 = group1.drop('patterns', axis = 1)\n",
    "group1.reset_index(inplace=True, drop=True)\n",
    "group1AggSum = group1.groupby(['Code']).sum()\n",
    "\n",
    "group2 = data[data.patterns == 'N']\n",
    "group2 = group2.drop('patterns', axis = 1)\n",
    "group2.reset_index(inplace=True, drop=True)\n",
    "group2AggSum = group2.groupby(['Code']).sum()\n",
    "\n",
    "print('Time (with patterns):',statistics.mean(group1AggSum.time))\n",
    "print('Time (no patterns):',statistics.mean(group2AggSum.time))\n",
    "\n",
    "print('Normality Check:',stats.shapiro(group1AggSum.time))\n",
    "print('Normality Check:',stats.shapiro(group2AggSum.time))\n",
    "\n",
    "print('Significance test (t-test):',stats.ttest_ind(group1AggSum.time, group2AggSum.time))\n",
    "\n",
    "# rerun the analysis of the authors per task\n",
    "group1 = data[data.patterns == 'Y']\n",
    "group1B = group1[group1.taskID == 'B']\n",
    "group1C = group1[group1.taskID == 'C']\n",
    "group1D = group1[group1.taskID == 'D']\n",
    "group1E = group1[group1.taskID == 'E']\n",
    "group1F = group1[group1.taskID == 'F']\n",
    "group1G = group1[group1.taskID == 'G']\n",
    "group1B.reset_index(inplace=True, drop=True)\n",
    "group1C.reset_index(inplace=True, drop=True)\n",
    "group1D.reset_index(inplace=True, drop=True)\n",
    "group1E.reset_index(inplace=True, drop=True)\n",
    "group1F.reset_index(inplace=True, drop=True)\n",
    "group1G.reset_index(inplace=True, drop=True)\n",
    "print('Normality Check Y/B:',stats.shapiro(group1B.time[np.isfinite(group1B.time)]))\n",
    "print('Normality Check Y/C:',stats.shapiro(group1C.time[np.isfinite(group1C.time)]))\n",
    "print('Normality Check Y/D:',stats.shapiro(group1D.time[np.isfinite(group1D.time)]))\n",
    "print('Normality Check Y/E:',stats.shapiro(group1E.time[np.isfinite(group1E.time)]))\n",
    "print('Normality Check Y/F:',stats.shapiro(group1F.time[np.isfinite(group1F.time)]))\n",
    "print('Normality Check Y/G:',stats.shapiro(group1G.time[np.isfinite(group1G.time)]))\n",
    "print(\"\\n\")\n",
    "group2 = data[data.patterns == 'N']\n",
    "group2B = group2[group2.taskID == 'B']\n",
    "group2C = group2[group2.taskID == 'C']\n",
    "group2D = group2[group2.taskID == 'D']\n",
    "group2E = group2[group2.taskID == 'E']\n",
    "group2F = group2[group2.taskID == 'F']\n",
    "group2G = group2[group2.taskID == 'G']\n",
    "group2B.reset_index(inplace=True, drop=True)\n",
    "group2C.reset_index(inplace=True, drop=True)\n",
    "group2D.reset_index(inplace=True, drop=True)\n",
    "group2E.reset_index(inplace=True, drop=True)\n",
    "group2F.reset_index(inplace=True, drop=True)\n",
    "group2G.reset_index(inplace=True, drop=True)\n",
    "print('Normality Check N/B:',stats.shapiro(group2B.time[np.isfinite(group2B.time)]))\n",
    "print('Normality Check N/C:',stats.shapiro(group2C.time[np.isfinite(group2C.time)]))\n",
    "print('Normality Check N/D:',stats.shapiro(group2D.time[np.isfinite(group2D.time)]))\n",
    "print('Normality Check N/E:',stats.shapiro(group2E.time[np.isfinite(group2E.time)]))\n",
    "print('Normality Check N/F:',stats.shapiro(group2F.time[np.isfinite(group2F.time)]))\n",
    "print('Normality Check N/G:',stats.shapiro(group2G.time[np.isfinite(group2G.time)]))\n",
    "print(\"\\n\")\n",
    "print('Significance test (Wilcoxon) B:',stats.ranksums(group1B.time, group2B.time))\n",
    "print('Significance test (Wilcoxon) C:',stats.ranksums(group1C.time, group2C.time))\n",
    "print('Significance test (Wilcoxon) D:',stats.ranksums(group1D.time, group2D.time))\n",
    "print('Significance test (Wilcoxon) E:',stats.ranksums(group1E.time, group2E.time))\n",
    "print('Significance test (Wilcoxon) F:',stats.ranksums(group1F.time, group2F.time))\n",
    "print('Significance test (Wilcoxon) G:',stats.ranksums(group1G.time, group2G.time))"
   ]
  },
  {
   "cell_type": "code",
   "execution_count": 16,
   "metadata": {},
   "outputs": [
    {
     "name": "stdout",
     "output_type": "stream",
     "text": [
      "Mean Group idef, static: 554.1190476190476\n",
      "Mean Group color, static: 352.8636363636364\n",
      "Mean Group ifdef, maintenance: 515.9880952380952\n",
      "Mean Group color, maintenance: 657.125\n",
      "Normality Check: (0.9590693712234497, 0.4975792467594147)\n",
      "Normality Check: (0.9600026607513428, 0.5161784291267395)\n",
      "Normality Check: (0.9510636329650879, 0.331510066986084)\n",
      "Normality Check: (0.9457451105117798, 0.25947996973991394)\n",
      "Significance test (t test): Ttest_indResult(statistic=array([3.93815022]), pvalue=array([0.00031169]))\n",
      "Significance test (t test): Ttest_indResult(statistic=array([-2.49144762]), pvalue=array([0.01686067]))\n"
     ]
    }
   ],
   "source": [
    "# Study 2: Do background colors improve program comprehension in the #ifdef hell?\n",
    "\n",
    "# Read data\n",
    "colorsTime = pd.read_csv('backgroundcolorsTime.csv',sep=';',decimal='.')\n",
    "# get the group with the colors\n",
    "groupCS = colorsTime[colorsTime.Group == 'color']\n",
    "# drop the maintenance tasks\n",
    "groupCS = groupCS.drop('M', axis = 1)\n",
    "# drop the group\n",
    "groupCS = groupCS.drop('Group', axis = 1)\n",
    "# abbreviation: groupCS: data of the group with background colors (C); only static tasks (S)\n",
    "\n",
    "groupCM = colorsTime[colorsTime.Group == 'color']\n",
    "groupCM = groupCM.drop('S', axis = 1)\n",
    "groupCM = groupCM.drop('Group', axis = 1)\n",
    "\n",
    "groupIS = colorsTime[colorsTime.Group == 'ifdef']\n",
    "groupIS = groupIS.drop('M', axis = 1)\n",
    "groupIS = groupIS.drop('Group', axis = 1)\n",
    "\n",
    "groupIM = colorsTime[colorsTime.Group == 'ifdef']\n",
    "groupIM = groupIM.drop('S', axis = 1)\n",
    "groupIM = groupIM.drop('Group', axis = 1)\n",
    "\n",
    "print('Mean Group idef, static:',statistics.mean(groupIS.S.values))\n",
    "print('Mean Group color, static:',statistics.mean(groupCS.S.values))\n",
    "print('Mean Group ifdef, maintenance:',statistics.mean(groupIM.M.values))\n",
    "print('Mean Group color, maintenance:',statistics.mean(groupCM.M.values))\n",
    "\n",
    "print('Normality Check:',shapiro(groupIM))\n",
    "print('Normality Check:',shapiro(groupIS))\n",
    "print('Normality Check:',shapiro(groupCM))\n",
    "print('Normality Check:',shapiro(groupCS))\n",
    "\n",
    "\n",
    "print('Significance test (t test):',stats.ttest_ind(groupIS, groupCS))\n",
    "print('Significance test (t test):',stats.ttest_ind(groupIM, groupCM))"
   ]
  },
  {
   "cell_type": "code",
   "execution_count": 17,
   "metadata": {},
   "outputs": [
    {
     "name": "stdout",
     "output_type": "stream",
     "text": [
      "Significance test(chi^2), static: (1.1443511772780082, 0.2847347757810025, 1, array([[23.02325581, 21.97674419],\n",
      "       [20.97674419, 20.02325581]]))\n",
      "Significance test(chi^2), maintenace: (3.5158688640146414, 0.060783777832451834, 1, array([[70.60465116, 67.39534884],\n",
      "       [17.39534884, 16.60465116]]))\n"
     ]
    }
   ],
   "source": [
    "# Study 2: Do background colors improve program comprehension in the #ifdef hell?\n",
    "# correctness\n",
    "\n",
    "#Created contingency table for correctness of static and maintenance tasks\n",
    "# according to Figure 5 of the paper; sum up all values of correctness and incorrectness\n",
    "# for static tasks, and the same for maintenance tasks\n",
    "static = np.array([[26,19],[18,23]])\n",
    "maintenance = np.array([[76,62],[12,22]])\n",
    "\n",
    "# then run the chi^2 tests for both contingency tables\n",
    "print('Significance test(chi^2), static:',stats.chi2_contingency(static))\n",
    "print('Significance test(chi^2), maintenace:',stats.chi2_contingency(maintenance))"
   ]
  },
  {
   "cell_type": "code",
   "execution_count": 20,
   "metadata": {},
   "outputs": [
    {
     "name": "stdout",
     "output_type": "stream",
     "text": [
      "Significance test(chi^2) (198.16281320517598, 1.557871842431496e-38, 8, array([[89.07614213, 45.23181049, 29.69204738],\n",
      "       [59.74619289, 30.33840948, 19.91539763],\n",
      "       [70.60913706, 35.85448393, 23.53637902],\n",
      "       [41.82233503, 21.23688663, 13.94077834],\n",
      "       [59.74619289, 30.33840948, 19.91539763]]))\n"
     ]
    }
   ],
   "source": [
    "#Study 3: Do Developers Read Compiler Error Messages?\n",
    "\n",
    "# Create contingency table for correctness/incorrectness/timout (according to Table 2 of original paper)\n",
    "correctness = np.array([[31,98,35],[66,10,34],[104,25,1],[50,2,25],[70,28,12]])\n",
    "print('Significance test(chi^2)',stats.chi2_contingency(correctness))"
   ]
  },
  {
   "cell_type": "code",
   "execution_count": 21,
   "metadata": {},
   "outputs": [
    {
     "name": "stdout",
     "output_type": "stream",
     "text": [
      "Signifance tests (ANOVA): F_onewayResult(statistic=4.624386369675644e-05, pvalue=0.9999999948680551)\n"
     ]
    }
   ],
   "source": [
    "#Study 3: Do Developers Read Compiler Error Messages?\n",
    "\n",
    "# Create contingency table for correctness/incorrectness/timout (according to Table 2 of original paper)\n",
    "Semantic = np.array([70.66666667,19.66666667,9.333333333])\n",
    "Dependency = np.array([76.5,14.5,8.5])\n",
    "Typemismatch =np.array([66.5,24,10])\n",
    "Syntax =np.array([65,20,15])\n",
    "Other =np.array([73,16,11])\n",
    "\n",
    "print('Signifance tests (ANOVA):',stats.f_oneway(Semantic,Dependency,Typemismatch,Syntax,Other))"
   ]
  }
 ],
 "metadata": {
  "kernelspec": {
   "display_name": "Python 3",
   "language": "python",
   "name": "python3"
  },
  "language_info": {
   "codemirror_mode": {
    "name": "ipython",
    "version": 3
   },
   "file_extension": ".py",
   "mimetype": "text/x-python",
   "name": "python",
   "nbconvert_exporter": "python",
   "pygments_lexer": "ipython3",
   "version": "3.6.5"
  }
 },
 "nbformat": 4,
 "nbformat_minor": 2
}
