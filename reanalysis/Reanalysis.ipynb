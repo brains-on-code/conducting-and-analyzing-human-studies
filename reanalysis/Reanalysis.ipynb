{
 "cells": [
  {
   "cell_type": "code",
   "execution_count": 5,
   "metadata": {},
   "outputs": [],
   "source": [
    "# Import relevant packages\n",
    "import pandas as pd\n",
    "import numpy as np\n",
    "import scipy\n",
    "import statistics"
   ]
  },
  {
   "cell_type": "code",
   "execution_count": 9,
   "metadata": {},
   "outputs": [
    {
     "name": "stdout",
     "output_type": "stream",
     "text": [
      "Mean Group 1: 1483.8095238095239\n",
      "Mean Group 2: 1763.534090909091\n",
      "Normality Check: (0.9216144680976868, 7.67596357036382e-05)\n",
      "Normality Check: (0.6352300047874451, 1.84106243163e-13)\n",
      "Significance test (Wilcoxon): RanksumsResult(statistic=-1.1502613669820627, pvalue=0.25003623757007165)\n"
     ]
    }
   ],
   "source": [
    "# Study 1: Does organizing security patterns focus architectural choices?\n",
    "# Time (our paper), resp. Effort (original paper)\n",
    "# Read in data; we assume having just the two relevant columns, i.e., Group and Sum\n",
    "data = pd.read_csv('SecurityPatternsOnlyRelevantData.csv',sep=';',decimal='.')\n",
    "\n",
    "group1 = data[data.Group == 1]\n",
    "group1 = group1.drop('Group', axis = 1)\n",
    "\n",
    "group2 = data[data.Group == 2]\n",
    "group2 = group2.drop('Group', axis = 1)\n",
    "\n",
    "print('Mean Group 1:',statistics.mean(group1.Sum))\n",
    "print('Mean Group 2:',statistics.mean(group2.Sum))\n",
    "\n",
    "print('Normality Check:',scipy.stats.shapiro(group1))\n",
    "print('Normality Check:',scipy.stats.shapiro(group2))\n",
    "print('Significance test (Wilcoxon):',scipy.stats.ranksums(group1, group2))"
   ]
  },
  {
   "cell_type": "code",
   "execution_count": 12,
   "metadata": {},
   "outputs": [
    {
     "name": "stdout",
     "output_type": "stream",
     "text": [
      "Mean Group 1: 0.14324798466666666\n",
      "Mean Group 2: 0.21079198159770116\n",
      "Normality Check: (0.8466210961341858, 1.6525716262094647e-07)\n",
      "Normality Check: (0.8402353525161743, 2.9145654778517383e-08)\n",
      "Significance test (Wilcoxon): RanksumsResult(statistic=-2.849337507878849, pvalue=0.0043810378189598626)\n"
     ]
    }
   ],
   "source": [
    "# Study 1: Does organizing security patterns focus architectural choices?\n",
    "# Efficiency (original paper)\n",
    "# Read in data; we assume having just the two relevant columns, i.e., Group and Values\n",
    "data = pd.read_csv('SecurityPatternsOnlyRelevantDataEfficiency.csv',sep=';',decimal='.')\n",
    "\n",
    "group1 = data[data.Group == 1]\n",
    "group1 = group1.drop('Group', axis = 1)\n",
    "group1.reset_index(inplace=True, drop=True)\n",
    "\n",
    "group2 = data[data.Group == 2]\n",
    "group2 = group2.drop('Group', axis = 1)\n",
    "group2.reset_index(inplace=True, drop=True)\n",
    "\n",
    "print('Mean Group 1:',statistics.mean(group1.Values))\n",
    "print('Mean Group 2:',statistics.mean(group2.Values))\n",
    "\n",
    "print('Normality Check:',scipy.stats.shapiro(group1))\n",
    "print('Normality Check:',scipy.stats.shapiro(group2))\n",
    "print('Significance test (Wilcoxon):',scipy.stats.ranksums(group1, group2))"
   ]
  },
  {
   "cell_type": "code",
   "execution_count": 16,
   "metadata": {},
   "outputs": [
    {
     "name": "stdout",
     "output_type": "stream",
     "text": [
      "Mean Group idef, static: 554.1190476190476\n",
      "Mean Group color, static: 352.8636363636364\n",
      "Mean Group ifdef, maintenance: 515.9880952380952\n",
      "Mean Group color, maintenance: 657.125\n",
      "Normality Check: (0.9590693712234497, 0.4975792467594147)\n",
      "Normality Check: (0.9600026607513428, 0.5161784291267395)\n",
      "Normality Check: (0.9510636329650879, 0.331510066986084)\n",
      "Normality Check: (0.9457451105117798, 0.25947996973991394)\n",
      "Significance test (t test): Ttest_indResult(statistic=array([3.93815022]), pvalue=array([0.00031169]))\n",
      "Significance test (t test): Ttest_indResult(statistic=array([-2.49144762]), pvalue=array([0.01686067]))\n"
     ]
    }
   ],
   "source": [
    "# Study 2: Do background colors improve program comprehension in the #ifdef hell?\n",
    "\n",
    "# Read data\n",
    "colorsTime = pd.read_csv('backgroundcolorsTime.csv',sep=';',decimal='.')\n",
    "# get the group with the colors\n",
    "groupCS = colorsTime[colorsTime.Group == 'color']\n",
    "# drop the maintenance tasks\n",
    "groupCS = groupCS.drop('M', axis = 1)\n",
    "# drop the group\n",
    "groupCS = groupCS.drop('Group', axis = 1)\n",
    "# abbreviation: groupCS: data of the group with background colors (C); only static tasks (S)\n",
    "\n",
    "groupCM = colorsTime[colorsTime.Group == 'color']\n",
    "groupCM = groupCM.drop('S', axis = 1)\n",
    "groupCM = groupCM.drop('Group', axis = 1)\n",
    "\n",
    "groupIS = colorsTime[colorsTime.Group == 'ifdef']\n",
    "groupIS = groupIS.drop('M', axis = 1)\n",
    "groupIS = groupIS.drop('Group', axis = 1)\n",
    "\n",
    "groupIM = colorsTime[colorsTime.Group == 'ifdef']\n",
    "groupIM = groupIM.drop('S', axis = 1)\n",
    "groupIM = groupIM.drop('Group', axis = 1)\n",
    "\n",
    "print('Mean Group idef, static:',statistics.mean(groupIS.S.values))\n",
    "print('Mean Group color, static:',statistics.mean(groupCS.S.values))\n",
    "print('Mean Group ifdef, maintenance:',statistics.mean(groupIM.M.values))\n",
    "print('Mean Group color, maintenance:',statistics.mean(groupCM.M.values))\n",
    "\n",
    "print('Normality Check:',shapiro(groupIM))\n",
    "print('Normality Check:',shapiro(groupIS))\n",
    "print('Normality Check:',shapiro(groupCM))\n",
    "print('Normality Check:',shapiro(groupCS))\n",
    "\n",
    "\n",
    "print('Significance test (t test):',scipy.stats.ttest_ind(groupIS, groupCS))\n",
    "print('Significance test (t test):',scipy.stats.ttest_ind(groupIM, groupCM))"
   ]
  },
  {
   "cell_type": "code",
   "execution_count": 17,
   "metadata": {},
   "outputs": [
    {
     "name": "stdout",
     "output_type": "stream",
     "text": [
      "Significance test(chi^2), static: (1.1443511772780082, 0.2847347757810025, 1, array([[23.02325581, 21.97674419],\n",
      "       [20.97674419, 20.02325581]]))\n",
      "Significance test(chi^2), maintenace: (3.5158688640146414, 0.060783777832451834, 1, array([[70.60465116, 67.39534884],\n",
      "       [17.39534884, 16.60465116]]))\n"
     ]
    }
   ],
   "source": [
    "# Study 2: Do background colors improve program comprehension in the #ifdef hell?\n",
    "# correctness\n",
    "\n",
    "#Created contingency table for correctness of static and maintenance tasks\n",
    "# according to Figure 5 of the paper; sum up all values of correctness and incorrectness\n",
    "# for static tasks, and the same for maintenance tasks\n",
    "static = np.array([[26,19],[18,23]])\n",
    "maintenance = np.array([[76,62],[12,22]])\n",
    "\n",
    "# then run the chi^2 tests for both contingency tables\n",
    "print('Significance test(chi^2), static:',scipy.stats.chi2_contingency(static))\n",
    "print('Significance test(chi^2), maintenace:',scipy.stats.chi2_contingency(maintenance))"
   ]
  },
  {
   "cell_type": "code",
   "execution_count": 20,
   "metadata": {},
   "outputs": [
    {
     "name": "stdout",
     "output_type": "stream",
     "text": [
      "Significance test(chi^2) (198.16281320517598, 1.557871842431496e-38, 8, array([[89.07614213, 45.23181049, 29.69204738],\n",
      "       [59.74619289, 30.33840948, 19.91539763],\n",
      "       [70.60913706, 35.85448393, 23.53637902],\n",
      "       [41.82233503, 21.23688663, 13.94077834],\n",
      "       [59.74619289, 30.33840948, 19.91539763]]))\n"
     ]
    }
   ],
   "source": [
    "#Study 3: Do Developers Read Compiler Error Messages?\n",
    "\n",
    "# Create contingency table for correctness/incorrectness/timout (according to Table 2 of original paper)\n",
    "correctness = np.array([[31,98,35],[66,10,34],[104,25,1],[50,2,25],[70,28,12]])\n",
    "print('Significance test(chi^2)',scipy.stats.chi2_contingency(correctness))"
   ]
  },
  {
   "cell_type": "code",
   "execution_count": 21,
   "metadata": {},
   "outputs": [
    {
     "name": "stdout",
     "output_type": "stream",
     "text": [
      "Signifance tests (ANOVA): F_onewayResult(statistic=4.624386369675644e-05, pvalue=0.9999999948680551)\n"
     ]
    }
   ],
   "source": [
    "#Study 3: Do Developers Read Compiler Error Messages?\n",
    "\n",
    "# Create contingency table for correctness/incorrectness/timout (according to Table 2 of original paper)\n",
    "Semantic = np.array([70.66666667,19.66666667,9.333333333])\n",
    "Dependency = np.array([76.5,14.5,8.5])\n",
    "Typemismatch =np.array([66.5,24,10])\n",
    "Syntax =np.array([65,20,15])\n",
    "Other =np.array([73,16,11])\n",
    "\n",
    "print('Signifance tests (ANOVA):',scipy.stats.f_oneway(Semantic,Dependency,Typemismatch,Syntax,Other))"
   ]
  }
 ],
 "metadata": {
  "kernelspec": {
   "display_name": "Python 3",
   "language": "python",
   "name": "python3"
  },
  "language_info": {
   "codemirror_mode": {
    "name": "ipython",
    "version": 3
   },
   "file_extension": ".py",
   "mimetype": "text/x-python",
   "name": "python",
   "nbconvert_exporter": "python",
   "pygments_lexer": "ipython3",
   "version": "3.6.5"
  }
 },
 "nbformat": 4,
 "nbformat_minor": 2
}
