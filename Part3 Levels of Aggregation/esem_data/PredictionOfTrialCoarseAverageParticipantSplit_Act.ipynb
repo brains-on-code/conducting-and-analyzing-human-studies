{
 "cells": [
  {
   "cell_type": "code",
   "execution_count": 1,
   "metadata": {},
   "outputs": [],
   "source": [
    "# Pandas is used for data manipulation\n",
    "import pandas as pd\n",
    "import numpy as np\n",
    "\n",
    "# Read in data\n",
    "z_data = pd.read_csv('esem_act_deact_zscore_groups.csv',sep=';',decimal='.')\n",
    "\n",
    "# Remove irrelevant columns\n",
    "z_data.drop(list(z_data.filter(regex = '_deact')),axis = 1, inplace = True)\n",
    "z_data.drop(list(z_data.filter(regex = 'aggr')),axis = 1, inplace = True)\n",
    "\n",
    "# === drop all columns that are not necessary for learning =====================================\n",
    "z_data = z_data.drop('scan', axis = 1)\n",
    "z_data = z_data.drop('trial', axis = 1)\n",
    "z_data = z_data.drop('snippet', axis = 1)\n",
    "z_data = z_data.drop('response', axis = 1)\n",
    "\n",
    "#=== now create the different groups and compute the groupwise mean ============================\n",
    "grouped = z_data.groupby(['proband', 'task'])\n",
    "groupedAgg = grouped.aggregate(np.mean)\n",
    "labels = groupedAgg.index.get_level_values(level='task')\n",
    "#=== end aggregation ===========================================================================\n",
    "\n",
    "# Saving feature names for later use\n",
    "feature_list = list(groupedAgg.columns)\n",
    "# Convert to numpy array\n",
    "features = np.array(groupedAgg)\n",
    "labels = np.array(labels)\n",
    "\n",
    "\n",
    "numLabels = 3 # num of different labels (comprehension and rest)\n",
    "sizeTrainSet = 13 # num of participants used for training\n",
    "sizeTestSet = 4 # num participants used for testing\n",
    "numParticipants = sizeTrainSet + sizeTestSet\n",
    "\n",
    "#get the rows excluding the last indexed (i.e., row with the index 35 is the last to include)\n",
    "training_features = features[0:numLabels*sizeTrainSet]\n",
    "training_features = np.array(training_features)\n",
    "testing_features = features[numLabels*sizeTrainSet:numLabels*numParticipants]\n",
    "testing_features = np.array(testing_features)\n",
    "\n",
    "training_target = labels[0:numLabels*sizeTrainSet]\n",
    "training_target = np.array(training_target)\n",
    "testing_target = labels[numLabels*sizeTrainSet:numLabels*numParticipants]\n",
    "testing_target = np.array(testing_target)"
   ]
  },
  {
   "cell_type": "code",
   "execution_count": 2,
   "metadata": {},
   "outputs": [
    {
     "name": "stdout",
     "output_type": "stream",
     "text": [
      "51\n",
      "(39, 1606)\n",
      "(12, 1606)\n",
      "(39,)\n",
      "(12,)\n"
     ]
    }
   ],
   "source": [
    "print(numLabels*numParticipants)\n",
    "\n",
    "print(training_features.shape)\n",
    "print(testing_features.shape)\n",
    "print(training_target.shape)\n",
    "print(testing_target.shape)"
   ]
  },
  {
   "cell_type": "code",
   "execution_count": 2,
   "metadata": {},
   "outputs": [
    {
     "name": "stderr",
     "output_type": "stream",
     "text": [
      "C:\\Users\\author\\Anaconda3\\lib\\site-packages\\deap\\tools\\_hypervolume\\pyhv.py:33: ImportWarning: Falling back to the python version of hypervolume module. Expect this to be very slow.\n",
      "  \"module. Expect this to be very slow.\", ImportWarning)\n",
      "C:\\Users\\author\\Anaconda3\\lib\\importlib\\_bootstrap.py:219: ImportWarning: can't resolve package from __spec__ or __package__, falling back on __name__ and __path__\n",
      "  return f(*args, **kwds)\n",
      "C:\\Users\\author\\Anaconda3\\lib\\importlib\\_bootstrap.py:219: ImportWarning: can't resolve package from __spec__ or __package__, falling back on __name__ and __path__\n",
      "  return f(*args, **kwds)\n",
      "C:\\Users\\author\\Anaconda3\\lib\\importlib\\_bootstrap.py:219: ImportWarning: can't resolve package from __spec__ or __package__, falling back on __name__ and __path__\n",
      "  return f(*args, **kwds)\n",
      "C:\\Users\\author\\Anaconda3\\lib\\importlib\\_bootstrap_external.py:426: ImportWarning: Not importing directory C:\\Users\\author\\Anaconda3\\lib\\site-packages\\mpl_toolkits: missing __init__\n",
      "  _warnings.warn(msg.format(portions[0]), ImportWarning)\n",
      "C:\\Users\\author\\Anaconda3\\lib\\importlib\\_bootstrap_external.py:426: ImportWarning: Not importing directory c:\\users\\author\\anaconda3\\lib\\site-packages\\mpl_toolkits: missing __init__\n",
      "  _warnings.warn(msg.format(portions[0]), ImportWarning)\n",
      "C:\\Users\\author\\Anaconda3\\lib\\importlib\\_bootstrap.py:219: ImportWarning: can't resolve package from __spec__ or __package__, falling back on __name__ and __path__\n",
      "  return f(*args, **kwds)\n",
      "                                                                                                                       \r"
     ]
    },
    {
     "name": "stdout",
     "output_type": "stream",
     "text": [
      "\n"
     ]
    },
    {
     "name": "stderr",
     "output_type": "stream",
     "text": [
      "                                                                                                                       \r"
     ]
    },
    {
     "name": "stdout",
     "output_type": "stream",
     "text": [
      "\n",
      "TPOT closed prematurely. Will use the current best pipeline.\n"
     ]
    },
    {
     "name": "stderr",
     "output_type": "stream",
     "text": [
      "                                                                                                                       \r"
     ]
    },
    {
     "name": "stdout",
     "output_type": "stream",
     "text": [
      "\n",
      "Best pipeline: LogisticRegression(Binarizer(input_matrix, threshold=0.1), C=20.0, dual=True, penalty=l2)\n"
     ]
    },
    {
     "data": {
      "text/plain": [
       "True"
      ]
     },
     "execution_count": 2,
     "metadata": {},
     "output_type": "execute_result"
    }
   ],
   "source": [
    "from tpot import TPOTClassifier\n",
    "fileNameTPot = 'Act/tpot_mnist_pipeline_CoarseAverageParticipantSplit_Act'\n",
    "\n",
    "tpot = TPOTClassifier(generations=5, population_size=20, verbosity=2, n_jobs=20)\n",
    "tpot.fit(training_features, training_target)\n",
    "# print(tpot.score(testing_features, testing_target))\n",
    "tpot.export(fileNameTPot + '.py')"
   ]
  },
  {
   "cell_type": "code",
   "execution_count": 4,
   "metadata": {},
   "outputs": [],
   "source": [
    "with open(fileNameTPot + '.py') as f:\n",
    "    content = f.readlines()\n",
    "\n",
    "cleanedContent = []\n",
    "for line in content:\n",
    "    if 'tpot_data' not in line and 'training_target, testing_target' not in line:\n",
    "        cleanedContent.append(line)\n",
    "\n",
    "fileForLearning = fileNameTPot + '_cleaned.py'\n",
    "with open(fileForLearning, 'w') as filehandle:  \n",
    "    for line in cleanedContent:\n",
    "        filehandle.write('%s\\n' % line)"
   ]
  },
  {
   "cell_type": "code",
   "execution_count": 5,
   "metadata": {},
   "outputs": [],
   "source": [
    "import pdb\n",
    "# === 2 to 7 =============================================\n",
    "indecesTrain = []\n",
    "indecesTest = []\n",
    "for i in range(len(labels)):\n",
    "#     pdb.set_trace()\n",
    "    if i <= 2 or i >= 15:\n",
    "        indecesTrain.append(i)\n",
    "    else:\n",
    "        indecesTest.append(i)\n",
    "\n",
    "training_features = np.take(features,indecesTrain,axis=0)\n",
    "testing_features = np.take(features,indecesTest,axis=0)\n",
    "\n",
    "training_target = np.take(labels,indecesTrain,axis=0)\n",
    "testing_target = np.take(labels,indecesTest,axis=0)"
   ]
  },
  {
   "cell_type": "code",
   "execution_count": 6,
   "metadata": {},
   "outputs": [
    {
     "name": "stdout",
     "output_type": "stream",
     "text": [
      "39\n",
      "12\n"
     ]
    }
   ],
   "source": [
    "print(len(indecesTrain))\n",
    "print(len(indecesTest))"
   ]
  },
  {
   "cell_type": "code",
   "execution_count": 7,
   "metadata": {},
   "outputs": [],
   "source": [
    "%run -i $fileForLearning"
   ]
  },
  {
   "cell_type": "code",
   "execution_count": 8,
   "metadata": {},
   "outputs": [
    {
     "name": "stdout",
     "output_type": "stream",
     "text": [
      "Number of matches: 12 (of 12 )\n",
      "Accuary:  100.0\n"
     ]
    }
   ],
   "source": [
    "finalAccuracy = 0\n",
    "num_matches = 0;\n",
    "for a, b in zip(testing_target, results):\n",
    "    if a == b:\n",
    "        num_matches = num_matches + 1\n",
    "print('Number of matches:',num_matches,'(of',testing_target.size,')')\n",
    "\n",
    "accuracy = num_matches/testing_target.size*100\n",
    "print('Accuary: ',accuracy)\n",
    "\n",
    "if accuracy > finalAccuracy:\n",
    "    finalAccuracy = accuracy"
   ]
  },
  {
   "cell_type": "code",
   "execution_count": 9,
   "metadata": {},
   "outputs": [],
   "source": [
    "# === 4 to 9 =============================================\n",
    "indecesTrain = []\n",
    "indecesTest = []\n",
    "for i in range(len(labels)):\n",
    "    if i <= 8 or i >= 21:\n",
    "        indecesTrain.append(i)\n",
    "    else:\n",
    "        indecesTest.append(i)\n",
    "\n",
    "training_features = np.take(features,indecesTrain,axis=0)\n",
    "testing_features = np.take(features,indecesTest,axis=0)\n",
    "\n",
    "training_target = np.take(labels,indecesTrain,axis=0)\n",
    "testing_target = np.take(labels,indecesTest,axis=0)"
   ]
  },
  {
   "cell_type": "code",
   "execution_count": 10,
   "metadata": {},
   "outputs": [],
   "source": [
    "%run -i $fileForLearning"
   ]
  },
  {
   "cell_type": "code",
   "execution_count": 11,
   "metadata": {},
   "outputs": [
    {
     "name": "stdout",
     "output_type": "stream",
     "text": [
      "Number of matches: 12 (of 12 )\n",
      "Accuary:  100.0\n"
     ]
    }
   ],
   "source": [
    "num_matches = 0;\n",
    "for a, b in zip(testing_target, results):\n",
    "    if a == b:\n",
    "        num_matches = num_matches + 1\n",
    "print('Number of matches:',num_matches,'(of',testing_target.size,')')\n",
    "\n",
    "accuracy = num_matches/testing_target.size*100\n",
    "print('Accuary: ',accuracy)\n",
    "\n",
    "if accuracy > finalAccuracy:\n",
    "    finalAccuracy = accuracy"
   ]
  },
  {
   "cell_type": "code",
   "execution_count": 12,
   "metadata": {},
   "outputs": [],
   "source": [
    "# === 6 to 11 =============================================\n",
    "indecesTrain = []\n",
    "indecesTest = []\n",
    "for i in range(len(labels)):\n",
    "    if i <= 14 or i >= 27:\n",
    "        indecesTrain.append(i)\n",
    "    else:\n",
    "        indecesTest.append(i)\n",
    "\n",
    "training_features = np.take(features,indecesTrain,axis=0)\n",
    "testing_features = np.take(features,indecesTest,axis=0)\n",
    "\n",
    "training_target = np.take(labels,indecesTrain,axis=0)\n",
    "testing_target = np.take(labels,indecesTest,axis=0)\n"
   ]
  },
  {
   "cell_type": "code",
   "execution_count": 13,
   "metadata": {},
   "outputs": [],
   "source": [
    "%run -i $fileForLearning"
   ]
  },
  {
   "cell_type": "code",
   "execution_count": 14,
   "metadata": {},
   "outputs": [
    {
     "name": "stdout",
     "output_type": "stream",
     "text": [
      "Number of matches: 12 (of 12 )\n",
      "Accuary:  100.0\n"
     ]
    }
   ],
   "source": [
    "num_matches = 0;\n",
    "for a, b in zip(testing_target, results):\n",
    "    if a == b:\n",
    "        num_matches = num_matches + 1\n",
    "print('Number of matches:',num_matches,'(of',testing_target.size,')')\n",
    "\n",
    "accuracy = num_matches/testing_target.size*100\n",
    "print('Accuary: ',accuracy)\n",
    "\n",
    "if accuracy > finalAccuracy:\n",
    "    finalAccuracy = accuracy"
   ]
  },
  {
   "cell_type": "code",
   "execution_count": 15,
   "metadata": {},
   "outputs": [],
   "source": [
    "# === 8 to 13 =============================================\n",
    "indecesTrain = []\n",
    "indecesTest = []\n",
    "for i in range(len(labels)):\n",
    "    if i <= 20 or i >= 33:\n",
    "        indecesTrain.append(i)\n",
    "    else:\n",
    "        indecesTest.append(i)\n",
    "\n",
    "training_features = np.take(features,indecesTrain,axis=0)\n",
    "testing_features = np.take(features,indecesTest,axis=0)\n",
    "\n",
    "training_target = np.take(labels,indecesTrain,axis=0)\n",
    "testing_target = np.take(labels,indecesTest,axis=0)\n"
   ]
  },
  {
   "cell_type": "code",
   "execution_count": 16,
   "metadata": {},
   "outputs": [],
   "source": [
    "%run -i $fileForLearning"
   ]
  },
  {
   "cell_type": "code",
   "execution_count": 17,
   "metadata": {},
   "outputs": [
    {
     "name": "stdout",
     "output_type": "stream",
     "text": [
      "Number of matches: 11 (of 12 )\n",
      "Accuary:  91.66666666666666\n"
     ]
    }
   ],
   "source": [
    "num_matches = 0;\n",
    "for a, b in zip(testing_target, results):\n",
    "    if a == b:\n",
    "        num_matches = num_matches + 1\n",
    "print('Number of matches:',num_matches,'(of',testing_target.size,')')\n",
    "\n",
    "accuracy = num_matches/testing_target.size*100\n",
    "print('Accuary: ',accuracy)\n",
    "\n",
    "if accuracy > finalAccuracy:\n",
    "    finalAccuracy = accuracy"
   ]
  },
  {
   "cell_type": "code",
   "execution_count": 18,
   "metadata": {},
   "outputs": [],
   "source": [
    "# === 10 to 15 =============================================\n",
    "indecesTrain = []\n",
    "indecesTest = []\n",
    "for i in range(len(labels)):\n",
    "    if i <= 26 or i >= 39:\n",
    "        indecesTrain.append(i)\n",
    "    else:\n",
    "        indecesTest.append(i)\n",
    "\n",
    "training_features = np.take(features,indecesTrain,axis=0)\n",
    "testing_features = np.take(features,indecesTest,axis=0)\n",
    "\n",
    "training_target = np.take(labels,indecesTrain,axis=0)\n",
    "testing_target = np.take(labels,indecesTest,axis=0)\n"
   ]
  },
  {
   "cell_type": "code",
   "execution_count": 19,
   "metadata": {},
   "outputs": [],
   "source": [
    "%run -i $fileForLearning"
   ]
  },
  {
   "cell_type": "code",
   "execution_count": 20,
   "metadata": {},
   "outputs": [
    {
     "name": "stdout",
     "output_type": "stream",
     "text": [
      "Number of matches: 12 (of 12 )\n",
      "Accuary:  100.0\n"
     ]
    }
   ],
   "source": [
    "num_matches = 0;\n",
    "for a, b in zip(testing_target, results):\n",
    "    if a == b:\n",
    "        num_matches = num_matches + 1\n",
    "print('Number of matches:',num_matches,'(of',testing_target.size,')')\n",
    "\n",
    "accuracy = num_matches/testing_target.size*100\n",
    "print('Accuary: ',accuracy)\n",
    "\n",
    "if accuracy > finalAccuracy:\n",
    "    finalAccuracy = accuracy"
   ]
  },
  {
   "cell_type": "code",
   "execution_count": 21,
   "metadata": {},
   "outputs": [],
   "source": [
    "with open('listOfAccuracies.txt','a+') as f:\n",
    "    f.write('%s\\n' % 'Coarse_Act' + str(finalAccuracy) + '\\n')\n"
   ]
  }
 ],
 "metadata": {
  "kernelspec": {
   "display_name": "Python 3",
   "language": "python",
   "name": "python3"
  },
  "language_info": {
   "codemirror_mode": {
    "name": "ipython",
    "version": 3
   },
   "file_extension": ".py",
   "mimetype": "text/x-python",
   "name": "python",
   "nbconvert_exporter": "python",
   "pygments_lexer": "ipython3",
   "version": "3.6.5"
  }
 },
 "nbformat": 4,
 "nbformat_minor": 2
}
