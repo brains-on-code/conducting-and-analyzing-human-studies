{
 "cells": [
  {
   "cell_type": "code",
   "execution_count": 1,
   "metadata": {
    "scrolled": true
   },
   "outputs": [],
   "source": [
    "# Pandas is used for data manipulation\n",
    "import pandas as pd\n",
    "import numpy as np\n",
    "\n",
    "# Read in data and display first 5 rows\n",
    "z_data = pd.read_csv('data_task_groups_roi_deact.csv',sep=';',decimal='.')\n",
    "\n",
    "#== begin create labels =========================================================================\n",
    "#we need the list with the labels; everytime the label or proband changes, we add it to the list\n",
    "labels = []\n",
    "\n",
    "condition = z_data.at[0, 'task']\n",
    "participant = z_data.at[0, 'proband']\n",
    "    \n",
    "for i in range(len(z_data)):\n",
    "    if condition != z_data.at[i, 'task'] or participant != z_data.at[i, 'proband']:\n",
    "        if condition == 'C':\n",
    "            labels.append(0)\n",
    "        if condition == 'R':\n",
    "            labels.append(1)\n",
    "        if condition == 'S':\n",
    "            labels.append(2)\n",
    "        condition = z_data.at[i, 'task']\n",
    "        participant = z_data.at[i, 'proband']\n",
    "labels.append(1)\n",
    "#== end create labels =========================================================================\n",
    "\n",
    "#first, drop everything non-numeric ===========================================================\n",
    "z_data = z_data.drop('scan', axis = 1)\n",
    "z_data = z_data.drop('snippet', axis = 1)\n",
    "z_data = z_data.drop('response', axis = 1)\n",
    "\n",
    "#=== now create the different groups and compute the groupwise mean ============================\n",
    "grouped = z_data.groupby(['proband', 'trial','task'])\n",
    "groupedAgg = grouped.aggregate(np.mean)\n",
    "#=== end aggregation ===========================================================================\n",
    "\n",
    "#=== creating training and validation set ======================================================\n",
    "# Saving feature names for later use\n",
    "feature_list = list(groupedAgg.columns)\n",
    "\n",
    "# Convert to numpy array\n",
    "features = np.array(groupedAgg)\n",
    "labels = np.array(labels)\n",
    "\n",
    "#get the rows excluding the last indexed (i.e., row with the index 587 is the last to include)\n",
    "training_features = features[0:588]\n",
    "training_features = np.array(training_features)\n",
    "testing_features = features[588:784]\n",
    "testing_features = np.array(testing_features)\n",
    "\n",
    "training_target = labels[0:588]\n",
    "training_target = np.array(training_target)\n",
    "testing_target = labels[588:784]\n",
    "testing_target = np.array(testing_target)\n",
    "#=== end creating training and validation set ===================================================\n"
   ]
  },
  {
   "cell_type": "code",
   "execution_count": 4,
   "metadata": {},
   "outputs": [
    {
     "name": "stderr",
     "output_type": "stream",
     "text": [
      "                                                                                                                       \r"
     ]
    },
    {
     "name": "stdout",
     "output_type": "stream",
     "text": [
      "Generation 1 - Current best internal CV score: 0.49662391924055205\n"
     ]
    },
    {
     "name": "stderr",
     "output_type": "stream",
     "text": [
      "                                                                                                                       \r"
     ]
    },
    {
     "name": "stdout",
     "output_type": "stream",
     "text": [
      "\n",
      "Best pipeline: GradientBoostingClassifier(RBFSampler(input_matrix, gamma=0.8500000000000001), learning_rate=0.01, max_depth=5, max_features=0.7500000000000001, min_samples_leaf=16, min_samples_split=18, n_estimators=100, subsample=0.3)\n",
      "0.5\n"
     ]
    },
    {
     "data": {
      "text/plain": [
       "True"
      ]
     },
     "execution_count": 4,
     "metadata": {},
     "output_type": "execute_result"
    }
   ],
   "source": [
    "from tpot import TPOTClassifier\n",
    "fileNameTPot = 'allROIS/tpot_mnist_pipeline_FineAverageParticipantSplit_Act'\n",
    "\n",
    "tpot = TPOTClassifier(generations=5, population_size=20, verbosity=2,n_jobs = 20)\n",
    "tpot.fit(training_features, training_target)\n",
    "print(tpot.score(testing_features, testing_target))\n",
    "tpot.export(fileNameTPot + '.py')"
   ]
  },
  {
   "cell_type": "code",
   "execution_count": 5,
   "metadata": {},
   "outputs": [],
   "source": [
    "with open(fileNameTPot + '.py') as f:\n",
    "    content = f.readlines()\n",
    "# you may also want to remove whitespace characters like `\\n` at the end of each line\n",
    "# content = [x.strip() for x in content] \n",
    "\n",
    "#      or 'exported_pipeline = ' not in line\n",
    "cleanedContent = []\n",
    "for line in content:\n",
    "    if 'tpot_data' not in line and 'training_target, testing_target' not in line:\n",
    "        cleanedContent.append(line)\n",
    "\n",
    "fileForLearning = fileNameTPot + '_cleaned.py'\n",
    "with open(fileForLearning, 'w') as filehandle:  \n",
    "    for line in cleanedContent:\n",
    "        filehandle.write('%s\\n' % line)"
   ]
  },
  {
   "cell_type": "code",
   "execution_count": 6,
   "metadata": {},
   "outputs": [],
   "source": [
    "%run -i $fileForLearning"
   ]
  },
  {
   "cell_type": "code",
   "execution_count": 9,
   "metadata": {},
   "outputs": [
    {
     "name": "stdout",
     "output_type": "stream",
     "text": [
      "Number of matches: 91 (of 180 )\n",
      "Accuary:  50.55555555555556\n"
     ]
    }
   ],
   "source": [
    "num_matches = 0;\n",
    "for a, b in zip(testing_target, results):\n",
    "    if a == b:\n",
    "        num_matches = num_matches + 1\n",
    "print('Number of matches:',num_matches,'(of',testing_target.size,')')\n",
    "\n",
    "accuracy = num_matches/testing_target.size*100\n",
    "print('Accuary: ',accuracy)\n"
   ]
  },
  {
   "cell_type": "code",
   "execution_count": 10,
   "metadata": {},
   "outputs": [],
   "source": [
    "with open('listOfAccuracies.txt','a+') as f:\n",
    "    f.write('%s\\n' % 'Fine_AllROIs' + str(accuracy) + '\\n')\n"
   ]
  },
  {
   "cell_type": "code",
   "execution_count": null,
   "metadata": {},
   "outputs": [],
   "source": []
  }
 ],
 "metadata": {
  "kernelspec": {
   "display_name": "Python 3",
   "language": "python",
   "name": "python3"
  },
  "language_info": {
   "codemirror_mode": {
    "name": "ipython",
    "version": 3
   },
   "file_extension": ".py",
   "mimetype": "text/x-python",
   "name": "python",
   "nbconvert_exporter": "python",
   "pygments_lexer": "ipython3",
   "version": "3.5.3"
  }
 },
 "nbformat": 4,
 "nbformat_minor": 2
}
