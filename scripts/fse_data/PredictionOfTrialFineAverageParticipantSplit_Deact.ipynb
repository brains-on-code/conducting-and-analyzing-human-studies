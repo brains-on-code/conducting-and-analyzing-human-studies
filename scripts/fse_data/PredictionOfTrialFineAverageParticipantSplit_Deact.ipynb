{
 "cells": [
  {
   "cell_type": "code",
   "execution_count": 2,
   "metadata": {
    "scrolled": true
   },
   "outputs": [],
   "source": [
    "# Pandas is used for data manipulation\n",
    "import pandas as pd\n",
    "import numpy as np\n",
    "\n",
    "# Read in data\n",
    "z_data = pd.read_csv('fse17_act_deact_zscore_groups.csv',sep=';',decimal='.')\n",
    "\n",
    "# Remove irrelevant columns\n",
    "z_data.drop(list(z_data.filter(regex = '_act')),axis = 1, inplace = True)\n",
    "z_data.drop(list(z_data.filter(regex = 'aggr')),axis = 1, inplace = True)\n",
    "\n",
    "\n",
    "#first, drop everything non-numeric ===========================================================\n",
    "z_data = z_data.drop('scan', axis = 1)\n",
    "z_data = z_data.drop('snippet', axis = 1)\n",
    "z_data = z_data.drop('response', axis = 1)\n",
    "\n",
    "#=== now create the different groups and compute the groupwise mean ============================\n",
    "grouped = z_data.groupby(['proband', 'trial','task'])\n",
    "groupedAgg = grouped.aggregate(np.mean)\n",
    "labels = groupedAgg.index.get_level_values(level='task')\n",
    "#=== end aggregation ===========================================================================\n",
    "\n",
    "#=== creating training and validation set ======================================================\n",
    "# Saving feature names for later use\n",
    "feature_list = list(groupedAgg.columns)\n",
    "\n",
    "# Convert to numpy array\n",
    "features = np.array(groupedAgg)\n",
    "labels = np.array(labels)\n",
    "\n",
    "numLabels = 2 # num of different labels (comprehension and rest)\n",
    "sizeTrainSet = 11 # num of participants used for training\n",
    "sizeTestSet = 3 # num participants used for testing\n",
    " \n",
    "# get the number of trials per participant\n",
    "numTrials = len(groupedAgg.index.get_level_values(level='trial').unique())\n",
    "numParticipants = sizeTrainSet + sizeTestSet\n",
    "\n",
    "\n",
    "#get the rows excluding the last indexed (i.e., row with the index 587 is the last to include)\n",
    "training_features = features[0:numTrials*sizeTrainSet]\n",
    "training_features = np.array(training_features)\n",
    "testing_features = features[numTrials*sizeTrainSet:numTrials*numParticipants]\n",
    "testing_features = np.array(testing_features)\n",
    "\n",
    "training_target = labels[0:numTrials*sizeTrainSet]\n",
    "training_target = np.array(training_target)\n",
    "testing_target = labels[numTrials*sizeTrainSet:numTrials*numParticipants]\n",
    "testing_target = np.array(testing_target)\n",
    "#=== end creating training and validation set ===================================================\n"
   ]
  },
  {
   "cell_type": "code",
   "execution_count": 3,
   "metadata": {},
   "outputs": [
    {
     "name": "stderr",
     "output_type": "stream",
     "text": [
      "C:\\Users\\author\\Anaconda3\\lib\\site-packages\\deap\\tools\\_hypervolume\\pyhv.py:33: ImportWarning: Falling back to the python version of hypervolume module. Expect this to be very slow.\n",
      "  \"module. Expect this to be very slow.\", ImportWarning)\n",
      "C:\\Users\\author\\Anaconda3\\lib\\importlib\\_bootstrap.py:219: ImportWarning: can't resolve package from __spec__ or __package__, falling back on __name__ and __path__\n",
      "  return f(*args, **kwds)\n",
      "C:\\Users\\author\\Anaconda3\\lib\\importlib\\_bootstrap.py:219: ImportWarning: can't resolve package from __spec__ or __package__, falling back on __name__ and __path__\n",
      "  return f(*args, **kwds)\n",
      "C:\\Users\\author\\Anaconda3\\lib\\importlib\\_bootstrap.py:219: ImportWarning: can't resolve package from __spec__ or __package__, falling back on __name__ and __path__\n",
      "  return f(*args, **kwds)\n",
      "C:\\Users\\author\\Anaconda3\\lib\\importlib\\_bootstrap_external.py:426: ImportWarning: Not importing directory C:\\Users\\author\\Anaconda3\\lib\\site-packages\\mpl_toolkits: missing __init__\n",
      "  _warnings.warn(msg.format(portions[0]), ImportWarning)\n",
      "C:\\Users\\author\\Anaconda3\\lib\\importlib\\_bootstrap_external.py:426: ImportWarning: Not importing directory c:\\users\\author\\anaconda3\\lib\\site-packages\\mpl_toolkits: missing __init__\n",
      "  _warnings.warn(msg.format(portions[0]), ImportWarning)\n",
      "C:\\Users\\author\\Anaconda3\\lib\\importlib\\_bootstrap.py:219: ImportWarning: can't resolve package from __spec__ or __package__, falling back on __name__ and __path__\n",
      "  return f(*args, **kwds)\n"
     ]
    },
    {
     "name": "stdout",
     "output_type": "stream",
     "text": [
      "Imputing missing values in feature set\n"
     ]
    },
    {
     "name": "stderr",
     "output_type": "stream",
     "text": [
      "                                                                                                                       \r"
     ]
    },
    {
     "name": "stdout",
     "output_type": "stream",
     "text": [
      "Generation 1 - Current best internal CV score: 0.7982578167917964\n"
     ]
    },
    {
     "name": "stderr",
     "output_type": "stream",
     "text": [
      "                                                                                                                       \r"
     ]
    },
    {
     "name": "stdout",
     "output_type": "stream",
     "text": [
      "Generation 2 - Current best internal CV score: 0.7982578167917964\n"
     ]
    },
    {
     "name": "stderr",
     "output_type": "stream",
     "text": [
      "                                                                                                                       \r"
     ]
    },
    {
     "name": "stdout",
     "output_type": "stream",
     "text": [
      "Generation 3 - Current best internal CV score: 0.8013216825367758\n"
     ]
    },
    {
     "name": "stderr",
     "output_type": "stream",
     "text": [
      "                                                                                                                       \r"
     ]
    },
    {
     "name": "stdout",
     "output_type": "stream",
     "text": [
      "Generation 4 - Current best internal CV score: 0.8076201321491789\n"
     ]
    },
    {
     "name": "stderr",
     "output_type": "stream",
     "text": [
      "                                                                                                                       \r"
     ]
    },
    {
     "name": "stdout",
     "output_type": "stream",
     "text": [
      "Generation 5 - Current best internal CV score: 0.8076201321491789\n"
     ]
    },
    {
     "name": "stderr",
     "output_type": "stream",
     "text": [
      "                                                           \r"
     ]
    },
    {
     "name": "stdout",
     "output_type": "stream",
     "text": [
      "\n",
      "Best pipeline: LinearSVC(input_matrix, C=0.001, dual=True, loss=squared_hinge, penalty=l2, tol=0.0001)\n",
      "Imputing missing values in feature set\n",
      "0.7413793103448276\n"
     ]
    },
    {
     "data": {
      "text/plain": [
       "True"
      ]
     },
     "execution_count": 3,
     "metadata": {},
     "output_type": "execute_result"
    }
   ],
   "source": [
    "from tpot import TPOTClassifier\n",
    "fileNameTPot = 'Deact/tpot_mnist_pipeline_FineAverageParticipantSplit_Deact'\n",
    "\n",
    "tpot = TPOTClassifier(generations=5, population_size=20, verbosity=2, n_jobs=20)\n",
    "tpot.fit(training_features, training_target)\n",
    "print(tpot.score(testing_features, testing_target))\n",
    "tpot.export(fileNameTPot + '.py')"
   ]
  },
  {
   "cell_type": "code",
   "execution_count": null,
   "metadata": {},
   "outputs": [],
   "source": []
  },
  {
   "cell_type": "code",
   "execution_count": 4,
   "metadata": {},
   "outputs": [],
   "source": [
    "with open(fileNameTPot + '.py') as f:\n",
    "    content = f.readlines()\n",
    "# you may also want to remove whitespace characters like `\\n` at the end of each line\n",
    "# content = [x.strip() for x in content] \n",
    "\n",
    "#      or 'exported_pipeline = ' not in line\n",
    "cleanedContent = []\n",
    "for line in content:\n",
    "    if 'tpot_data' not in line and 'training_target, testing_target' not in line:\n",
    "        cleanedContent.append(line)\n",
    "\n",
    "fileForLearning = fileNameTPot + '_cleaned.py'\n",
    "with open(fileForLearning, 'w') as filehandle:  \n",
    "    for line in cleanedContent:\n",
    "        filehandle.write('%s\\n' % line)"
   ]
  },
  {
   "cell_type": "code",
   "execution_count": 5,
   "metadata": {},
   "outputs": [],
   "source": [
    "%run -i $fileForLearning"
   ]
  },
  {
   "cell_type": "code",
   "execution_count": 6,
   "metadata": {},
   "outputs": [
    {
     "name": "stdout",
     "output_type": "stream",
     "text": [
      "Number of matches: 129 (of 174 )\n",
      "Accuary:  74.13793103448276\n"
     ]
    }
   ],
   "source": [
    "num_matches = 0;\n",
    "for a, b in zip(testing_target, results):\n",
    "    if a == b:\n",
    "        num_matches = num_matches + 1\n",
    "print('Number of matches:',num_matches,'(of',testing_target.size,')')\n",
    "\n",
    "accuracy = num_matches/testing_target.size*100\n",
    "print('Accuary: ',accuracy)\n"
   ]
  },
  {
   "cell_type": "code",
   "execution_count": null,
   "metadata": {},
   "outputs": [],
   "source": [
    "with open('listOfAccuracies.txt','a+') as f:\n",
    "    f.write('%s\\n' % 'Fine_Deact' + str(accuracy)+ '\\n')\n"
   ]
  }
 ],
 "metadata": {
  "kernelspec": {
   "display_name": "Python 3",
   "language": "python",
   "name": "python3"
  },
  "language_info": {
   "codemirror_mode": {
    "name": "ipython",
    "version": 3
   },
   "file_extension": ".py",
   "mimetype": "text/x-python",
   "name": "python",
   "nbconvert_exporter": "python",
   "pygments_lexer": "ipython3",
   "version": "3.6.5"
  }
 },
 "nbformat": 4,
 "nbformat_minor": 2
}
