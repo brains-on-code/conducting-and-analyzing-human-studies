{
 "cells": [
  {
   "cell_type": "code",
   "execution_count": 30,
   "metadata": {},
   "outputs": [],
   "source": [
    "# Pandas is used for data manipulation\n",
    "import pandas as pd\n",
    "import numpy as np\n",
    "from tpot import TPOTClassifier\n",
    "\n",
    "# Read in data\n",
    "z_data = pd.read_csv('fse17_act_deact_zscore_groups.csv',sep=';',decimal='.')\n",
    "\n",
    "# Remove irrelevant columns\n",
    "z_data.drop(list(z_data.filter(regex = '_deact')),axis = 1, inplace = True)\n",
    "\n",
    "\n",
    "#first, drop everything non-numeric ===========================================================\n",
    "z_data = z_data.drop('scan', axis = 1)\n",
    "z_data = z_data.drop('trial', axis = 1)\n",
    "z_data = z_data.drop('response', axis = 1)\n",
    "z_data = z_data.drop('snippet', axis = 1)\n",
    "\n",
    "numLabels = 2 # num of different labels (comprehension and rest)\n",
    "sizeTrainSet = 11 # num of participants used for training\n",
    "sizeTestSet = 3 # num participants used for testing\n",
    "numParticipants = sizeTrainSet + sizeTestSet"
   ]
  },
  {
   "cell_type": "code",
   "execution_count": 2,
   "metadata": {},
   "outputs": [],
   "source": [
    "#group the data and get the labels after the grouping\n",
    "#return the grouped data and the labels\n",
    "def prepare(data,groupingColumns):\n",
    "    grouped = data.groupby(groupingColumns)\n",
    "    groupedAgg = grouped.aggregate(np.mean)\n",
    "    labels = groupedAgg.index.get_level_values(level='task')\n",
    "    return groupedAgg,labels"
   ]
  },
  {
   "cell_type": "code",
   "execution_count": 3,
   "metadata": {},
   "outputs": [],
   "source": [
    "#split according to participants (first 12 and last 4)\n",
    "#return all four sets (much like train_test_split from sklearn)\n",
    "#TODO: introduce variation (see file coarseAverageParticipantSplit)\n",
    "\n",
    "def split(features, labels, low, high):\n",
    "    \n",
    "    #=== creating training and validation set ======================================================\n",
    "    # Saving feature names for later use\n",
    "    feature_list = list(features.columns)\n",
    "\n",
    "    # Convert to numpy array\n",
    "    features = np.array(features)\n",
    "    labels = np.array(labels)\n",
    "\n",
    "    #get the rows excluding the last indexed (i.e., row with the index 587 is the last to include)\n",
    "    training_features = features[0:low]\n",
    "    training_features = np.array(training_features)\n",
    "\n",
    "    testing_features = features[low:high]\n",
    "    testing_features = np.array(testing_features)\n",
    "\n",
    "    training_target = labels[0:low]\n",
    "    training_target = np.array(training_target)\n",
    "    testing_target = labels[low:high]\n",
    "    testing_target = np.array(testing_target)\n",
    "    #=== end creating training and validation set ===================================================\n",
    "    \n",
    "    return training_features, testing_features, training_target, testing_target"
   ]
  },
  {
   "cell_type": "code",
   "execution_count": 4,
   "metadata": {},
   "outputs": [],
   "source": [
    "# assumes that the column names of the structure xxx_number_xxx, e.g., aggr_13_groups0\n",
    "def findIndices(name):\n",
    "    numGroups = int(name.split('_')[1])\n",
    "    low = sizeTrainSet*numGroups*numLabels\n",
    "    high = numParticipants*numGroups*numLabels\n",
    "    return low, high"
   ]
  },
  {
   "cell_type": "code",
   "execution_count": 34,
   "metadata": {},
   "outputs": [
    {
     "name": "stdout",
     "output_type": "stream",
     "text": [
      "422\n",
      "286 364\n",
      "(78, 390)\n",
      "(364, 390)\n",
      "(364,)\n",
      "['proband', 'task', 'aggr_13_groups0']\n"
     ]
    },
    {
     "data": {
      "text/html": [
       "<div>\n",
       "<style scoped>\n",
       "    .dataframe tbody tr th:only-of-type {\n",
       "        vertical-align: middle;\n",
       "    }\n",
       "\n",
       "    .dataframe tbody tr th {\n",
       "        vertical-align: top;\n",
       "    }\n",
       "\n",
       "    .dataframe thead th {\n",
       "        text-align: right;\n",
       "    }\n",
       "</style>\n",
       "<table border=\"1\" class=\"dataframe\">\n",
       "  <thead>\n",
       "    <tr style=\"text-align: right;\">\n",
       "      <th></th>\n",
       "      <th></th>\n",
       "      <th></th>\n",
       "      <th>68-177-121_act</th>\n",
       "      <th>68-180-121_act</th>\n",
       "      <th>68-183-121_act</th>\n",
       "      <th>68-180-124_act</th>\n",
       "      <th>68-183-124_act</th>\n",
       "      <th>71-180-118_act</th>\n",
       "      <th>71-183-118_act</th>\n",
       "      <th>71-174-121_act</th>\n",
       "      <th>71-177-121_act</th>\n",
       "      <th>71-180-121_act</th>\n",
       "      <th>...</th>\n",
       "      <th>188-177-130_act</th>\n",
       "      <th>188-165-133_act</th>\n",
       "      <th>188-168-133_act</th>\n",
       "      <th>188-171-133_act</th>\n",
       "      <th>188-174-133_act</th>\n",
       "      <th>188-168-136_act</th>\n",
       "      <th>188-171-136_act</th>\n",
       "      <th>188-174-136_act</th>\n",
       "      <th>191-168-130_act</th>\n",
       "      <th>191-168-133_act</th>\n",
       "    </tr>\n",
       "    <tr>\n",
       "      <th>proband</th>\n",
       "      <th>task</th>\n",
       "      <th>aggr_13_groups0</th>\n",
       "      <th></th>\n",
       "      <th></th>\n",
       "      <th></th>\n",
       "      <th></th>\n",
       "      <th></th>\n",
       "      <th></th>\n",
       "      <th></th>\n",
       "      <th></th>\n",
       "      <th></th>\n",
       "      <th></th>\n",
       "      <th></th>\n",
       "      <th></th>\n",
       "      <th></th>\n",
       "      <th></th>\n",
       "      <th></th>\n",
       "      <th></th>\n",
       "      <th></th>\n",
       "      <th></th>\n",
       "      <th></th>\n",
       "      <th></th>\n",
       "      <th></th>\n",
       "    </tr>\n",
       "  </thead>\n",
       "  <tbody>\n",
       "    <tr>\n",
       "      <th rowspan=\"26\" valign=\"top\">ab87</th>\n",
       "      <th rowspan=\"13\" valign=\"top\">0</th>\n",
       "      <th>eightth</th>\n",
       "      <td>-0.091628</td>\n",
       "      <td>-0.281788</td>\n",
       "      <td>-0.182527</td>\n",
       "      <td>-0.166311</td>\n",
       "      <td>-0.118958</td>\n",
       "      <td>-0.125351</td>\n",
       "      <td>-0.287746</td>\n",
       "      <td>0.101655</td>\n",
       "      <td>-0.035068</td>\n",
       "      <td>-0.184434</td>\n",
       "      <td>...</td>\n",
       "      <td>0.743780</td>\n",
       "      <td>0.477535</td>\n",
       "      <td>0.591160</td>\n",
       "      <td>0.293833</td>\n",
       "      <td>0.271066</td>\n",
       "      <td>0.260337</td>\n",
       "      <td>-0.071768</td>\n",
       "      <td>0.082850</td>\n",
       "      <td>0.208056</td>\n",
       "      <td>0.683637</td>\n",
       "    </tr>\n",
       "    <tr>\n",
       "      <th>eleventh</th>\n",
       "      <td>0.539451</td>\n",
       "      <td>0.328748</td>\n",
       "      <td>-0.143597</td>\n",
       "      <td>0.584192</td>\n",
       "      <td>0.449952</td>\n",
       "      <td>0.449797</td>\n",
       "      <td>0.252958</td>\n",
       "      <td>0.511686</td>\n",
       "      <td>0.484109</td>\n",
       "      <td>0.557964</td>\n",
       "      <td>...</td>\n",
       "      <td>0.482630</td>\n",
       "      <td>0.304288</td>\n",
       "      <td>0.409621</td>\n",
       "      <td>0.494923</td>\n",
       "      <td>0.737658</td>\n",
       "      <td>0.717590</td>\n",
       "      <td>0.706776</td>\n",
       "      <td>0.667110</td>\n",
       "      <td>0.396914</td>\n",
       "      <td>0.335798</td>\n",
       "    </tr>\n",
       "    <tr>\n",
       "      <th>fifth</th>\n",
       "      <td>0.280249</td>\n",
       "      <td>0.074099</td>\n",
       "      <td>-0.014945</td>\n",
       "      <td>0.158840</td>\n",
       "      <td>0.068058</td>\n",
       "      <td>-0.012596</td>\n",
       "      <td>-0.308264</td>\n",
       "      <td>0.421223</td>\n",
       "      <td>0.378013</td>\n",
       "      <td>0.123488</td>\n",
       "      <td>...</td>\n",
       "      <td>0.102181</td>\n",
       "      <td>0.016480</td>\n",
       "      <td>0.177819</td>\n",
       "      <td>0.194745</td>\n",
       "      <td>0.282338</td>\n",
       "      <td>0.373031</td>\n",
       "      <td>0.230366</td>\n",
       "      <td>0.175766</td>\n",
       "      <td>-0.067923</td>\n",
       "      <td>0.241907</td>\n",
       "    </tr>\n",
       "    <tr>\n",
       "      <th>first</th>\n",
       "      <td>-0.137228</td>\n",
       "      <td>-0.284458</td>\n",
       "      <td>-0.277643</td>\n",
       "      <td>-0.249412</td>\n",
       "      <td>-0.393664</td>\n",
       "      <td>-0.177276</td>\n",
       "      <td>-0.185980</td>\n",
       "      <td>-0.005965</td>\n",
       "      <td>-0.042855</td>\n",
       "      <td>-0.120884</td>\n",
       "      <td>...</td>\n",
       "      <td>-0.108709</td>\n",
       "      <td>0.069928</td>\n",
       "      <td>0.198410</td>\n",
       "      <td>0.335255</td>\n",
       "      <td>0.234429</td>\n",
       "      <td>0.134803</td>\n",
       "      <td>0.134940</td>\n",
       "      <td>0.187372</td>\n",
       "      <td>0.105219</td>\n",
       "      <td>0.179252</td>\n",
       "    </tr>\n",
       "    <tr>\n",
       "      <th>fourth</th>\n",
       "      <td>0.065869</td>\n",
       "      <td>-0.178433</td>\n",
       "      <td>-0.278951</td>\n",
       "      <td>0.006189</td>\n",
       "      <td>0.029882</td>\n",
       "      <td>-0.049537</td>\n",
       "      <td>-0.176131</td>\n",
       "      <td>0.309637</td>\n",
       "      <td>0.147574</td>\n",
       "      <td>0.031403</td>\n",
       "      <td>...</td>\n",
       "      <td>0.600929</td>\n",
       "      <td>0.389877</td>\n",
       "      <td>0.450383</td>\n",
       "      <td>0.423211</td>\n",
       "      <td>0.509404</td>\n",
       "      <td>0.433237</td>\n",
       "      <td>0.301734</td>\n",
       "      <td>0.378737</td>\n",
       "      <td>0.474401</td>\n",
       "      <td>0.445122</td>\n",
       "    </tr>\n",
       "    <tr>\n",
       "      <th>nineth</th>\n",
       "      <td>0.277469</td>\n",
       "      <td>0.095169</td>\n",
       "      <td>0.173131</td>\n",
       "      <td>0.390289</td>\n",
       "      <td>0.465048</td>\n",
       "      <td>0.166675</td>\n",
       "      <td>-0.119229</td>\n",
       "      <td>0.531553</td>\n",
       "      <td>0.352368</td>\n",
       "      <td>0.212589</td>\n",
       "      <td>...</td>\n",
       "      <td>0.881629</td>\n",
       "      <td>0.702582</td>\n",
       "      <td>0.702925</td>\n",
       "      <td>0.514728</td>\n",
       "      <td>0.571811</td>\n",
       "      <td>0.394813</td>\n",
       "      <td>0.259908</td>\n",
       "      <td>0.516236</td>\n",
       "      <td>0.357959</td>\n",
       "      <td>0.574406</td>\n",
       "    </tr>\n",
       "    <tr>\n",
       "      <th>second</th>\n",
       "      <td>-0.019306</td>\n",
       "      <td>-0.186899</td>\n",
       "      <td>-0.336380</td>\n",
       "      <td>0.031832</td>\n",
       "      <td>0.010664</td>\n",
       "      <td>-0.054544</td>\n",
       "      <td>-0.202120</td>\n",
       "      <td>0.115360</td>\n",
       "      <td>-0.036239</td>\n",
       "      <td>-0.109637</td>\n",
       "      <td>...</td>\n",
       "      <td>0.376954</td>\n",
       "      <td>0.473849</td>\n",
       "      <td>0.650774</td>\n",
       "      <td>0.680738</td>\n",
       "      <td>0.643808</td>\n",
       "      <td>0.597616</td>\n",
       "      <td>0.606674</td>\n",
       "      <td>0.560794</td>\n",
       "      <td>0.439080</td>\n",
       "      <td>0.410559</td>\n",
       "    </tr>\n",
       "    <tr>\n",
       "      <th>seventh</th>\n",
       "      <td>0.308541</td>\n",
       "      <td>0.038164</td>\n",
       "      <td>-0.214396</td>\n",
       "      <td>0.114462</td>\n",
       "      <td>-0.051343</td>\n",
       "      <td>-0.244758</td>\n",
       "      <td>-0.519731</td>\n",
       "      <td>0.274507</td>\n",
       "      <td>0.365483</td>\n",
       "      <td>0.082978</td>\n",
       "      <td>...</td>\n",
       "      <td>-0.547577</td>\n",
       "      <td>-0.236795</td>\n",
       "      <td>-0.180673</td>\n",
       "      <td>0.045885</td>\n",
       "      <td>0.161742</td>\n",
       "      <td>0.180603</td>\n",
       "      <td>0.294083</td>\n",
       "      <td>0.358398</td>\n",
       "      <td>-0.279258</td>\n",
       "      <td>-0.232351</td>\n",
       "    </tr>\n",
       "    <tr>\n",
       "      <th>sixth</th>\n",
       "      <td>0.329704</td>\n",
       "      <td>0.496373</td>\n",
       "      <td>0.275014</td>\n",
       "      <td>0.533361</td>\n",
       "      <td>0.438054</td>\n",
       "      <td>0.344873</td>\n",
       "      <td>0.277442</td>\n",
       "      <td>0.394557</td>\n",
       "      <td>0.356935</td>\n",
       "      <td>0.602842</td>\n",
       "      <td>...</td>\n",
       "      <td>0.083247</td>\n",
       "      <td>0.070122</td>\n",
       "      <td>-0.140661</td>\n",
       "      <td>0.281860</td>\n",
       "      <td>0.538419</td>\n",
       "      <td>0.101671</td>\n",
       "      <td>0.508952</td>\n",
       "      <td>0.693486</td>\n",
       "      <td>-0.256359</td>\n",
       "      <td>-0.398231</td>\n",
       "    </tr>\n",
       "    <tr>\n",
       "      <th>tenth</th>\n",
       "      <td>0.164839</td>\n",
       "      <td>-0.057519</td>\n",
       "      <td>-0.084370</td>\n",
       "      <td>0.147580</td>\n",
       "      <td>0.091959</td>\n",
       "      <td>0.019482</td>\n",
       "      <td>-0.080930</td>\n",
       "      <td>0.181972</td>\n",
       "      <td>0.183037</td>\n",
       "      <td>-0.038881</td>\n",
       "      <td>...</td>\n",
       "      <td>0.257424</td>\n",
       "      <td>0.257532</td>\n",
       "      <td>0.501515</td>\n",
       "      <td>0.385414</td>\n",
       "      <td>0.400223</td>\n",
       "      <td>0.492947</td>\n",
       "      <td>0.378458</td>\n",
       "      <td>0.379112</td>\n",
       "      <td>0.174594</td>\n",
       "      <td>0.381265</td>\n",
       "    </tr>\n",
       "    <tr>\n",
       "      <th>third</th>\n",
       "      <td>-0.250037</td>\n",
       "      <td>-0.262233</td>\n",
       "      <td>-0.095451</td>\n",
       "      <td>-0.105869</td>\n",
       "      <td>-0.104230</td>\n",
       "      <td>-0.421347</td>\n",
       "      <td>-0.261621</td>\n",
       "      <td>-0.077199</td>\n",
       "      <td>-0.127931</td>\n",
       "      <td>-0.215335</td>\n",
       "      <td>...</td>\n",
       "      <td>-0.052754</td>\n",
       "      <td>0.003772</td>\n",
       "      <td>0.104628</td>\n",
       "      <td>0.055011</td>\n",
       "      <td>-0.047812</td>\n",
       "      <td>-0.145900</td>\n",
       "      <td>-0.397876</td>\n",
       "      <td>-0.315648</td>\n",
       "      <td>0.008550</td>\n",
       "      <td>0.136742</td>\n",
       "    </tr>\n",
       "    <tr>\n",
       "      <th>thirteenth</th>\n",
       "      <td>0.341676</td>\n",
       "      <td>0.086077</td>\n",
       "      <td>-0.298236</td>\n",
       "      <td>0.254660</td>\n",
       "      <td>0.081528</td>\n",
       "      <td>0.069905</td>\n",
       "      <td>-0.194597</td>\n",
       "      <td>0.352805</td>\n",
       "      <td>0.271098</td>\n",
       "      <td>0.191515</td>\n",
       "      <td>...</td>\n",
       "      <td>-0.067840</td>\n",
       "      <td>0.374615</td>\n",
       "      <td>0.207401</td>\n",
       "      <td>0.369816</td>\n",
       "      <td>0.537409</td>\n",
       "      <td>0.306997</td>\n",
       "      <td>0.591159</td>\n",
       "      <td>0.741422</td>\n",
       "      <td>-0.117017</td>\n",
       "      <td>-0.041336</td>\n",
       "    </tr>\n",
       "    <tr>\n",
       "      <th>twelveth</th>\n",
       "      <td>0.775338</td>\n",
       "      <td>0.348231</td>\n",
       "      <td>-0.132125</td>\n",
       "      <td>0.639216</td>\n",
       "      <td>0.480982</td>\n",
       "      <td>0.328244</td>\n",
       "      <td>-0.087359</td>\n",
       "      <td>0.858717</td>\n",
       "      <td>0.829271</td>\n",
       "      <td>0.416451</td>\n",
       "      <td>...</td>\n",
       "      <td>0.089482</td>\n",
       "      <td>0.367922</td>\n",
       "      <td>0.473551</td>\n",
       "      <td>0.696919</td>\n",
       "      <td>0.752121</td>\n",
       "      <td>0.667434</td>\n",
       "      <td>0.829662</td>\n",
       "      <td>0.777153</td>\n",
       "      <td>0.196057</td>\n",
       "      <td>0.319072</td>\n",
       "    </tr>\n",
       "    <tr>\n",
       "      <th rowspan=\"13\" valign=\"top\">1</th>\n",
       "      <th>eightth</th>\n",
       "      <td>-0.361905</td>\n",
       "      <td>0.038164</td>\n",
       "      <td>0.535065</td>\n",
       "      <td>-0.124289</td>\n",
       "      <td>0.074138</td>\n",
       "      <td>0.037613</td>\n",
       "      <td>0.318203</td>\n",
       "      <td>-0.420777</td>\n",
       "      <td>-0.337955</td>\n",
       "      <td>-0.072293</td>\n",
       "      <td>...</td>\n",
       "      <td>0.512802</td>\n",
       "      <td>0.291289</td>\n",
       "      <td>0.292551</td>\n",
       "      <td>-0.095467</td>\n",
       "      <td>-0.259706</td>\n",
       "      <td>-0.172096</td>\n",
       "      <td>-0.388184</td>\n",
       "      <td>-0.369105</td>\n",
       "      <td>0.131836</td>\n",
       "      <td>0.366109</td>\n",
       "    </tr>\n",
       "    <tr>\n",
       "      <th>eleventh</th>\n",
       "      <td>-0.223628</td>\n",
       "      <td>-0.104422</td>\n",
       "      <td>-0.052011</td>\n",
       "      <td>-0.302599</td>\n",
       "      <td>-0.317558</td>\n",
       "      <td>0.130950</td>\n",
       "      <td>0.360880</td>\n",
       "      <td>-0.377431</td>\n",
       "      <td>-0.371213</td>\n",
       "      <td>-0.223961</td>\n",
       "      <td>...</td>\n",
       "      <td>-0.171053</td>\n",
       "      <td>-0.298974</td>\n",
       "      <td>-0.439270</td>\n",
       "      <td>-0.543275</td>\n",
       "      <td>-0.483192</td>\n",
       "      <td>-0.380975</td>\n",
       "      <td>-0.509624</td>\n",
       "      <td>-0.624782</td>\n",
       "      <td>-0.267935</td>\n",
       "      <td>-0.314413</td>\n",
       "    </tr>\n",
       "    <tr>\n",
       "      <th>fifth</th>\n",
       "      <td>0.167977</td>\n",
       "      <td>0.013702</td>\n",
       "      <td>-0.230281</td>\n",
       "      <td>-0.062481</td>\n",
       "      <td>-0.080538</td>\n",
       "      <td>-0.052613</td>\n",
       "      <td>-0.208549</td>\n",
       "      <td>0.174270</td>\n",
       "      <td>0.154229</td>\n",
       "      <td>-0.009945</td>\n",
       "      <td>...</td>\n",
       "      <td>-0.442901</td>\n",
       "      <td>-0.795630</td>\n",
       "      <td>-0.488903</td>\n",
       "      <td>-0.324516</td>\n",
       "      <td>-0.390299</td>\n",
       "      <td>-0.267708</td>\n",
       "      <td>-0.162774</td>\n",
       "      <td>-0.323983</td>\n",
       "      <td>-0.078992</td>\n",
       "      <td>-0.207677</td>\n",
       "    </tr>\n",
       "    <tr>\n",
       "      <th>first</th>\n",
       "      <td>-0.481037</td>\n",
       "      <td>-0.387790</td>\n",
       "      <td>-0.258522</td>\n",
       "      <td>-0.477470</td>\n",
       "      <td>-0.473282</td>\n",
       "      <td>-0.401070</td>\n",
       "      <td>-0.294038</td>\n",
       "      <td>-0.578967</td>\n",
       "      <td>-0.495576</td>\n",
       "      <td>-0.552084</td>\n",
       "      <td>...</td>\n",
       "      <td>-0.466607</td>\n",
       "      <td>-0.286558</td>\n",
       "      <td>-0.267621</td>\n",
       "      <td>-0.457713</td>\n",
       "      <td>-0.682697</td>\n",
       "      <td>-0.307948</td>\n",
       "      <td>-0.501633</td>\n",
       "      <td>-0.764367</td>\n",
       "      <td>-0.202025</td>\n",
       "      <td>-0.097892</td>\n",
       "    </tr>\n",
       "    <tr>\n",
       "      <th>fourth</th>\n",
       "      <td>0.152255</td>\n",
       "      <td>0.283047</td>\n",
       "      <td>0.283578</td>\n",
       "      <td>0.140734</td>\n",
       "      <td>0.186987</td>\n",
       "      <td>0.473292</td>\n",
       "      <td>0.431916</td>\n",
       "      <td>0.024419</td>\n",
       "      <td>0.094799</td>\n",
       "      <td>0.201888</td>\n",
       "      <td>...</td>\n",
       "      <td>0.103823</td>\n",
       "      <td>0.069831</td>\n",
       "      <td>-0.128193</td>\n",
       "      <td>-0.356208</td>\n",
       "      <td>-0.417577</td>\n",
       "      <td>-0.324857</td>\n",
       "      <td>-0.402537</td>\n",
       "      <td>-0.391953</td>\n",
       "      <td>-0.174337</td>\n",
       "      <td>-0.215810</td>\n",
       "    </tr>\n",
       "    <tr>\n",
       "      <th>nineth</th>\n",
       "      <td>-0.061184</td>\n",
       "      <td>0.198717</td>\n",
       "      <td>0.548205</td>\n",
       "      <td>0.109186</td>\n",
       "      <td>0.281963</td>\n",
       "      <td>0.272028</td>\n",
       "      <td>0.528165</td>\n",
       "      <td>-0.100412</td>\n",
       "      <td>-0.011413</td>\n",
       "      <td>0.166728</td>\n",
       "      <td>...</td>\n",
       "      <td>0.286749</td>\n",
       "      <td>0.163051</td>\n",
       "      <td>0.031707</td>\n",
       "      <td>-0.165625</td>\n",
       "      <td>-0.317824</td>\n",
       "      <td>-0.304795</td>\n",
       "      <td>-0.396345</td>\n",
       "      <td>-0.314628</td>\n",
       "      <td>0.110289</td>\n",
       "      <td>0.195886</td>\n",
       "    </tr>\n",
       "    <tr>\n",
       "      <th>second</th>\n",
       "      <td>-0.089925</td>\n",
       "      <td>0.220654</td>\n",
       "      <td>0.203922</td>\n",
       "      <td>0.055057</td>\n",
       "      <td>0.049346</td>\n",
       "      <td>0.052525</td>\n",
       "      <td>0.271971</td>\n",
       "      <td>-0.318628</td>\n",
       "      <td>-0.230455</td>\n",
       "      <td>0.075225</td>\n",
       "      <td>...</td>\n",
       "      <td>-0.175132</td>\n",
       "      <td>-0.060735</td>\n",
       "      <td>-0.075023</td>\n",
       "      <td>-0.220185</td>\n",
       "      <td>-0.261620</td>\n",
       "      <td>-0.043237</td>\n",
       "      <td>-0.153167</td>\n",
       "      <td>-0.384052</td>\n",
       "      <td>-0.130284</td>\n",
       "      <td>-0.073865</td>\n",
       "    </tr>\n",
       "    <tr>\n",
       "      <th>seventh</th>\n",
       "      <td>-0.254969</td>\n",
       "      <td>0.007857</td>\n",
       "      <td>0.294528</td>\n",
       "      <td>-0.631471</td>\n",
       "      <td>-0.538487</td>\n",
       "      <td>-0.045639</td>\n",
       "      <td>0.258429</td>\n",
       "      <td>-0.573443</td>\n",
       "      <td>-0.267167</td>\n",
       "      <td>-0.217846</td>\n",
       "      <td>...</td>\n",
       "      <td>-0.957196</td>\n",
       "      <td>-0.828902</td>\n",
       "      <td>-0.926431</td>\n",
       "      <td>-0.873095</td>\n",
       "      <td>-0.831953</td>\n",
       "      <td>-0.655946</td>\n",
       "      <td>-0.558549</td>\n",
       "      <td>-0.609800</td>\n",
       "      <td>-0.781529</td>\n",
       "      <td>-0.831274</td>\n",
       "    </tr>\n",
       "    <tr>\n",
       "      <th>sixth</th>\n",
       "      <td>0.083415</td>\n",
       "      <td>0.437996</td>\n",
       "      <td>0.450735</td>\n",
       "      <td>0.353119</td>\n",
       "      <td>0.413681</td>\n",
       "      <td>0.064219</td>\n",
       "      <td>0.239553</td>\n",
       "      <td>-0.024398</td>\n",
       "      <td>0.060781</td>\n",
       "      <td>0.304311</td>\n",
       "      <td>...</td>\n",
       "      <td>-0.283194</td>\n",
       "      <td>-0.190622</td>\n",
       "      <td>-0.646345</td>\n",
       "      <td>-0.462567</td>\n",
       "      <td>-0.271777</td>\n",
       "      <td>-0.682199</td>\n",
       "      <td>-0.210126</td>\n",
       "      <td>-0.047345</td>\n",
       "      <td>-0.269034</td>\n",
       "      <td>-0.638872</td>\n",
       "    </tr>\n",
       "    <tr>\n",
       "      <th>tenth</th>\n",
       "      <td>-0.935638</td>\n",
       "      <td>-0.780695</td>\n",
       "      <td>-0.188508</td>\n",
       "      <td>-0.838564</td>\n",
       "      <td>-0.590115</td>\n",
       "      <td>-0.589889</td>\n",
       "      <td>-0.268186</td>\n",
       "      <td>-0.820131</td>\n",
       "      <td>-0.970898</td>\n",
       "      <td>-0.918205</td>\n",
       "      <td>...</td>\n",
       "      <td>0.097024</td>\n",
       "      <td>-0.405580</td>\n",
       "      <td>-0.432436</td>\n",
       "      <td>-0.494539</td>\n",
       "      <td>-0.568269</td>\n",
       "      <td>-0.520725</td>\n",
       "      <td>-0.590386</td>\n",
       "      <td>-0.565241</td>\n",
       "      <td>0.124400</td>\n",
       "      <td>-0.329754</td>\n",
       "    </tr>\n",
       "    <tr>\n",
       "      <th>third</th>\n",
       "      <td>-0.160184</td>\n",
       "      <td>0.217623</td>\n",
       "      <td>0.595371</td>\n",
       "      <td>0.153375</td>\n",
       "      <td>0.307227</td>\n",
       "      <td>0.022486</td>\n",
       "      <td>0.335301</td>\n",
       "      <td>-0.339185</td>\n",
       "      <td>-0.229576</td>\n",
       "      <td>0.079593</td>\n",
       "      <td>...</td>\n",
       "      <td>-0.343613</td>\n",
       "      <td>-0.132905</td>\n",
       "      <td>-0.025929</td>\n",
       "      <td>-0.033399</td>\n",
       "      <td>-0.297512</td>\n",
       "      <td>-0.070752</td>\n",
       "      <td>-0.204217</td>\n",
       "      <td>-0.370863</td>\n",
       "      <td>0.361424</td>\n",
       "      <td>0.054403</td>\n",
       "    </tr>\n",
       "    <tr>\n",
       "      <th>thirteenth</th>\n",
       "      <td>-0.473504</td>\n",
       "      <td>-0.333526</td>\n",
       "      <td>-0.367857</td>\n",
       "      <td>-0.638066</td>\n",
       "      <td>-0.670729</td>\n",
       "      <td>-0.373713</td>\n",
       "      <td>-0.249857</td>\n",
       "      <td>-0.595222</td>\n",
       "      <td>-0.562911</td>\n",
       "      <td>-0.449334</td>\n",
       "      <td>...</td>\n",
       "      <td>-0.672648</td>\n",
       "      <td>-0.593378</td>\n",
       "      <td>-0.791648</td>\n",
       "      <td>-0.581913</td>\n",
       "      <td>-0.512277</td>\n",
       "      <td>-0.651303</td>\n",
       "      <td>-0.343255</td>\n",
       "      <td>-0.371391</td>\n",
       "      <td>-0.544674</td>\n",
       "      <td>-0.951779</td>\n",
       "    </tr>\n",
       "    <tr>\n",
       "      <th>twelveth</th>\n",
       "      <td>-0.055669</td>\n",
       "      <td>-0.079166</td>\n",
       "      <td>-0.206061</td>\n",
       "      <td>-0.149022</td>\n",
       "      <td>-0.198996</td>\n",
       "      <td>-0.095633</td>\n",
       "      <td>0.041628</td>\n",
       "      <td>-0.187635</td>\n",
       "      <td>-0.079626</td>\n",
       "      <td>-0.050782</td>\n",
       "      <td>...</td>\n",
       "      <td>-0.681807</td>\n",
       "      <td>-0.432450</td>\n",
       "      <td>-0.410407</td>\n",
       "      <td>-0.197338</td>\n",
       "      <td>-0.343826</td>\n",
       "      <td>-0.186827</td>\n",
       "      <td>0.098130</td>\n",
       "      <td>-0.058669</td>\n",
       "      <td>-0.069444</td>\n",
       "      <td>-0.105562</td>\n",
       "    </tr>\n",
       "    <tr>\n",
       "      <th rowspan=\"4\" valign=\"top\">bo49</th>\n",
       "      <th rowspan=\"4\" valign=\"top\">0</th>\n",
       "      <th>eightth</th>\n",
       "      <td>0.062692</td>\n",
       "      <td>0.294617</td>\n",
       "      <td>0.399743</td>\n",
       "      <td>0.282404</td>\n",
       "      <td>0.282881</td>\n",
       "      <td>0.419782</td>\n",
       "      <td>0.358373</td>\n",
       "      <td>-0.240897</td>\n",
       "      <td>0.057039</td>\n",
       "      <td>0.063089</td>\n",
       "      <td>...</td>\n",
       "      <td>-0.161715</td>\n",
       "      <td>0.209601</td>\n",
       "      <td>-0.404098</td>\n",
       "      <td>-0.474326</td>\n",
       "      <td>-0.135846</td>\n",
       "      <td>-0.176379</td>\n",
       "      <td>-0.435578</td>\n",
       "      <td>-0.378705</td>\n",
       "      <td>-0.293432</td>\n",
       "      <td>-0.521206</td>\n",
       "    </tr>\n",
       "    <tr>\n",
       "      <th>eleventh</th>\n",
       "      <td>0.083759</td>\n",
       "      <td>0.170628</td>\n",
       "      <td>-0.513050</td>\n",
       "      <td>-0.147541</td>\n",
       "      <td>-0.349850</td>\n",
       "      <td>-0.589811</td>\n",
       "      <td>-0.782590</td>\n",
       "      <td>-0.350979</td>\n",
       "      <td>-0.224458</td>\n",
       "      <td>-0.016356</td>\n",
       "      <td>...</td>\n",
       "      <td>0.401069</td>\n",
       "      <td>-0.049924</td>\n",
       "      <td>0.334133</td>\n",
       "      <td>0.547971</td>\n",
       "      <td>0.456679</td>\n",
       "      <td>0.006513</td>\n",
       "      <td>0.355922</td>\n",
       "      <td>0.615482</td>\n",
       "      <td>0.120392</td>\n",
       "      <td>0.156247</td>\n",
       "    </tr>\n",
       "    <tr>\n",
       "      <th>fifth</th>\n",
       "      <td>0.049632</td>\n",
       "      <td>0.202403</td>\n",
       "      <td>0.267642</td>\n",
       "      <td>0.338858</td>\n",
       "      <td>0.726483</td>\n",
       "      <td>0.122327</td>\n",
       "      <td>-0.105330</td>\n",
       "      <td>-0.188542</td>\n",
       "      <td>0.020501</td>\n",
       "      <td>0.149158</td>\n",
       "      <td>...</td>\n",
       "      <td>0.048907</td>\n",
       "      <td>0.219812</td>\n",
       "      <td>-0.097227</td>\n",
       "      <td>-0.458015</td>\n",
       "      <td>-0.289703</td>\n",
       "      <td>-0.229343</td>\n",
       "      <td>-0.422419</td>\n",
       "      <td>-0.242604</td>\n",
       "      <td>-0.835297</td>\n",
       "      <td>-0.627296</td>\n",
       "    </tr>\n",
       "    <tr>\n",
       "      <th>first</th>\n",
       "      <td>-0.053890</td>\n",
       "      <td>0.218615</td>\n",
       "      <td>0.742426</td>\n",
       "      <td>0.110218</td>\n",
       "      <td>0.394689</td>\n",
       "      <td>-0.254079</td>\n",
       "      <td>-0.197305</td>\n",
       "      <td>-0.084660</td>\n",
       "      <td>-0.153726</td>\n",
       "      <td>-0.072985</td>\n",
       "      <td>...</td>\n",
       "      <td>0.452111</td>\n",
       "      <td>-0.157508</td>\n",
       "      <td>0.494466</td>\n",
       "      <td>0.521938</td>\n",
       "      <td>0.347645</td>\n",
       "      <td>0.323719</td>\n",
       "      <td>0.605930</td>\n",
       "      <td>0.503184</td>\n",
       "      <td>0.003189</td>\n",
       "      <td>0.003986</td>\n",
       "    </tr>\n",
       "    <tr>\n",
       "      <th>...</th>\n",
       "      <th>...</th>\n",
       "      <th>...</th>\n",
       "      <td>...</td>\n",
       "      <td>...</td>\n",
       "      <td>...</td>\n",
       "      <td>...</td>\n",
       "      <td>...</td>\n",
       "      <td>...</td>\n",
       "      <td>...</td>\n",
       "      <td>...</td>\n",
       "      <td>...</td>\n",
       "      <td>...</td>\n",
       "      <td>...</td>\n",
       "      <td>...</td>\n",
       "      <td>...</td>\n",
       "      <td>...</td>\n",
       "      <td>...</td>\n",
       "      <td>...</td>\n",
       "      <td>...</td>\n",
       "      <td>...</td>\n",
       "      <td>...</td>\n",
       "      <td>...</td>\n",
       "      <td>...</td>\n",
       "    </tr>\n",
       "    <tr>\n",
       "      <th rowspan=\"4\" valign=\"top\">pe80_b</th>\n",
       "      <th rowspan=\"4\" valign=\"top\">1</th>\n",
       "      <th>tenth</th>\n",
       "      <td>0.484624</td>\n",
       "      <td>0.701096</td>\n",
       "      <td>0.742781</td>\n",
       "      <td>0.408522</td>\n",
       "      <td>0.492137</td>\n",
       "      <td>0.811073</td>\n",
       "      <td>0.845626</td>\n",
       "      <td>0.237250</td>\n",
       "      <td>0.646092</td>\n",
       "      <td>0.801366</td>\n",
       "      <td>...</td>\n",
       "      <td>-0.039668</td>\n",
       "      <td>0.075087</td>\n",
       "      <td>-0.283726</td>\n",
       "      <td>-0.379965</td>\n",
       "      <td>-0.186429</td>\n",
       "      <td>-0.185493</td>\n",
       "      <td>-0.213844</td>\n",
       "      <td>-0.144472</td>\n",
       "      <td>-0.111376</td>\n",
       "      <td>-0.159624</td>\n",
       "    </tr>\n",
       "    <tr>\n",
       "      <th>third</th>\n",
       "      <td>-0.439605</td>\n",
       "      <td>-0.513938</td>\n",
       "      <td>-0.498850</td>\n",
       "      <td>-0.278072</td>\n",
       "      <td>-0.493174</td>\n",
       "      <td>-0.244262</td>\n",
       "      <td>-0.182611</td>\n",
       "      <td>-0.157467</td>\n",
       "      <td>-0.429362</td>\n",
       "      <td>-0.321947</td>\n",
       "      <td>...</td>\n",
       "      <td>-0.332691</td>\n",
       "      <td>-0.098422</td>\n",
       "      <td>-0.170803</td>\n",
       "      <td>-0.191841</td>\n",
       "      <td>-0.496357</td>\n",
       "      <td>0.155152</td>\n",
       "      <td>0.245526</td>\n",
       "      <td>-0.226965</td>\n",
       "      <td>-0.396568</td>\n",
       "      <td>-0.268498</td>\n",
       "    </tr>\n",
       "    <tr>\n",
       "      <th>thirteenth</th>\n",
       "      <td>0.045845</td>\n",
       "      <td>-0.285671</td>\n",
       "      <td>-0.287246</td>\n",
       "      <td>0.111874</td>\n",
       "      <td>-0.030963</td>\n",
       "      <td>-0.252522</td>\n",
       "      <td>-0.255255</td>\n",
       "      <td>0.471406</td>\n",
       "      <td>0.095885</td>\n",
       "      <td>-0.255920</td>\n",
       "      <td>...</td>\n",
       "      <td>0.838283</td>\n",
       "      <td>0.040183</td>\n",
       "      <td>0.224637</td>\n",
       "      <td>0.403528</td>\n",
       "      <td>0.504876</td>\n",
       "      <td>0.420144</td>\n",
       "      <td>0.467418</td>\n",
       "      <td>0.446824</td>\n",
       "      <td>0.512373</td>\n",
       "      <td>0.447009</td>\n",
       "    </tr>\n",
       "    <tr>\n",
       "      <th>twelveth</th>\n",
       "      <td>0.362699</td>\n",
       "      <td>0.750072</td>\n",
       "      <td>0.846433</td>\n",
       "      <td>0.845161</td>\n",
       "      <td>0.771816</td>\n",
       "      <td>0.601458</td>\n",
       "      <td>0.643325</td>\n",
       "      <td>0.144487</td>\n",
       "      <td>0.473542</td>\n",
       "      <td>0.740682</td>\n",
       "      <td>...</td>\n",
       "      <td>0.197058</td>\n",
       "      <td>0.087395</td>\n",
       "      <td>0.020918</td>\n",
       "      <td>-0.089520</td>\n",
       "      <td>-0.046264</td>\n",
       "      <td>-0.364816</td>\n",
       "      <td>-0.619410</td>\n",
       "      <td>-0.342936</td>\n",
       "      <td>0.195993</td>\n",
       "      <td>0.089914</td>\n",
       "    </tr>\n",
       "    <tr>\n",
       "      <th rowspan=\"26\" valign=\"top\">pg74</th>\n",
       "      <th rowspan=\"13\" valign=\"top\">0</th>\n",
       "      <th>eightth</th>\n",
       "      <td>-0.446881</td>\n",
       "      <td>-0.775029</td>\n",
       "      <td>-0.999417</td>\n",
       "      <td>-0.793896</td>\n",
       "      <td>-0.848570</td>\n",
       "      <td>-0.834844</td>\n",
       "      <td>-0.933358</td>\n",
       "      <td>-0.481972</td>\n",
       "      <td>-0.357409</td>\n",
       "      <td>-0.708865</td>\n",
       "      <td>...</td>\n",
       "      <td>-0.634573</td>\n",
       "      <td>-0.611920</td>\n",
       "      <td>-0.520246</td>\n",
       "      <td>-0.310456</td>\n",
       "      <td>-0.257084</td>\n",
       "      <td>-0.211115</td>\n",
       "      <td>-0.028135</td>\n",
       "      <td>-0.093129</td>\n",
       "      <td>-0.704417</td>\n",
       "      <td>-0.576453</td>\n",
       "    </tr>\n",
       "    <tr>\n",
       "      <th>eleventh</th>\n",
       "      <td>0.270614</td>\n",
       "      <td>0.094632</td>\n",
       "      <td>0.235339</td>\n",
       "      <td>0.187062</td>\n",
       "      <td>0.272155</td>\n",
       "      <td>0.330352</td>\n",
       "      <td>0.200657</td>\n",
       "      <td>0.340134</td>\n",
       "      <td>0.201635</td>\n",
       "      <td>-0.006038</td>\n",
       "      <td>...</td>\n",
       "      <td>0.598488</td>\n",
       "      <td>0.671864</td>\n",
       "      <td>0.754768</td>\n",
       "      <td>0.807913</td>\n",
       "      <td>0.774482</td>\n",
       "      <td>0.530839</td>\n",
       "      <td>0.487841</td>\n",
       "      <td>0.548054</td>\n",
       "      <td>0.557328</td>\n",
       "      <td>0.666425</td>\n",
       "    </tr>\n",
       "    <tr>\n",
       "      <th>fifth</th>\n",
       "      <td>0.274144</td>\n",
       "      <td>-0.006548</td>\n",
       "      <td>0.167937</td>\n",
       "      <td>0.117000</td>\n",
       "      <td>0.220032</td>\n",
       "      <td>0.302490</td>\n",
       "      <td>0.117409</td>\n",
       "      <td>0.336085</td>\n",
       "      <td>0.160416</td>\n",
       "      <td>-0.094420</td>\n",
       "      <td>...</td>\n",
       "      <td>0.315854</td>\n",
       "      <td>0.562323</td>\n",
       "      <td>0.454983</td>\n",
       "      <td>0.258634</td>\n",
       "      <td>0.330360</td>\n",
       "      <td>0.535791</td>\n",
       "      <td>0.331543</td>\n",
       "      <td>0.319605</td>\n",
       "      <td>0.218295</td>\n",
       "      <td>0.332415</td>\n",
       "    </tr>\n",
       "    <tr>\n",
       "      <th>first</th>\n",
       "      <td>-0.298473</td>\n",
       "      <td>-0.547303</td>\n",
       "      <td>-0.575751</td>\n",
       "      <td>-0.413750</td>\n",
       "      <td>-0.427626</td>\n",
       "      <td>-0.340858</td>\n",
       "      <td>-0.481729</td>\n",
       "      <td>-0.256738</td>\n",
       "      <td>-0.266187</td>\n",
       "      <td>-0.612848</td>\n",
       "      <td>...</td>\n",
       "      <td>-0.397985</td>\n",
       "      <td>-0.403583</td>\n",
       "      <td>-0.383536</td>\n",
       "      <td>-0.280243</td>\n",
       "      <td>-0.161578</td>\n",
       "      <td>-0.260339</td>\n",
       "      <td>-0.103325</td>\n",
       "      <td>-0.026802</td>\n",
       "      <td>-0.490831</td>\n",
       "      <td>-0.512359</td>\n",
       "    </tr>\n",
       "    <tr>\n",
       "      <th>fourth</th>\n",
       "      <td>-0.162084</td>\n",
       "      <td>-0.429275</td>\n",
       "      <td>-0.478706</td>\n",
       "      <td>-0.526302</td>\n",
       "      <td>-0.559403</td>\n",
       "      <td>-0.447549</td>\n",
       "      <td>-0.463716</td>\n",
       "      <td>-0.183428</td>\n",
       "      <td>-0.216691</td>\n",
       "      <td>-0.554360</td>\n",
       "      <td>...</td>\n",
       "      <td>0.205854</td>\n",
       "      <td>0.327442</td>\n",
       "      <td>0.257861</td>\n",
       "      <td>0.188138</td>\n",
       "      <td>0.223386</td>\n",
       "      <td>0.121609</td>\n",
       "      <td>0.023442</td>\n",
       "      <td>0.025263</td>\n",
       "      <td>0.022958</td>\n",
       "      <td>0.022328</td>\n",
       "    </tr>\n",
       "    <tr>\n",
       "      <th>nineth</th>\n",
       "      <td>-0.327959</td>\n",
       "      <td>-0.576896</td>\n",
       "      <td>-0.573401</td>\n",
       "      <td>-0.503451</td>\n",
       "      <td>-0.434048</td>\n",
       "      <td>-0.621765</td>\n",
       "      <td>-0.571044</td>\n",
       "      <td>-0.257436</td>\n",
       "      <td>-0.384269</td>\n",
       "      <td>-0.591321</td>\n",
       "      <td>...</td>\n",
       "      <td>-0.172790</td>\n",
       "      <td>-0.116337</td>\n",
       "      <td>-0.123006</td>\n",
       "      <td>-0.092156</td>\n",
       "      <td>-0.062719</td>\n",
       "      <td>0.105590</td>\n",
       "      <td>0.192998</td>\n",
       "      <td>0.155372</td>\n",
       "      <td>0.153566</td>\n",
       "      <td>-0.025517</td>\n",
       "    </tr>\n",
       "    <tr>\n",
       "      <th>second</th>\n",
       "      <td>0.394315</td>\n",
       "      <td>0.177680</td>\n",
       "      <td>0.181736</td>\n",
       "      <td>0.146177</td>\n",
       "      <td>0.082256</td>\n",
       "      <td>-0.048645</td>\n",
       "      <td>-0.045042</td>\n",
       "      <td>0.385739</td>\n",
       "      <td>0.366961</td>\n",
       "      <td>0.070727</td>\n",
       "      <td>...</td>\n",
       "      <td>0.094496</td>\n",
       "      <td>0.089595</td>\n",
       "      <td>0.163889</td>\n",
       "      <td>0.165643</td>\n",
       "      <td>0.258947</td>\n",
       "      <td>-0.100530</td>\n",
       "      <td>-0.196443</td>\n",
       "      <td>-0.241775</td>\n",
       "      <td>-0.076622</td>\n",
       "      <td>0.010321</td>\n",
       "    </tr>\n",
       "    <tr>\n",
       "      <th>seventh</th>\n",
       "      <td>0.072085</td>\n",
       "      <td>-0.217928</td>\n",
       "      <td>-0.241323</td>\n",
       "      <td>-0.177504</td>\n",
       "      <td>-0.143562</td>\n",
       "      <td>-0.102086</td>\n",
       "      <td>-0.124695</td>\n",
       "      <td>0.162924</td>\n",
       "      <td>0.077922</td>\n",
       "      <td>-0.274757</td>\n",
       "      <td>...</td>\n",
       "      <td>0.038736</td>\n",
       "      <td>-0.064373</td>\n",
       "      <td>-0.005338</td>\n",
       "      <td>0.069804</td>\n",
       "      <td>0.293722</td>\n",
       "      <td>0.144814</td>\n",
       "      <td>0.214319</td>\n",
       "      <td>0.276335</td>\n",
       "      <td>-0.358855</td>\n",
       "      <td>-0.159121</td>\n",
       "    </tr>\n",
       "    <tr>\n",
       "      <th>sixth</th>\n",
       "      <td>0.319866</td>\n",
       "      <td>-0.110453</td>\n",
       "      <td>0.191592</td>\n",
       "      <td>-0.152765</td>\n",
       "      <td>0.016243</td>\n",
       "      <td>0.114875</td>\n",
       "      <td>0.021354</td>\n",
       "      <td>0.348836</td>\n",
       "      <td>0.253722</td>\n",
       "      <td>-0.186619</td>\n",
       "      <td>...</td>\n",
       "      <td>0.330723</td>\n",
       "      <td>0.176362</td>\n",
       "      <td>0.184395</td>\n",
       "      <td>0.102617</td>\n",
       "      <td>0.272733</td>\n",
       "      <td>-0.093831</td>\n",
       "      <td>-0.216459</td>\n",
       "      <td>-0.120650</td>\n",
       "      <td>0.311191</td>\n",
       "      <td>0.063853</td>\n",
       "    </tr>\n",
       "    <tr>\n",
       "      <th>tenth</th>\n",
       "      <td>-0.593986</td>\n",
       "      <td>-0.490560</td>\n",
       "      <td>-0.880915</td>\n",
       "      <td>-0.305919</td>\n",
       "      <td>-0.509022</td>\n",
       "      <td>-0.829477</td>\n",
       "      <td>-0.890442</td>\n",
       "      <td>-0.503239</td>\n",
       "      <td>-0.401274</td>\n",
       "      <td>-0.467928</td>\n",
       "      <td>...</td>\n",
       "      <td>-0.323400</td>\n",
       "      <td>-0.313929</td>\n",
       "      <td>-0.309615</td>\n",
       "      <td>-0.146019</td>\n",
       "      <td>-0.265033</td>\n",
       "      <td>-0.114511</td>\n",
       "      <td>0.016596</td>\n",
       "      <td>-0.133883</td>\n",
       "      <td>-0.587737</td>\n",
       "      <td>-0.391664</td>\n",
       "    </tr>\n",
       "    <tr>\n",
       "      <th>third</th>\n",
       "      <td>0.193939</td>\n",
       "      <td>0.048786</td>\n",
       "      <td>-0.093100</td>\n",
       "      <td>0.049299</td>\n",
       "      <td>-0.030951</td>\n",
       "      <td>-0.078334</td>\n",
       "      <td>-0.066388</td>\n",
       "      <td>0.283918</td>\n",
       "      <td>0.062437</td>\n",
       "      <td>-0.314479</td>\n",
       "      <td>...</td>\n",
       "      <td>0.027824</td>\n",
       "      <td>0.500656</td>\n",
       "      <td>0.507323</td>\n",
       "      <td>0.478172</td>\n",
       "      <td>0.516528</td>\n",
       "      <td>0.644239</td>\n",
       "      <td>0.609677</td>\n",
       "      <td>0.623229</td>\n",
       "      <td>0.001444</td>\n",
       "      <td>0.367802</td>\n",
       "    </tr>\n",
       "    <tr>\n",
       "      <th>thirteenth</th>\n",
       "      <td>-0.260299</td>\n",
       "      <td>-0.275892</td>\n",
       "      <td>-0.379310</td>\n",
       "      <td>-0.335285</td>\n",
       "      <td>-0.342870</td>\n",
       "      <td>-0.548684</td>\n",
       "      <td>-0.544530</td>\n",
       "      <td>-0.227699</td>\n",
       "      <td>-0.280265</td>\n",
       "      <td>-0.452332</td>\n",
       "      <td>...</td>\n",
       "      <td>-0.094487</td>\n",
       "      <td>-0.249294</td>\n",
       "      <td>-0.221144</td>\n",
       "      <td>-0.126208</td>\n",
       "      <td>0.160336</td>\n",
       "      <td>-0.271504</td>\n",
       "      <td>-0.214719</td>\n",
       "      <td>-0.137374</td>\n",
       "      <td>-0.402691</td>\n",
       "      <td>-0.452779</td>\n",
       "    </tr>\n",
       "    <tr>\n",
       "      <th>twelveth</th>\n",
       "      <td>0.574164</td>\n",
       "      <td>0.212440</td>\n",
       "      <td>0.198567</td>\n",
       "      <td>0.084141</td>\n",
       "      <td>0.107720</td>\n",
       "      <td>0.445913</td>\n",
       "      <td>0.228294</td>\n",
       "      <td>0.466619</td>\n",
       "      <td>0.416176</td>\n",
       "      <td>0.041483</td>\n",
       "      <td>...</td>\n",
       "      <td>0.620912</td>\n",
       "      <td>0.380770</td>\n",
       "      <td>0.403424</td>\n",
       "      <td>0.429138</td>\n",
       "      <td>0.621722</td>\n",
       "      <td>0.284622</td>\n",
       "      <td>0.222325</td>\n",
       "      <td>0.383577</td>\n",
       "      <td>0.276681</td>\n",
       "      <td>0.056541</td>\n",
       "    </tr>\n",
       "    <tr>\n",
       "      <th rowspan=\"13\" valign=\"top\">1</th>\n",
       "      <th>eightth</th>\n",
       "      <td>-0.507320</td>\n",
       "      <td>0.022763</td>\n",
       "      <td>0.149969</td>\n",
       "      <td>0.698078</td>\n",
       "      <td>0.707586</td>\n",
       "      <td>-0.513285</td>\n",
       "      <td>-0.512399</td>\n",
       "      <td>-0.268884</td>\n",
       "      <td>-0.200473</td>\n",
       "      <td>0.221089</td>\n",
       "      <td>...</td>\n",
       "      <td>0.253740</td>\n",
       "      <td>-0.001182</td>\n",
       "      <td>0.007552</td>\n",
       "      <td>0.061879</td>\n",
       "      <td>0.055888</td>\n",
       "      <td>-0.098103</td>\n",
       "      <td>-0.134829</td>\n",
       "      <td>-0.104170</td>\n",
       "      <td>0.355960</td>\n",
       "      <td>0.191138</td>\n",
       "    </tr>\n",
       "    <tr>\n",
       "      <th>eleventh</th>\n",
       "      <td>0.221959</td>\n",
       "      <td>0.502453</td>\n",
       "      <td>0.508507</td>\n",
       "      <td>-0.018024</td>\n",
       "      <td>-0.161185</td>\n",
       "      <td>0.321331</td>\n",
       "      <td>0.422764</td>\n",
       "      <td>-0.277446</td>\n",
       "      <td>0.055230</td>\n",
       "      <td>0.172593</td>\n",
       "      <td>...</td>\n",
       "      <td>-0.422328</td>\n",
       "      <td>0.125200</td>\n",
       "      <td>0.067216</td>\n",
       "      <td>-0.124722</td>\n",
       "      <td>-0.420774</td>\n",
       "      <td>-0.367913</td>\n",
       "      <td>-0.510258</td>\n",
       "      <td>-0.569754</td>\n",
       "      <td>0.284609</td>\n",
       "      <td>0.183374</td>\n",
       "    </tr>\n",
       "    <tr>\n",
       "      <th>fifth</th>\n",
       "      <td>-0.341426</td>\n",
       "      <td>0.227284</td>\n",
       "      <td>0.539592</td>\n",
       "      <td>0.675794</td>\n",
       "      <td>0.847378</td>\n",
       "      <td>0.204515</td>\n",
       "      <td>0.216386</td>\n",
       "      <td>-0.026943</td>\n",
       "      <td>-0.061839</td>\n",
       "      <td>0.472667</td>\n",
       "      <td>...</td>\n",
       "      <td>-0.114992</td>\n",
       "      <td>-0.239671</td>\n",
       "      <td>-0.260497</td>\n",
       "      <td>-0.292502</td>\n",
       "      <td>-0.494670</td>\n",
       "      <td>-0.241115</td>\n",
       "      <td>-0.210193</td>\n",
       "      <td>-0.261746</td>\n",
       "      <td>-0.058528</td>\n",
       "      <td>0.002738</td>\n",
       "    </tr>\n",
       "    <tr>\n",
       "      <th>first</th>\n",
       "      <td>-0.083871</td>\n",
       "      <td>0.316533</td>\n",
       "      <td>0.216536</td>\n",
       "      <td>0.427934</td>\n",
       "      <td>0.306506</td>\n",
       "      <td>0.322245</td>\n",
       "      <td>0.366255</td>\n",
       "      <td>-0.197358</td>\n",
       "      <td>-0.120739</td>\n",
       "      <td>0.336602</td>\n",
       "      <td>...</td>\n",
       "      <td>0.407228</td>\n",
       "      <td>0.120629</td>\n",
       "      <td>0.182931</td>\n",
       "      <td>0.341595</td>\n",
       "      <td>0.285773</td>\n",
       "      <td>0.186271</td>\n",
       "      <td>0.159928</td>\n",
       "      <td>0.134346</td>\n",
       "      <td>0.094060</td>\n",
       "      <td>0.009148</td>\n",
       "    </tr>\n",
       "    <tr>\n",
       "      <th>fourth</th>\n",
       "      <td>-0.187679</td>\n",
       "      <td>-0.018667</td>\n",
       "      <td>-0.134648</td>\n",
       "      <td>0.096007</td>\n",
       "      <td>-0.022986</td>\n",
       "      <td>-0.222671</td>\n",
       "      <td>-0.132747</td>\n",
       "      <td>-0.294091</td>\n",
       "      <td>-0.127946</td>\n",
       "      <td>0.059435</td>\n",
       "      <td>...</td>\n",
       "      <td>-0.164036</td>\n",
       "      <td>-0.379739</td>\n",
       "      <td>-0.429334</td>\n",
       "      <td>-0.367910</td>\n",
       "      <td>-0.275631</td>\n",
       "      <td>-0.337298</td>\n",
       "      <td>-0.294318</td>\n",
       "      <td>-0.262016</td>\n",
       "      <td>-0.044196</td>\n",
       "      <td>-0.217257</td>\n",
       "    </tr>\n",
       "    <tr>\n",
       "      <th>nineth</th>\n",
       "      <td>0.001275</td>\n",
       "      <td>0.095477</td>\n",
       "      <td>-0.027974</td>\n",
       "      <td>-0.125100</td>\n",
       "      <td>-0.096292</td>\n",
       "      <td>-0.018727</td>\n",
       "      <td>0.092469</td>\n",
       "      <td>-0.015216</td>\n",
       "      <td>0.123364</td>\n",
       "      <td>0.341719</td>\n",
       "      <td>...</td>\n",
       "      <td>-0.244377</td>\n",
       "      <td>-0.425796</td>\n",
       "      <td>-0.440759</td>\n",
       "      <td>-0.272690</td>\n",
       "      <td>-0.277204</td>\n",
       "      <td>-0.203250</td>\n",
       "      <td>-0.092795</td>\n",
       "      <td>-0.161728</td>\n",
       "      <td>0.053302</td>\n",
       "      <td>-0.029309</td>\n",
       "    </tr>\n",
       "    <tr>\n",
       "      <th>second</th>\n",
       "      <td>0.723658</td>\n",
       "      <td>0.687809</td>\n",
       "      <td>0.616698</td>\n",
       "      <td>0.554933</td>\n",
       "      <td>0.493642</td>\n",
       "      <td>0.724308</td>\n",
       "      <td>0.809682</td>\n",
       "      <td>0.657742</td>\n",
       "      <td>0.642429</td>\n",
       "      <td>0.717828</td>\n",
       "      <td>...</td>\n",
       "      <td>0.390560</td>\n",
       "      <td>0.064094</td>\n",
       "      <td>0.219256</td>\n",
       "      <td>0.064480</td>\n",
       "      <td>-0.036017</td>\n",
       "      <td>-0.187134</td>\n",
       "      <td>-0.393296</td>\n",
       "      <td>-0.331401</td>\n",
       "      <td>0.533545</td>\n",
       "      <td>0.414834</td>\n",
       "    </tr>\n",
       "    <tr>\n",
       "      <th>seventh</th>\n",
       "      <td>-0.209635</td>\n",
       "      <td>-0.073908</td>\n",
       "      <td>-0.071796</td>\n",
       "      <td>-0.346426</td>\n",
       "      <td>-0.262444</td>\n",
       "      <td>0.005938</td>\n",
       "      <td>0.231328</td>\n",
       "      <td>-0.322214</td>\n",
       "      <td>-0.374302</td>\n",
       "      <td>-0.083047</td>\n",
       "      <td>...</td>\n",
       "      <td>-0.287546</td>\n",
       "      <td>-0.063250</td>\n",
       "      <td>-0.108163</td>\n",
       "      <td>-0.106148</td>\n",
       "      <td>-0.239200</td>\n",
       "      <td>0.069278</td>\n",
       "      <td>0.186471</td>\n",
       "      <td>0.158213</td>\n",
       "      <td>-0.174555</td>\n",
       "      <td>-0.015136</td>\n",
       "    </tr>\n",
       "    <tr>\n",
       "      <th>sixth</th>\n",
       "      <td>0.220330</td>\n",
       "      <td>0.217138</td>\n",
       "      <td>0.410552</td>\n",
       "      <td>0.061291</td>\n",
       "      <td>0.158126</td>\n",
       "      <td>0.388018</td>\n",
       "      <td>0.320530</td>\n",
       "      <td>0.143472</td>\n",
       "      <td>0.113060</td>\n",
       "      <td>0.319380</td>\n",
       "      <td>...</td>\n",
       "      <td>-0.139454</td>\n",
       "      <td>-0.393719</td>\n",
       "      <td>-0.422693</td>\n",
       "      <td>-0.490619</td>\n",
       "      <td>-0.449090</td>\n",
       "      <td>-0.460342</td>\n",
       "      <td>-0.390163</td>\n",
       "      <td>-0.390258</td>\n",
       "      <td>0.141814</td>\n",
       "      <td>-0.178981</td>\n",
       "    </tr>\n",
       "    <tr>\n",
       "      <th>tenth</th>\n",
       "      <td>-0.414789</td>\n",
       "      <td>0.075749</td>\n",
       "      <td>0.168089</td>\n",
       "      <td>0.147310</td>\n",
       "      <td>0.284402</td>\n",
       "      <td>-0.103456</td>\n",
       "      <td>-0.005160</td>\n",
       "      <td>-0.294339</td>\n",
       "      <td>-0.321033</td>\n",
       "      <td>0.237741</td>\n",
       "      <td>...</td>\n",
       "      <td>-0.471732</td>\n",
       "      <td>-0.085944</td>\n",
       "      <td>-0.207962</td>\n",
       "      <td>-0.210160</td>\n",
       "      <td>-0.366500</td>\n",
       "      <td>-0.009267</td>\n",
       "      <td>0.044096</td>\n",
       "      <td>-0.055866</td>\n",
       "      <td>-0.432351</td>\n",
       "      <td>-0.073723</td>\n",
       "    </tr>\n",
       "    <tr>\n",
       "      <th>third</th>\n",
       "      <td>-0.287070</td>\n",
       "      <td>0.117649</td>\n",
       "      <td>0.246635</td>\n",
       "      <td>0.158357</td>\n",
       "      <td>0.280668</td>\n",
       "      <td>0.125381</td>\n",
       "      <td>0.206612</td>\n",
       "      <td>0.046864</td>\n",
       "      <td>-0.121527</td>\n",
       "      <td>0.285263</td>\n",
       "      <td>...</td>\n",
       "      <td>-0.090050</td>\n",
       "      <td>0.124398</td>\n",
       "      <td>0.068094</td>\n",
       "      <td>0.067451</td>\n",
       "      <td>-0.192254</td>\n",
       "      <td>0.407342</td>\n",
       "      <td>0.536228</td>\n",
       "      <td>0.413777</td>\n",
       "      <td>-0.212982</td>\n",
       "      <td>0.197999</td>\n",
       "    </tr>\n",
       "    <tr>\n",
       "      <th>thirteenth</th>\n",
       "      <td>0.647634</td>\n",
       "      <td>0.498883</td>\n",
       "      <td>0.369914</td>\n",
       "      <td>0.229458</td>\n",
       "      <td>0.023711</td>\n",
       "      <td>0.915348</td>\n",
       "      <td>0.914163</td>\n",
       "      <td>0.339668</td>\n",
       "      <td>0.491575</td>\n",
       "      <td>0.573233</td>\n",
       "      <td>...</td>\n",
       "      <td>0.325807</td>\n",
       "      <td>0.286705</td>\n",
       "      <td>0.273550</td>\n",
       "      <td>0.062251</td>\n",
       "      <td>-0.044089</td>\n",
       "      <td>0.009666</td>\n",
       "      <td>-0.089662</td>\n",
       "      <td>-0.067069</td>\n",
       "      <td>0.482713</td>\n",
       "      <td>0.247288</td>\n",
       "    </tr>\n",
       "    <tr>\n",
       "      <th>twelveth</th>\n",
       "      <td>0.382368</td>\n",
       "      <td>0.451158</td>\n",
       "      <td>0.561352</td>\n",
       "      <td>0.280729</td>\n",
       "      <td>0.329730</td>\n",
       "      <td>0.844779</td>\n",
       "      <td>0.921578</td>\n",
       "      <td>0.333758</td>\n",
       "      <td>0.441346</td>\n",
       "      <td>0.744716</td>\n",
       "      <td>...</td>\n",
       "      <td>-0.073382</td>\n",
       "      <td>-0.055151</td>\n",
       "      <td>-0.027212</td>\n",
       "      <td>-0.187995</td>\n",
       "      <td>-0.225911</td>\n",
       "      <td>0.024035</td>\n",
       "      <td>-0.015429</td>\n",
       "      <td>0.038225</td>\n",
       "      <td>0.066919</td>\n",
       "      <td>-0.036440</td>\n",
       "    </tr>\n",
       "  </tbody>\n",
       "</table>\n",
       "<p>364 rows × 390 columns</p>\n",
       "</div>"
      ],
      "text/plain": [
       "                              68-177-121_act  68-180-121_act  68-183-121_act  \\\n",
       "proband task aggr_13_groups0                                                   \n",
       "ab87    0    eightth               -0.091628       -0.281788       -0.182527   \n",
       "             eleventh               0.539451        0.328748       -0.143597   \n",
       "             fifth                  0.280249        0.074099       -0.014945   \n",
       "             first                 -0.137228       -0.284458       -0.277643   \n",
       "             fourth                 0.065869       -0.178433       -0.278951   \n",
       "             nineth                 0.277469        0.095169        0.173131   \n",
       "             second                -0.019306       -0.186899       -0.336380   \n",
       "             seventh                0.308541        0.038164       -0.214396   \n",
       "             sixth                  0.329704        0.496373        0.275014   \n",
       "             tenth                  0.164839       -0.057519       -0.084370   \n",
       "             third                 -0.250037       -0.262233       -0.095451   \n",
       "             thirteenth             0.341676        0.086077       -0.298236   \n",
       "             twelveth               0.775338        0.348231       -0.132125   \n",
       "        1    eightth               -0.361905        0.038164        0.535065   \n",
       "             eleventh              -0.223628       -0.104422       -0.052011   \n",
       "             fifth                  0.167977        0.013702       -0.230281   \n",
       "             first                 -0.481037       -0.387790       -0.258522   \n",
       "             fourth                 0.152255        0.283047        0.283578   \n",
       "             nineth                -0.061184        0.198717        0.548205   \n",
       "             second                -0.089925        0.220654        0.203922   \n",
       "             seventh               -0.254969        0.007857        0.294528   \n",
       "             sixth                  0.083415        0.437996        0.450735   \n",
       "             tenth                 -0.935638       -0.780695       -0.188508   \n",
       "             third                 -0.160184        0.217623        0.595371   \n",
       "             thirteenth            -0.473504       -0.333526       -0.367857   \n",
       "             twelveth              -0.055669       -0.079166       -0.206061   \n",
       "bo49    0    eightth                0.062692        0.294617        0.399743   \n",
       "             eleventh               0.083759        0.170628       -0.513050   \n",
       "             fifth                  0.049632        0.202403        0.267642   \n",
       "             first                 -0.053890        0.218615        0.742426   \n",
       "...                                      ...             ...             ...   \n",
       "pe80_b  1    tenth                  0.484624        0.701096        0.742781   \n",
       "             third                 -0.439605       -0.513938       -0.498850   \n",
       "             thirteenth             0.045845       -0.285671       -0.287246   \n",
       "             twelveth               0.362699        0.750072        0.846433   \n",
       "pg74    0    eightth               -0.446881       -0.775029       -0.999417   \n",
       "             eleventh               0.270614        0.094632        0.235339   \n",
       "             fifth                  0.274144       -0.006548        0.167937   \n",
       "             first                 -0.298473       -0.547303       -0.575751   \n",
       "             fourth                -0.162084       -0.429275       -0.478706   \n",
       "             nineth                -0.327959       -0.576896       -0.573401   \n",
       "             second                 0.394315        0.177680        0.181736   \n",
       "             seventh                0.072085       -0.217928       -0.241323   \n",
       "             sixth                  0.319866       -0.110453        0.191592   \n",
       "             tenth                 -0.593986       -0.490560       -0.880915   \n",
       "             third                  0.193939        0.048786       -0.093100   \n",
       "             thirteenth            -0.260299       -0.275892       -0.379310   \n",
       "             twelveth               0.574164        0.212440        0.198567   \n",
       "        1    eightth               -0.507320        0.022763        0.149969   \n",
       "             eleventh               0.221959        0.502453        0.508507   \n",
       "             fifth                 -0.341426        0.227284        0.539592   \n",
       "             first                 -0.083871        0.316533        0.216536   \n",
       "             fourth                -0.187679       -0.018667       -0.134648   \n",
       "             nineth                 0.001275        0.095477       -0.027974   \n",
       "             second                 0.723658        0.687809        0.616698   \n",
       "             seventh               -0.209635       -0.073908       -0.071796   \n",
       "             sixth                  0.220330        0.217138        0.410552   \n",
       "             tenth                 -0.414789        0.075749        0.168089   \n",
       "             third                 -0.287070        0.117649        0.246635   \n",
       "             thirteenth             0.647634        0.498883        0.369914   \n",
       "             twelveth               0.382368        0.451158        0.561352   \n",
       "\n",
       "                              68-180-124_act  68-183-124_act  71-180-118_act  \\\n",
       "proband task aggr_13_groups0                                                   \n",
       "ab87    0    eightth               -0.166311       -0.118958       -0.125351   \n",
       "             eleventh               0.584192        0.449952        0.449797   \n",
       "             fifth                  0.158840        0.068058       -0.012596   \n",
       "             first                 -0.249412       -0.393664       -0.177276   \n",
       "             fourth                 0.006189        0.029882       -0.049537   \n",
       "             nineth                 0.390289        0.465048        0.166675   \n",
       "             second                 0.031832        0.010664       -0.054544   \n",
       "             seventh                0.114462       -0.051343       -0.244758   \n",
       "             sixth                  0.533361        0.438054        0.344873   \n",
       "             tenth                  0.147580        0.091959        0.019482   \n",
       "             third                 -0.105869       -0.104230       -0.421347   \n",
       "             thirteenth             0.254660        0.081528        0.069905   \n",
       "             twelveth               0.639216        0.480982        0.328244   \n",
       "        1    eightth               -0.124289        0.074138        0.037613   \n",
       "             eleventh              -0.302599       -0.317558        0.130950   \n",
       "             fifth                 -0.062481       -0.080538       -0.052613   \n",
       "             first                 -0.477470       -0.473282       -0.401070   \n",
       "             fourth                 0.140734        0.186987        0.473292   \n",
       "             nineth                 0.109186        0.281963        0.272028   \n",
       "             second                 0.055057        0.049346        0.052525   \n",
       "             seventh               -0.631471       -0.538487       -0.045639   \n",
       "             sixth                  0.353119        0.413681        0.064219   \n",
       "             tenth                 -0.838564       -0.590115       -0.589889   \n",
       "             third                  0.153375        0.307227        0.022486   \n",
       "             thirteenth            -0.638066       -0.670729       -0.373713   \n",
       "             twelveth              -0.149022       -0.198996       -0.095633   \n",
       "bo49    0    eightth                0.282404        0.282881        0.419782   \n",
       "             eleventh              -0.147541       -0.349850       -0.589811   \n",
       "             fifth                  0.338858        0.726483        0.122327   \n",
       "             first                  0.110218        0.394689       -0.254079   \n",
       "...                                      ...             ...             ...   \n",
       "pe80_b  1    tenth                  0.408522        0.492137        0.811073   \n",
       "             third                 -0.278072       -0.493174       -0.244262   \n",
       "             thirteenth             0.111874       -0.030963       -0.252522   \n",
       "             twelveth               0.845161        0.771816        0.601458   \n",
       "pg74    0    eightth               -0.793896       -0.848570       -0.834844   \n",
       "             eleventh               0.187062        0.272155        0.330352   \n",
       "             fifth                  0.117000        0.220032        0.302490   \n",
       "             first                 -0.413750       -0.427626       -0.340858   \n",
       "             fourth                -0.526302       -0.559403       -0.447549   \n",
       "             nineth                -0.503451       -0.434048       -0.621765   \n",
       "             second                 0.146177        0.082256       -0.048645   \n",
       "             seventh               -0.177504       -0.143562       -0.102086   \n",
       "             sixth                 -0.152765        0.016243        0.114875   \n",
       "             tenth                 -0.305919       -0.509022       -0.829477   \n",
       "             third                  0.049299       -0.030951       -0.078334   \n",
       "             thirteenth            -0.335285       -0.342870       -0.548684   \n",
       "             twelveth               0.084141        0.107720        0.445913   \n",
       "        1    eightth                0.698078        0.707586       -0.513285   \n",
       "             eleventh              -0.018024       -0.161185        0.321331   \n",
       "             fifth                  0.675794        0.847378        0.204515   \n",
       "             first                  0.427934        0.306506        0.322245   \n",
       "             fourth                 0.096007       -0.022986       -0.222671   \n",
       "             nineth                -0.125100       -0.096292       -0.018727   \n",
       "             second                 0.554933        0.493642        0.724308   \n",
       "             seventh               -0.346426       -0.262444        0.005938   \n",
       "             sixth                  0.061291        0.158126        0.388018   \n",
       "             tenth                  0.147310        0.284402       -0.103456   \n",
       "             third                  0.158357        0.280668        0.125381   \n",
       "             thirteenth             0.229458        0.023711        0.915348   \n",
       "             twelveth               0.280729        0.329730        0.844779   \n",
       "\n",
       "                              71-183-118_act  71-174-121_act  71-177-121_act  \\\n",
       "proband task aggr_13_groups0                                                   \n",
       "ab87    0    eightth               -0.287746        0.101655       -0.035068   \n",
       "             eleventh               0.252958        0.511686        0.484109   \n",
       "             fifth                 -0.308264        0.421223        0.378013   \n",
       "             first                 -0.185980       -0.005965       -0.042855   \n",
       "             fourth                -0.176131        0.309637        0.147574   \n",
       "             nineth                -0.119229        0.531553        0.352368   \n",
       "             second                -0.202120        0.115360       -0.036239   \n",
       "             seventh               -0.519731        0.274507        0.365483   \n",
       "             sixth                  0.277442        0.394557        0.356935   \n",
       "             tenth                 -0.080930        0.181972        0.183037   \n",
       "             third                 -0.261621       -0.077199       -0.127931   \n",
       "             thirteenth            -0.194597        0.352805        0.271098   \n",
       "             twelveth              -0.087359        0.858717        0.829271   \n",
       "        1    eightth                0.318203       -0.420777       -0.337955   \n",
       "             eleventh               0.360880       -0.377431       -0.371213   \n",
       "             fifth                 -0.208549        0.174270        0.154229   \n",
       "             first                 -0.294038       -0.578967       -0.495576   \n",
       "             fourth                 0.431916        0.024419        0.094799   \n",
       "             nineth                 0.528165       -0.100412       -0.011413   \n",
       "             second                 0.271971       -0.318628       -0.230455   \n",
       "             seventh                0.258429       -0.573443       -0.267167   \n",
       "             sixth                  0.239553       -0.024398        0.060781   \n",
       "             tenth                 -0.268186       -0.820131       -0.970898   \n",
       "             third                  0.335301       -0.339185       -0.229576   \n",
       "             thirteenth            -0.249857       -0.595222       -0.562911   \n",
       "             twelveth               0.041628       -0.187635       -0.079626   \n",
       "bo49    0    eightth                0.358373       -0.240897        0.057039   \n",
       "             eleventh              -0.782590       -0.350979       -0.224458   \n",
       "             fifth                 -0.105330       -0.188542        0.020501   \n",
       "             first                 -0.197305       -0.084660       -0.153726   \n",
       "...                                      ...             ...             ...   \n",
       "pe80_b  1    tenth                  0.845626        0.237250        0.646092   \n",
       "             third                 -0.182611       -0.157467       -0.429362   \n",
       "             thirteenth            -0.255255        0.471406        0.095885   \n",
       "             twelveth               0.643325        0.144487        0.473542   \n",
       "pg74    0    eightth               -0.933358       -0.481972       -0.357409   \n",
       "             eleventh               0.200657        0.340134        0.201635   \n",
       "             fifth                  0.117409        0.336085        0.160416   \n",
       "             first                 -0.481729       -0.256738       -0.266187   \n",
       "             fourth                -0.463716       -0.183428       -0.216691   \n",
       "             nineth                -0.571044       -0.257436       -0.384269   \n",
       "             second                -0.045042        0.385739        0.366961   \n",
       "             seventh               -0.124695        0.162924        0.077922   \n",
       "             sixth                  0.021354        0.348836        0.253722   \n",
       "             tenth                 -0.890442       -0.503239       -0.401274   \n",
       "             third                 -0.066388        0.283918        0.062437   \n",
       "             thirteenth            -0.544530       -0.227699       -0.280265   \n",
       "             twelveth               0.228294        0.466619        0.416176   \n",
       "        1    eightth               -0.512399       -0.268884       -0.200473   \n",
       "             eleventh               0.422764       -0.277446        0.055230   \n",
       "             fifth                  0.216386       -0.026943       -0.061839   \n",
       "             first                  0.366255       -0.197358       -0.120739   \n",
       "             fourth                -0.132747       -0.294091       -0.127946   \n",
       "             nineth                 0.092469       -0.015216        0.123364   \n",
       "             second                 0.809682        0.657742        0.642429   \n",
       "             seventh                0.231328       -0.322214       -0.374302   \n",
       "             sixth                  0.320530        0.143472        0.113060   \n",
       "             tenth                 -0.005160       -0.294339       -0.321033   \n",
       "             third                  0.206612        0.046864       -0.121527   \n",
       "             thirteenth             0.914163        0.339668        0.491575   \n",
       "             twelveth               0.921578        0.333758        0.441346   \n",
       "\n",
       "                              71-180-121_act       ...         \\\n",
       "proband task aggr_13_groups0                       ...          \n",
       "ab87    0    eightth               -0.184434       ...          \n",
       "             eleventh               0.557964       ...          \n",
       "             fifth                  0.123488       ...          \n",
       "             first                 -0.120884       ...          \n",
       "             fourth                 0.031403       ...          \n",
       "             nineth                 0.212589       ...          \n",
       "             second                -0.109637       ...          \n",
       "             seventh                0.082978       ...          \n",
       "             sixth                  0.602842       ...          \n",
       "             tenth                 -0.038881       ...          \n",
       "             third                 -0.215335       ...          \n",
       "             thirteenth             0.191515       ...          \n",
       "             twelveth               0.416451       ...          \n",
       "        1    eightth               -0.072293       ...          \n",
       "             eleventh              -0.223961       ...          \n",
       "             fifth                 -0.009945       ...          \n",
       "             first                 -0.552084       ...          \n",
       "             fourth                 0.201888       ...          \n",
       "             nineth                 0.166728       ...          \n",
       "             second                 0.075225       ...          \n",
       "             seventh               -0.217846       ...          \n",
       "             sixth                  0.304311       ...          \n",
       "             tenth                 -0.918205       ...          \n",
       "             third                  0.079593       ...          \n",
       "             thirteenth            -0.449334       ...          \n",
       "             twelveth              -0.050782       ...          \n",
       "bo49    0    eightth                0.063089       ...          \n",
       "             eleventh              -0.016356       ...          \n",
       "             fifth                  0.149158       ...          \n",
       "             first                 -0.072985       ...          \n",
       "...                                      ...       ...          \n",
       "pe80_b  1    tenth                  0.801366       ...          \n",
       "             third                 -0.321947       ...          \n",
       "             thirteenth            -0.255920       ...          \n",
       "             twelveth               0.740682       ...          \n",
       "pg74    0    eightth               -0.708865       ...          \n",
       "             eleventh              -0.006038       ...          \n",
       "             fifth                 -0.094420       ...          \n",
       "             first                 -0.612848       ...          \n",
       "             fourth                -0.554360       ...          \n",
       "             nineth                -0.591321       ...          \n",
       "             second                 0.070727       ...          \n",
       "             seventh               -0.274757       ...          \n",
       "             sixth                 -0.186619       ...          \n",
       "             tenth                 -0.467928       ...          \n",
       "             third                 -0.314479       ...          \n",
       "             thirteenth            -0.452332       ...          \n",
       "             twelveth               0.041483       ...          \n",
       "        1    eightth                0.221089       ...          \n",
       "             eleventh               0.172593       ...          \n",
       "             fifth                  0.472667       ...          \n",
       "             first                  0.336602       ...          \n",
       "             fourth                 0.059435       ...          \n",
       "             nineth                 0.341719       ...          \n",
       "             second                 0.717828       ...          \n",
       "             seventh               -0.083047       ...          \n",
       "             sixth                  0.319380       ...          \n",
       "             tenth                  0.237741       ...          \n",
       "             third                  0.285263       ...          \n",
       "             thirteenth             0.573233       ...          \n",
       "             twelveth               0.744716       ...          \n",
       "\n",
       "                              188-177-130_act  188-165-133_act  \\\n",
       "proband task aggr_13_groups0                                     \n",
       "ab87    0    eightth                 0.743780         0.477535   \n",
       "             eleventh                0.482630         0.304288   \n",
       "             fifth                   0.102181         0.016480   \n",
       "             first                  -0.108709         0.069928   \n",
       "             fourth                  0.600929         0.389877   \n",
       "             nineth                  0.881629         0.702582   \n",
       "             second                  0.376954         0.473849   \n",
       "             seventh                -0.547577        -0.236795   \n",
       "             sixth                   0.083247         0.070122   \n",
       "             tenth                   0.257424         0.257532   \n",
       "             third                  -0.052754         0.003772   \n",
       "             thirteenth             -0.067840         0.374615   \n",
       "             twelveth                0.089482         0.367922   \n",
       "        1    eightth                 0.512802         0.291289   \n",
       "             eleventh               -0.171053        -0.298974   \n",
       "             fifth                  -0.442901        -0.795630   \n",
       "             first                  -0.466607        -0.286558   \n",
       "             fourth                  0.103823         0.069831   \n",
       "             nineth                  0.286749         0.163051   \n",
       "             second                 -0.175132        -0.060735   \n",
       "             seventh                -0.957196        -0.828902   \n",
       "             sixth                  -0.283194        -0.190622   \n",
       "             tenth                   0.097024        -0.405580   \n",
       "             third                  -0.343613        -0.132905   \n",
       "             thirteenth             -0.672648        -0.593378   \n",
       "             twelveth               -0.681807        -0.432450   \n",
       "bo49    0    eightth                -0.161715         0.209601   \n",
       "             eleventh                0.401069        -0.049924   \n",
       "             fifth                   0.048907         0.219812   \n",
       "             first                   0.452111        -0.157508   \n",
       "...                                       ...              ...   \n",
       "pe80_b  1    tenth                  -0.039668         0.075087   \n",
       "             third                  -0.332691        -0.098422   \n",
       "             thirteenth              0.838283         0.040183   \n",
       "             twelveth                0.197058         0.087395   \n",
       "pg74    0    eightth                -0.634573        -0.611920   \n",
       "             eleventh                0.598488         0.671864   \n",
       "             fifth                   0.315854         0.562323   \n",
       "             first                  -0.397985        -0.403583   \n",
       "             fourth                  0.205854         0.327442   \n",
       "             nineth                 -0.172790        -0.116337   \n",
       "             second                  0.094496         0.089595   \n",
       "             seventh                 0.038736        -0.064373   \n",
       "             sixth                   0.330723         0.176362   \n",
       "             tenth                  -0.323400        -0.313929   \n",
       "             third                   0.027824         0.500656   \n",
       "             thirteenth             -0.094487        -0.249294   \n",
       "             twelveth                0.620912         0.380770   \n",
       "        1    eightth                 0.253740        -0.001182   \n",
       "             eleventh               -0.422328         0.125200   \n",
       "             fifth                  -0.114992        -0.239671   \n",
       "             first                   0.407228         0.120629   \n",
       "             fourth                 -0.164036        -0.379739   \n",
       "             nineth                 -0.244377        -0.425796   \n",
       "             second                  0.390560         0.064094   \n",
       "             seventh                -0.287546        -0.063250   \n",
       "             sixth                  -0.139454        -0.393719   \n",
       "             tenth                  -0.471732        -0.085944   \n",
       "             third                  -0.090050         0.124398   \n",
       "             thirteenth              0.325807         0.286705   \n",
       "             twelveth               -0.073382        -0.055151   \n",
       "\n",
       "                              188-168-133_act  188-171-133_act  \\\n",
       "proband task aggr_13_groups0                                     \n",
       "ab87    0    eightth                 0.591160         0.293833   \n",
       "             eleventh                0.409621         0.494923   \n",
       "             fifth                   0.177819         0.194745   \n",
       "             first                   0.198410         0.335255   \n",
       "             fourth                  0.450383         0.423211   \n",
       "             nineth                  0.702925         0.514728   \n",
       "             second                  0.650774         0.680738   \n",
       "             seventh                -0.180673         0.045885   \n",
       "             sixth                  -0.140661         0.281860   \n",
       "             tenth                   0.501515         0.385414   \n",
       "             third                   0.104628         0.055011   \n",
       "             thirteenth              0.207401         0.369816   \n",
       "             twelveth                0.473551         0.696919   \n",
       "        1    eightth                 0.292551        -0.095467   \n",
       "             eleventh               -0.439270        -0.543275   \n",
       "             fifth                  -0.488903        -0.324516   \n",
       "             first                  -0.267621        -0.457713   \n",
       "             fourth                 -0.128193        -0.356208   \n",
       "             nineth                  0.031707        -0.165625   \n",
       "             second                 -0.075023        -0.220185   \n",
       "             seventh                -0.926431        -0.873095   \n",
       "             sixth                  -0.646345        -0.462567   \n",
       "             tenth                  -0.432436        -0.494539   \n",
       "             third                  -0.025929        -0.033399   \n",
       "             thirteenth             -0.791648        -0.581913   \n",
       "             twelveth               -0.410407        -0.197338   \n",
       "bo49    0    eightth                -0.404098        -0.474326   \n",
       "             eleventh                0.334133         0.547971   \n",
       "             fifth                  -0.097227        -0.458015   \n",
       "             first                   0.494466         0.521938   \n",
       "...                                       ...              ...   \n",
       "pe80_b  1    tenth                  -0.283726        -0.379965   \n",
       "             third                  -0.170803        -0.191841   \n",
       "             thirteenth              0.224637         0.403528   \n",
       "             twelveth                0.020918        -0.089520   \n",
       "pg74    0    eightth                -0.520246        -0.310456   \n",
       "             eleventh                0.754768         0.807913   \n",
       "             fifth                   0.454983         0.258634   \n",
       "             first                  -0.383536        -0.280243   \n",
       "             fourth                  0.257861         0.188138   \n",
       "             nineth                 -0.123006        -0.092156   \n",
       "             second                  0.163889         0.165643   \n",
       "             seventh                -0.005338         0.069804   \n",
       "             sixth                   0.184395         0.102617   \n",
       "             tenth                  -0.309615        -0.146019   \n",
       "             third                   0.507323         0.478172   \n",
       "             thirteenth             -0.221144        -0.126208   \n",
       "             twelveth                0.403424         0.429138   \n",
       "        1    eightth                 0.007552         0.061879   \n",
       "             eleventh                0.067216        -0.124722   \n",
       "             fifth                  -0.260497        -0.292502   \n",
       "             first                   0.182931         0.341595   \n",
       "             fourth                 -0.429334        -0.367910   \n",
       "             nineth                 -0.440759        -0.272690   \n",
       "             second                  0.219256         0.064480   \n",
       "             seventh                -0.108163        -0.106148   \n",
       "             sixth                  -0.422693        -0.490619   \n",
       "             tenth                  -0.207962        -0.210160   \n",
       "             third                   0.068094         0.067451   \n",
       "             thirteenth              0.273550         0.062251   \n",
       "             twelveth               -0.027212        -0.187995   \n",
       "\n",
       "                              188-174-133_act  188-168-136_act  \\\n",
       "proband task aggr_13_groups0                                     \n",
       "ab87    0    eightth                 0.271066         0.260337   \n",
       "             eleventh                0.737658         0.717590   \n",
       "             fifth                   0.282338         0.373031   \n",
       "             first                   0.234429         0.134803   \n",
       "             fourth                  0.509404         0.433237   \n",
       "             nineth                  0.571811         0.394813   \n",
       "             second                  0.643808         0.597616   \n",
       "             seventh                 0.161742         0.180603   \n",
       "             sixth                   0.538419         0.101671   \n",
       "             tenth                   0.400223         0.492947   \n",
       "             third                  -0.047812        -0.145900   \n",
       "             thirteenth              0.537409         0.306997   \n",
       "             twelveth                0.752121         0.667434   \n",
       "        1    eightth                -0.259706        -0.172096   \n",
       "             eleventh               -0.483192        -0.380975   \n",
       "             fifth                  -0.390299        -0.267708   \n",
       "             first                  -0.682697        -0.307948   \n",
       "             fourth                 -0.417577        -0.324857   \n",
       "             nineth                 -0.317824        -0.304795   \n",
       "             second                 -0.261620        -0.043237   \n",
       "             seventh                -0.831953        -0.655946   \n",
       "             sixth                  -0.271777        -0.682199   \n",
       "             tenth                  -0.568269        -0.520725   \n",
       "             third                  -0.297512        -0.070752   \n",
       "             thirteenth             -0.512277        -0.651303   \n",
       "             twelveth               -0.343826        -0.186827   \n",
       "bo49    0    eightth                -0.135846        -0.176379   \n",
       "             eleventh                0.456679         0.006513   \n",
       "             fifth                  -0.289703        -0.229343   \n",
       "             first                   0.347645         0.323719   \n",
       "...                                       ...              ...   \n",
       "pe80_b  1    tenth                  -0.186429        -0.185493   \n",
       "             third                  -0.496357         0.155152   \n",
       "             thirteenth              0.504876         0.420144   \n",
       "             twelveth               -0.046264        -0.364816   \n",
       "pg74    0    eightth                -0.257084        -0.211115   \n",
       "             eleventh                0.774482         0.530839   \n",
       "             fifth                   0.330360         0.535791   \n",
       "             first                  -0.161578        -0.260339   \n",
       "             fourth                  0.223386         0.121609   \n",
       "             nineth                 -0.062719         0.105590   \n",
       "             second                  0.258947        -0.100530   \n",
       "             seventh                 0.293722         0.144814   \n",
       "             sixth                   0.272733        -0.093831   \n",
       "             tenth                  -0.265033        -0.114511   \n",
       "             third                   0.516528         0.644239   \n",
       "             thirteenth              0.160336        -0.271504   \n",
       "             twelveth                0.621722         0.284622   \n",
       "        1    eightth                 0.055888        -0.098103   \n",
       "             eleventh               -0.420774        -0.367913   \n",
       "             fifth                  -0.494670        -0.241115   \n",
       "             first                   0.285773         0.186271   \n",
       "             fourth                 -0.275631        -0.337298   \n",
       "             nineth                 -0.277204        -0.203250   \n",
       "             second                 -0.036017        -0.187134   \n",
       "             seventh                -0.239200         0.069278   \n",
       "             sixth                  -0.449090        -0.460342   \n",
       "             tenth                  -0.366500        -0.009267   \n",
       "             third                  -0.192254         0.407342   \n",
       "             thirteenth             -0.044089         0.009666   \n",
       "             twelveth               -0.225911         0.024035   \n",
       "\n",
       "                              188-171-136_act  188-174-136_act  \\\n",
       "proband task aggr_13_groups0                                     \n",
       "ab87    0    eightth                -0.071768         0.082850   \n",
       "             eleventh                0.706776         0.667110   \n",
       "             fifth                   0.230366         0.175766   \n",
       "             first                   0.134940         0.187372   \n",
       "             fourth                  0.301734         0.378737   \n",
       "             nineth                  0.259908         0.516236   \n",
       "             second                  0.606674         0.560794   \n",
       "             seventh                 0.294083         0.358398   \n",
       "             sixth                   0.508952         0.693486   \n",
       "             tenth                   0.378458         0.379112   \n",
       "             third                  -0.397876        -0.315648   \n",
       "             thirteenth              0.591159         0.741422   \n",
       "             twelveth                0.829662         0.777153   \n",
       "        1    eightth                -0.388184        -0.369105   \n",
       "             eleventh               -0.509624        -0.624782   \n",
       "             fifth                  -0.162774        -0.323983   \n",
       "             first                  -0.501633        -0.764367   \n",
       "             fourth                 -0.402537        -0.391953   \n",
       "             nineth                 -0.396345        -0.314628   \n",
       "             second                 -0.153167        -0.384052   \n",
       "             seventh                -0.558549        -0.609800   \n",
       "             sixth                  -0.210126        -0.047345   \n",
       "             tenth                  -0.590386        -0.565241   \n",
       "             third                  -0.204217        -0.370863   \n",
       "             thirteenth             -0.343255        -0.371391   \n",
       "             twelveth                0.098130        -0.058669   \n",
       "bo49    0    eightth                -0.435578        -0.378705   \n",
       "             eleventh                0.355922         0.615482   \n",
       "             fifth                  -0.422419        -0.242604   \n",
       "             first                   0.605930         0.503184   \n",
       "...                                       ...              ...   \n",
       "pe80_b  1    tenth                  -0.213844        -0.144472   \n",
       "             third                   0.245526        -0.226965   \n",
       "             thirteenth              0.467418         0.446824   \n",
       "             twelveth               -0.619410        -0.342936   \n",
       "pg74    0    eightth                -0.028135        -0.093129   \n",
       "             eleventh                0.487841         0.548054   \n",
       "             fifth                   0.331543         0.319605   \n",
       "             first                  -0.103325        -0.026802   \n",
       "             fourth                  0.023442         0.025263   \n",
       "             nineth                  0.192998         0.155372   \n",
       "             second                 -0.196443        -0.241775   \n",
       "             seventh                 0.214319         0.276335   \n",
       "             sixth                  -0.216459        -0.120650   \n",
       "             tenth                   0.016596        -0.133883   \n",
       "             third                   0.609677         0.623229   \n",
       "             thirteenth             -0.214719        -0.137374   \n",
       "             twelveth                0.222325         0.383577   \n",
       "        1    eightth                -0.134829        -0.104170   \n",
       "             eleventh               -0.510258        -0.569754   \n",
       "             fifth                  -0.210193        -0.261746   \n",
       "             first                   0.159928         0.134346   \n",
       "             fourth                 -0.294318        -0.262016   \n",
       "             nineth                 -0.092795        -0.161728   \n",
       "             second                 -0.393296        -0.331401   \n",
       "             seventh                 0.186471         0.158213   \n",
       "             sixth                  -0.390163        -0.390258   \n",
       "             tenth                   0.044096        -0.055866   \n",
       "             third                   0.536228         0.413777   \n",
       "             thirteenth             -0.089662        -0.067069   \n",
       "             twelveth               -0.015429         0.038225   \n",
       "\n",
       "                              191-168-130_act  191-168-133_act  \n",
       "proband task aggr_13_groups0                                    \n",
       "ab87    0    eightth                 0.208056         0.683637  \n",
       "             eleventh                0.396914         0.335798  \n",
       "             fifth                  -0.067923         0.241907  \n",
       "             first                   0.105219         0.179252  \n",
       "             fourth                  0.474401         0.445122  \n",
       "             nineth                  0.357959         0.574406  \n",
       "             second                  0.439080         0.410559  \n",
       "             seventh                -0.279258        -0.232351  \n",
       "             sixth                  -0.256359        -0.398231  \n",
       "             tenth                   0.174594         0.381265  \n",
       "             third                   0.008550         0.136742  \n",
       "             thirteenth             -0.117017        -0.041336  \n",
       "             twelveth                0.196057         0.319072  \n",
       "        1    eightth                 0.131836         0.366109  \n",
       "             eleventh               -0.267935        -0.314413  \n",
       "             fifth                  -0.078992        -0.207677  \n",
       "             first                  -0.202025        -0.097892  \n",
       "             fourth                 -0.174337        -0.215810  \n",
       "             nineth                  0.110289         0.195886  \n",
       "             second                 -0.130284        -0.073865  \n",
       "             seventh                -0.781529        -0.831274  \n",
       "             sixth                  -0.269034        -0.638872  \n",
       "             tenth                   0.124400        -0.329754  \n",
       "             third                   0.361424         0.054403  \n",
       "             thirteenth             -0.544674        -0.951779  \n",
       "             twelveth               -0.069444        -0.105562  \n",
       "bo49    0    eightth                -0.293432        -0.521206  \n",
       "             eleventh                0.120392         0.156247  \n",
       "             fifth                  -0.835297        -0.627296  \n",
       "             first                   0.003189         0.003986  \n",
       "...                                       ...              ...  \n",
       "pe80_b  1    tenth                  -0.111376        -0.159624  \n",
       "             third                  -0.396568        -0.268498  \n",
       "             thirteenth              0.512373         0.447009  \n",
       "             twelveth                0.195993         0.089914  \n",
       "pg74    0    eightth                -0.704417        -0.576453  \n",
       "             eleventh                0.557328         0.666425  \n",
       "             fifth                   0.218295         0.332415  \n",
       "             first                  -0.490831        -0.512359  \n",
       "             fourth                  0.022958         0.022328  \n",
       "             nineth                  0.153566        -0.025517  \n",
       "             second                 -0.076622         0.010321  \n",
       "             seventh                -0.358855        -0.159121  \n",
       "             sixth                   0.311191         0.063853  \n",
       "             tenth                  -0.587737        -0.391664  \n",
       "             third                   0.001444         0.367802  \n",
       "             thirteenth             -0.402691        -0.452779  \n",
       "             twelveth                0.276681         0.056541  \n",
       "        1    eightth                 0.355960         0.191138  \n",
       "             eleventh                0.284609         0.183374  \n",
       "             fifth                  -0.058528         0.002738  \n",
       "             first                   0.094060         0.009148  \n",
       "             fourth                 -0.044196        -0.217257  \n",
       "             nineth                  0.053302        -0.029309  \n",
       "             second                  0.533545         0.414834  \n",
       "             seventh                -0.174555        -0.015136  \n",
       "             sixth                   0.141814        -0.178981  \n",
       "             tenth                  -0.432351        -0.073723  \n",
       "             third                  -0.212982         0.197999  \n",
       "             thirteenth              0.482713         0.247288  \n",
       "             twelveth                0.066919        -0.036440  \n",
       "\n",
       "[364 rows x 390 columns]"
      ]
     },
     "execution_count": 34,
     "metadata": {},
     "output_type": "execute_result"
    }
   ],
   "source": [
    "colName = 'aggr_13_groups0'\n",
    "columnsForGrouping = ['proband', 'task',colName]\n",
    "features, labels = prepare(z_data,columnsForGrouping)\n",
    "offset = z_data.columns.get_loc(colName)\n",
    "low, high = findIndices(colName)\n",
    "training_features, testing_features, training_target, testing_target = split(features, labels, low, high)\n",
    "#=============================================================================================================\n",
    "print(offset)\n",
    "print(low, high)\n",
    "print(testing_features.shape)\n",
    "print(features.shape)\n",
    "print(labels.shape)\n",
    "print(columnsForGrouping)\n",
    "# features"
   ]
  },
  {
   "cell_type": "code",
   "execution_count": 8,
   "metadata": {},
   "outputs": [
    {
     "name": "stdout",
     "output_type": "stream",
     "text": [
      "392\n",
      "392\n",
      "44 56\n"
     ]
    },
    {
     "name": "stderr",
     "output_type": "stream",
     "text": [
      "C:\\Users\\author\\Anaconda3\\lib\\importlib\\_bootstrap.py:219: ImportWarning: can't resolve package from __spec__ or __package__, falling back on __name__ and __path__\n",
      "  return f(*args, **kwds)\n",
      "                                                                                                                       \r"
     ]
    },
    {
     "name": "stdout",
     "output_type": "stream",
     "text": [
      "Generation 1 - Current best internal CV score: 0.95\n"
     ]
    },
    {
     "name": "stderr",
     "output_type": "stream",
     "text": [
      "                                                                                                                       \r"
     ]
    },
    {
     "name": "stdout",
     "output_type": "stream",
     "text": [
      "Generation 2 - Current best internal CV score: 0.975\n"
     ]
    },
    {
     "name": "stderr",
     "output_type": "stream",
     "text": [
      "                                                                                                                       \r"
     ]
    },
    {
     "name": "stdout",
     "output_type": "stream",
     "text": [
      "Generation 3 - Current best internal CV score: 0.975\n"
     ]
    },
    {
     "name": "stderr",
     "output_type": "stream",
     "text": [
      "                                                                                                                       \r"
     ]
    },
    {
     "name": "stdout",
     "output_type": "stream",
     "text": [
      "Generation 4 - Current best internal CV score: 0.975\n"
     ]
    },
    {
     "name": "stderr",
     "output_type": "stream",
     "text": [
      "                                                                                                                       \r"
     ]
    },
    {
     "name": "stdout",
     "output_type": "stream",
     "text": [
      "Generation 5 - Current best internal CV score: 0.975\n"
     ]
    },
    {
     "name": "stderr",
     "output_type": "stream",
     "text": [
      "                                                          \r"
     ]
    },
    {
     "name": "stdout",
     "output_type": "stream",
     "text": [
      "\n",
      "Best pipeline: GaussianNB(input_matrix)\n",
      "1.0\n",
      "393\n",
      "44 56\n"
     ]
    },
    {
     "name": "stderr",
     "output_type": "stream",
     "text": [
      "                                                                                                                       \r"
     ]
    },
    {
     "name": "stdout",
     "output_type": "stream",
     "text": [
      "Generation 1 - Current best internal CV score: 1.0\n"
     ]
    },
    {
     "name": "stderr",
     "output_type": "stream",
     "text": [
      "                                                                                                                       \r"
     ]
    },
    {
     "name": "stdout",
     "output_type": "stream",
     "text": [
      "Generation 2 - Current best internal CV score: 1.0\n"
     ]
    },
    {
     "name": "stderr",
     "output_type": "stream",
     "text": [
      "                                                                                                                       \r"
     ]
    },
    {
     "name": "stdout",
     "output_type": "stream",
     "text": [
      "Generation 3 - Current best internal CV score: 1.0\n"
     ]
    },
    {
     "name": "stderr",
     "output_type": "stream",
     "text": [
      "                                                                                                                       \r"
     ]
    },
    {
     "name": "stdout",
     "output_type": "stream",
     "text": [
      "Generation 4 - Current best internal CV score: 1.0\n"
     ]
    },
    {
     "name": "stderr",
     "output_type": "stream",
     "text": [
      "                                                                                                                       \r"
     ]
    },
    {
     "name": "stdout",
     "output_type": "stream",
     "text": [
      "Generation 5 - Current best internal CV score: 1.0\n"
     ]
    },
    {
     "name": "stderr",
     "output_type": "stream",
     "text": [
      "                                                                                                                       \r"
     ]
    },
    {
     "name": "stdout",
     "output_type": "stream",
     "text": [
      "\n",
      "Best pipeline: GradientBoostingClassifier(PCA(input_matrix, iterated_power=3, svd_solver=randomized), learning_rate=0.5, max_depth=6, max_features=0.2, min_samples_leaf=13, min_samples_split=13, n_estimators=100, subsample=0.8500000000000001)\n",
      "1.0\n",
      "394\n",
      "44 56\n"
     ]
    },
    {
     "name": "stderr",
     "output_type": "stream",
     "text": [
      "                                                                                                                       \r"
     ]
    },
    {
     "name": "stdout",
     "output_type": "stream",
     "text": [
      "Generation 1 - Current best internal CV score: 0.975\n"
     ]
    },
    {
     "name": "stderr",
     "output_type": "stream",
     "text": [
      "                                                                                                                       \r"
     ]
    },
    {
     "name": "stdout",
     "output_type": "stream",
     "text": [
      "Generation 2 - Current best internal CV score: 0.975\n"
     ]
    },
    {
     "name": "stderr",
     "output_type": "stream",
     "text": [
      "                                                                                                                       \r"
     ]
    },
    {
     "name": "stdout",
     "output_type": "stream",
     "text": [
      "Generation 3 - Current best internal CV score: 0.975\n"
     ]
    },
    {
     "name": "stderr",
     "output_type": "stream",
     "text": [
      "                                                                                                                       \r"
     ]
    },
    {
     "name": "stdout",
     "output_type": "stream",
     "text": [
      "Generation 4 - Current best internal CV score: 0.975\n"
     ]
    },
    {
     "name": "stderr",
     "output_type": "stream",
     "text": [
      "                                                                                                                       \r"
     ]
    },
    {
     "name": "stdout",
     "output_type": "stream",
     "text": [
      "Generation 5 - Current best internal CV score: 0.975\n"
     ]
    },
    {
     "name": "stderr",
     "output_type": "stream",
     "text": [
      "                                                                                                                       \r"
     ]
    },
    {
     "name": "stdout",
     "output_type": "stream",
     "text": [
      "\n",
      "Best pipeline: DecisionTreeClassifier(input_matrix, criterion=entropy, max_depth=8, min_samples_leaf=1, min_samples_split=8)\n",
      "0.9166666666666666\n",
      "395\n",
      "44 56\n"
     ]
    },
    {
     "name": "stderr",
     "output_type": "stream",
     "text": [
      "                                                                                                                       \r"
     ]
    },
    {
     "name": "stdout",
     "output_type": "stream",
     "text": [
      "Generation 1 - Current best internal CV score: 0.975\n"
     ]
    },
    {
     "name": "stderr",
     "output_type": "stream",
     "text": [
      "                                                                                                                       \r"
     ]
    },
    {
     "name": "stdout",
     "output_type": "stream",
     "text": [
      "Generation 2 - Current best internal CV score: 0.975\n"
     ]
    },
    {
     "name": "stderr",
     "output_type": "stream",
     "text": [
      "                                                                                                                       \r"
     ]
    },
    {
     "name": "stdout",
     "output_type": "stream",
     "text": [
      "Generation 3 - Current best internal CV score: 0.975\n"
     ]
    },
    {
     "name": "stderr",
     "output_type": "stream",
     "text": [
      "                                                                                                                       \r"
     ]
    },
    {
     "name": "stdout",
     "output_type": "stream",
     "text": [
      "Generation 4 - Current best internal CV score: 0.975\n"
     ]
    },
    {
     "name": "stderr",
     "output_type": "stream",
     "text": [
      "                                                                                                                       \r"
     ]
    },
    {
     "name": "stdout",
     "output_type": "stream",
     "text": [
      "Generation 5 - Current best internal CV score: 0.975\n"
     ]
    },
    {
     "name": "stderr",
     "output_type": "stream",
     "text": [
      "                                                                                                                       \r"
     ]
    },
    {
     "name": "stdout",
     "output_type": "stream",
     "text": [
      "\n",
      "Best pipeline: BernoulliNB(input_matrix, alpha=1.0, fit_prior=False)\n",
      "1.0\n",
      "396\n",
      "44 56\n"
     ]
    },
    {
     "name": "stderr",
     "output_type": "stream",
     "text": [
      "                                                                                                                       \r"
     ]
    },
    {
     "name": "stdout",
     "output_type": "stream",
     "text": [
      "Generation 1 - Current best internal CV score: 0.975\n"
     ]
    },
    {
     "name": "stderr",
     "output_type": "stream",
     "text": [
      "                                                                                                                       \r"
     ]
    },
    {
     "name": "stdout",
     "output_type": "stream",
     "text": [
      "Generation 2 - Current best internal CV score: 0.975\n"
     ]
    },
    {
     "name": "stderr",
     "output_type": "stream",
     "text": [
      "                                                                                                                       \r"
     ]
    },
    {
     "name": "stdout",
     "output_type": "stream",
     "text": [
      "Generation 3 - Current best internal CV score: 0.975\n"
     ]
    },
    {
     "name": "stderr",
     "output_type": "stream",
     "text": [
      "                                                                                                                       \r"
     ]
    },
    {
     "name": "stdout",
     "output_type": "stream",
     "text": [
      "Generation 4 - Current best internal CV score: 0.975\n"
     ]
    },
    {
     "name": "stderr",
     "output_type": "stream",
     "text": [
      "                                                                                                                       \r"
     ]
    },
    {
     "name": "stdout",
     "output_type": "stream",
     "text": [
      "Generation 5 - Current best internal CV score: 0.975\n"
     ]
    },
    {
     "name": "stderr",
     "output_type": "stream",
     "text": [
      "                                                                                                                       \r"
     ]
    },
    {
     "name": "stdout",
     "output_type": "stream",
     "text": [
      "\n",
      "Best pipeline: RandomForestClassifier(input_matrix, bootstrap=True, criterion=gini, max_features=0.8, min_samples_leaf=10, min_samples_split=8, n_estimators=100)\n",
      "0.8333333333333334\n",
      "397\n",
      "44 56\n"
     ]
    },
    {
     "name": "stderr",
     "output_type": "stream",
     "text": [
      "                                                                                                                       \r"
     ]
    },
    {
     "name": "stdout",
     "output_type": "stream",
     "text": [
      "Generation 1 - Current best internal CV score: 1.0\n"
     ]
    },
    {
     "name": "stderr",
     "output_type": "stream",
     "text": [
      "                                                                                                                       \r"
     ]
    },
    {
     "name": "stdout",
     "output_type": "stream",
     "text": [
      "Generation 2 - Current best internal CV score: 1.0\n"
     ]
    },
    {
     "name": "stderr",
     "output_type": "stream",
     "text": [
      "                                                                                                                       \r"
     ]
    },
    {
     "name": "stdout",
     "output_type": "stream",
     "text": [
      "Generation 3 - Current best internal CV score: 1.0\n"
     ]
    },
    {
     "name": "stderr",
     "output_type": "stream",
     "text": [
      "                                                                                                                       \r"
     ]
    },
    {
     "name": "stdout",
     "output_type": "stream",
     "text": [
      "Generation 4 - Current best internal CV score: 1.0\n"
     ]
    },
    {
     "name": "stderr",
     "output_type": "stream",
     "text": [
      "                                                                                                                       \r"
     ]
    },
    {
     "name": "stdout",
     "output_type": "stream",
     "text": [
      "Generation 5 - Current best internal CV score: 1.0\n"
     ]
    },
    {
     "name": "stderr",
     "output_type": "stream",
     "text": [
      "                                                                                                                       \r"
     ]
    },
    {
     "name": "stdout",
     "output_type": "stream",
     "text": [
      "\n",
      "Best pipeline: LinearSVC(input_matrix, C=1.0, dual=False, loss=squared_hinge, penalty=l2, tol=1e-05)\n",
      "1.0\n",
      "398\n",
      "44 56\n"
     ]
    },
    {
     "name": "stderr",
     "output_type": "stream",
     "text": [
      "                                                                                                                       \r"
     ]
    },
    {
     "name": "stdout",
     "output_type": "stream",
     "text": [
      "Generation 1 - Current best internal CV score: 0.95\n"
     ]
    },
    {
     "name": "stderr",
     "output_type": "stream",
     "text": [
      "                                                                                                                       \r"
     ]
    },
    {
     "name": "stdout",
     "output_type": "stream",
     "text": [
      "Generation 2 - Current best internal CV score: 0.95\n"
     ]
    },
    {
     "name": "stderr",
     "output_type": "stream",
     "text": [
      "                                                                                                                       \r"
     ]
    },
    {
     "name": "stdout",
     "output_type": "stream",
     "text": [
      "Generation 3 - Current best internal CV score: 1.0\n"
     ]
    },
    {
     "name": "stderr",
     "output_type": "stream",
     "text": [
      "                                                                                                                       \r"
     ]
    },
    {
     "name": "stdout",
     "output_type": "stream",
     "text": [
      "Generation 4 - Current best internal CV score: 1.0\n"
     ]
    },
    {
     "name": "stderr",
     "output_type": "stream",
     "text": [
      "                                                                                                                       \r"
     ]
    },
    {
     "name": "stdout",
     "output_type": "stream",
     "text": [
      "Generation 5 - Current best internal CV score: 1.0\n"
     ]
    },
    {
     "name": "stderr",
     "output_type": "stream",
     "text": [
      "                                                                                                                       \r"
     ]
    },
    {
     "name": "stdout",
     "output_type": "stream",
     "text": [
      "\n",
      "Best pipeline: RandomForestClassifier(PCA(input_matrix, iterated_power=7, svd_solver=randomized), bootstrap=False, criterion=entropy, max_features=0.6000000000000001, min_samples_leaf=7, min_samples_split=7, n_estimators=100)\n",
      "1.0\n",
      "399\n",
      "44 56\n"
     ]
    },
    {
     "name": "stderr",
     "output_type": "stream",
     "text": [
      "                                                                                                                       \r"
     ]
    },
    {
     "name": "stdout",
     "output_type": "stream",
     "text": [
      "Generation 1 - Current best internal CV score: 1.0\n"
     ]
    },
    {
     "name": "stderr",
     "output_type": "stream",
     "text": [
      "                                                                                                                       \r"
     ]
    },
    {
     "name": "stdout",
     "output_type": "stream",
     "text": [
      "Generation 2 - Current best internal CV score: 1.0\n"
     ]
    },
    {
     "name": "stderr",
     "output_type": "stream",
     "text": [
      "                                                                                                                       \r"
     ]
    },
    {
     "name": "stdout",
     "output_type": "stream",
     "text": [
      "Generation 3 - Current best internal CV score: 1.0\n"
     ]
    },
    {
     "name": "stderr",
     "output_type": "stream",
     "text": [
      "                                                                                                                       \r"
     ]
    },
    {
     "name": "stdout",
     "output_type": "stream",
     "text": [
      "Generation 4 - Current best internal CV score: 1.0\n"
     ]
    },
    {
     "name": "stderr",
     "output_type": "stream",
     "text": [
      "                                                                                                                       \r"
     ]
    },
    {
     "name": "stdout",
     "output_type": "stream",
     "text": [
      "Generation 5 - Current best internal CV score: 1.0\n"
     ]
    },
    {
     "name": "stderr",
     "output_type": "stream",
     "text": [
      "                                                                                                                       \r"
     ]
    },
    {
     "name": "stdout",
     "output_type": "stream",
     "text": [
      "\n",
      "Best pipeline: DecisionTreeClassifier(input_matrix, criterion=entropy, max_depth=5, min_samples_leaf=2, min_samples_split=16)\n",
      "0.6666666666666666\n",
      "400\n",
      "44 56\n"
     ]
    },
    {
     "name": "stderr",
     "output_type": "stream",
     "text": [
      "                                                                                                                       \r"
     ]
    },
    {
     "name": "stdout",
     "output_type": "stream",
     "text": [
      "Generation 1 - Current best internal CV score: 0.975\n"
     ]
    },
    {
     "name": "stderr",
     "output_type": "stream",
     "text": [
      "                                                                                                                       \r"
     ]
    },
    {
     "name": "stdout",
     "output_type": "stream",
     "text": [
      "Generation 2 - Current best internal CV score: 0.975\n"
     ]
    },
    {
     "name": "stderr",
     "output_type": "stream",
     "text": [
      "                                                                                                                       \r"
     ]
    },
    {
     "name": "stdout",
     "output_type": "stream",
     "text": [
      "Generation 3 - Current best internal CV score: 0.975\n"
     ]
    },
    {
     "name": "stderr",
     "output_type": "stream",
     "text": [
      "                                                                                                                       \r"
     ]
    },
    {
     "name": "stdout",
     "output_type": "stream",
     "text": [
      "Generation 4 - Current best internal CV score: 0.975\n"
     ]
    },
    {
     "name": "stderr",
     "output_type": "stream",
     "text": [
      "                                                                                                                       \r"
     ]
    },
    {
     "name": "stdout",
     "output_type": "stream",
     "text": [
      "Generation 5 - Current best internal CV score: 0.975\n"
     ]
    },
    {
     "name": "stderr",
     "output_type": "stream",
     "text": [
      "                                                                                                                       \r"
     ]
    },
    {
     "name": "stdout",
     "output_type": "stream",
     "text": [
      "\n",
      "Best pipeline: GaussianNB(input_matrix)\n",
      "1.0\n",
      "401\n",
      "44 56\n"
     ]
    },
    {
     "name": "stderr",
     "output_type": "stream",
     "text": [
      "                                                                                                                       \r"
     ]
    },
    {
     "name": "stdout",
     "output_type": "stream",
     "text": [
      "Generation 1 - Current best internal CV score: 1.0\n"
     ]
    },
    {
     "name": "stderr",
     "output_type": "stream",
     "text": [
      "                                                                                                                       \r"
     ]
    },
    {
     "name": "stdout",
     "output_type": "stream",
     "text": [
      "Generation 2 - Current best internal CV score: 1.0\n"
     ]
    },
    {
     "name": "stderr",
     "output_type": "stream",
     "text": [
      "                                                                                                                       \r"
     ]
    },
    {
     "name": "stdout",
     "output_type": "stream",
     "text": [
      "Generation 3 - Current best internal CV score: 1.0\n"
     ]
    },
    {
     "name": "stderr",
     "output_type": "stream",
     "text": [
      "                                                                                                                       \r"
     ]
    },
    {
     "name": "stdout",
     "output_type": "stream",
     "text": [
      "Generation 4 - Current best internal CV score: 1.0\n"
     ]
    },
    {
     "name": "stderr",
     "output_type": "stream",
     "text": [
      "                                                                                                                       \r"
     ]
    },
    {
     "name": "stdout",
     "output_type": "stream",
     "text": [
      "Generation 5 - Current best internal CV score: 1.0\n"
     ]
    },
    {
     "name": "stderr",
     "output_type": "stream",
     "text": [
      "                                                                                                                       \r"
     ]
    },
    {
     "name": "stdout",
     "output_type": "stream",
     "text": [
      "\n",
      "Best pipeline: ExtraTreesClassifier(input_matrix, bootstrap=False, criterion=gini, max_features=0.05, min_samples_leaf=4, min_samples_split=19, n_estimators=100)\n",
      "1.0\n",
      "402\n",
      "66 84\n"
     ]
    },
    {
     "name": "stderr",
     "output_type": "stream",
     "text": [
      "                                                                                                                       \r"
     ]
    },
    {
     "name": "stdout",
     "output_type": "stream",
     "text": [
      "Generation 1 - Current best internal CV score: 0.9428571428571428\n"
     ]
    },
    {
     "name": "stderr",
     "output_type": "stream",
     "text": [
      "                                                                                                                       \r"
     ]
    },
    {
     "name": "stdout",
     "output_type": "stream",
     "text": [
      "Generation 2 - Current best internal CV score: 0.9428571428571428\n"
     ]
    },
    {
     "name": "stderr",
     "output_type": "stream",
     "text": [
      "                                                                                                                       \r"
     ]
    },
    {
     "name": "stdout",
     "output_type": "stream",
     "text": [
      "Generation 3 - Current best internal CV score: 0.9428571428571428\n"
     ]
    },
    {
     "name": "stderr",
     "output_type": "stream",
     "text": [
      "                                                                                                                       \r"
     ]
    },
    {
     "name": "stdout",
     "output_type": "stream",
     "text": [
      "Generation 4 - Current best internal CV score: 0.9428571428571428\n"
     ]
    },
    {
     "name": "stderr",
     "output_type": "stream",
     "text": [
      "                                                                                                                       \r"
     ]
    },
    {
     "name": "stdout",
     "output_type": "stream",
     "text": [
      "Generation 5 - Current best internal CV score: 0.9714285714285715\n"
     ]
    },
    {
     "name": "stderr",
     "output_type": "stream",
     "text": [
      "                                                                                                                       \r"
     ]
    },
    {
     "name": "stdout",
     "output_type": "stream",
     "text": [
      "\n",
      "Best pipeline: LinearSVC(input_matrix, C=0.001, dual=True, loss=hinge, penalty=l2, tol=0.1)\n",
      "1.0\n",
      "403\n",
      "66 84\n"
     ]
    },
    {
     "name": "stderr",
     "output_type": "stream",
     "text": [
      "                                                                                                                       \r"
     ]
    },
    {
     "name": "stdout",
     "output_type": "stream",
     "text": [
      "Generation 1 - Current best internal CV score: 0.9714285714285715\n"
     ]
    },
    {
     "name": "stderr",
     "output_type": "stream",
     "text": [
      "                                                                                                                       \r"
     ]
    },
    {
     "name": "stdout",
     "output_type": "stream",
     "text": [
      "Generation 2 - Current best internal CV score: 0.9714285714285715\n"
     ]
    },
    {
     "name": "stderr",
     "output_type": "stream",
     "text": [
      "                                                                                                                       \r"
     ]
    },
    {
     "name": "stdout",
     "output_type": "stream",
     "text": [
      "Generation 3 - Current best internal CV score: 0.9714285714285715\n"
     ]
    },
    {
     "name": "stderr",
     "output_type": "stream",
     "text": [
      "                                                                                                                       \r"
     ]
    },
    {
     "name": "stdout",
     "output_type": "stream",
     "text": [
      "Generation 4 - Current best internal CV score: 0.9714285714285715\n"
     ]
    },
    {
     "name": "stderr",
     "output_type": "stream",
     "text": [
      "                                                                                                                       \r"
     ]
    },
    {
     "name": "stdout",
     "output_type": "stream",
     "text": [
      "Generation 5 - Current best internal CV score: 0.9714285714285715\n"
     ]
    },
    {
     "name": "stderr",
     "output_type": "stream",
     "text": [
      "                                                                                                                       \r"
     ]
    },
    {
     "name": "stdout",
     "output_type": "stream",
     "text": [
      "\n",
      "Best pipeline: GaussianNB(input_matrix)\n",
      "1.0\n",
      "404\n",
      "66 84\n"
     ]
    },
    {
     "name": "stderr",
     "output_type": "stream",
     "text": [
      "                                                                                                                       \r"
     ]
    },
    {
     "name": "stdout",
     "output_type": "stream",
     "text": [
      "Generation 1 - Current best internal CV score: 0.9857142857142858\n"
     ]
    },
    {
     "name": "stderr",
     "output_type": "stream",
     "text": [
      "                                                                                                                       \r"
     ]
    },
    {
     "name": "stdout",
     "output_type": "stream",
     "text": [
      "Generation 2 - Current best internal CV score: 0.9857142857142858\n"
     ]
    },
    {
     "name": "stderr",
     "output_type": "stream",
     "text": [
      "                                                                                                                       \r"
     ]
    },
    {
     "name": "stdout",
     "output_type": "stream",
     "text": [
      "Generation 3 - Current best internal CV score: 0.9857142857142858\n"
     ]
    },
    {
     "name": "stderr",
     "output_type": "stream",
     "text": [
      "                                                                                                                       \r"
     ]
    },
    {
     "name": "stdout",
     "output_type": "stream",
     "text": [
      "Generation 4 - Current best internal CV score: 0.9857142857142858\n"
     ]
    },
    {
     "name": "stderr",
     "output_type": "stream",
     "text": [
      "                                                                                                                       \r"
     ]
    },
    {
     "name": "stdout",
     "output_type": "stream",
     "text": [
      "Generation 5 - Current best internal CV score: 0.9857142857142858\n"
     ]
    },
    {
     "name": "stderr",
     "output_type": "stream",
     "text": [
      "                                                                                                                       \r"
     ]
    },
    {
     "name": "stdout",
     "output_type": "stream",
     "text": [
      "\n",
      "Best pipeline: LinearSVC(KNeighborsClassifier(input_matrix, n_neighbors=20, p=2, weights=uniform), C=15.0, dual=True, loss=squared_hinge, penalty=l2, tol=0.0001)\n",
      "1.0\n",
      "405\n",
      "66 84\n"
     ]
    },
    {
     "name": "stderr",
     "output_type": "stream",
     "text": [
      "                                                                                                                       \r"
     ]
    },
    {
     "name": "stdout",
     "output_type": "stream",
     "text": [
      "Generation 1 - Current best internal CV score: 0.9857142857142858\n"
     ]
    },
    {
     "name": "stderr",
     "output_type": "stream",
     "text": [
      "                                                                                                                       \r"
     ]
    },
    {
     "name": "stdout",
     "output_type": "stream",
     "text": [
      "Generation 2 - Current best internal CV score: 0.9857142857142858\n"
     ]
    },
    {
     "name": "stderr",
     "output_type": "stream",
     "text": [
      "                                                                                                                       \r"
     ]
    },
    {
     "name": "stdout",
     "output_type": "stream",
     "text": [
      "Generation 3 - Current best internal CV score: 0.9857142857142858\n"
     ]
    },
    {
     "name": "stderr",
     "output_type": "stream",
     "text": [
      "                                                                                                                       \r"
     ]
    },
    {
     "name": "stdout",
     "output_type": "stream",
     "text": [
      "Generation 4 - Current best internal CV score: 0.9857142857142858\n"
     ]
    },
    {
     "name": "stderr",
     "output_type": "stream",
     "text": [
      "                                                                                                                       \r"
     ]
    },
    {
     "name": "stdout",
     "output_type": "stream",
     "text": [
      "Generation 5 - Current best internal CV score: 0.9857142857142858\n"
     ]
    },
    {
     "name": "stderr",
     "output_type": "stream",
     "text": [
      "                                                                                                                       \r"
     ]
    },
    {
     "name": "stdout",
     "output_type": "stream",
     "text": [
      "\n",
      "Best pipeline: KNeighborsClassifier(input_matrix, n_neighbors=8, p=2, weights=distance)\n",
      "1.0\n",
      "406\n",
      "66 84\n"
     ]
    },
    {
     "name": "stderr",
     "output_type": "stream",
     "text": [
      "                                                                                                                       \r"
     ]
    },
    {
     "name": "stdout",
     "output_type": "stream",
     "text": [
      "Generation 1 - Current best internal CV score: 0.9714285714285715\n"
     ]
    },
    {
     "name": "stderr",
     "output_type": "stream",
     "text": [
      "                                                                                                                       \r"
     ]
    },
    {
     "name": "stdout",
     "output_type": "stream",
     "text": [
      "Generation 2 - Current best internal CV score: 0.9714285714285715\n"
     ]
    },
    {
     "name": "stderr",
     "output_type": "stream",
     "text": [
      "                                                                                                                       \r"
     ]
    },
    {
     "name": "stdout",
     "output_type": "stream",
     "text": [
      "Generation 3 - Current best internal CV score: 0.9714285714285715\n"
     ]
    },
    {
     "name": "stderr",
     "output_type": "stream",
     "text": [
      "                                                                                                                       \r"
     ]
    },
    {
     "name": "stdout",
     "output_type": "stream",
     "text": [
      "Generation 4 - Current best internal CV score: 0.9857142857142858\n"
     ]
    },
    {
     "name": "stderr",
     "output_type": "stream",
     "text": [
      "                                                                                                                       \r"
     ]
    },
    {
     "name": "stdout",
     "output_type": "stream",
     "text": [
      "Generation 5 - Current best internal CV score: 0.9857142857142858\n"
     ]
    },
    {
     "name": "stderr",
     "output_type": "stream",
     "text": [
      "                                                                                                                       \r"
     ]
    },
    {
     "name": "stdout",
     "output_type": "stream",
     "text": [
      "\n",
      "Best pipeline: KNeighborsClassifier(input_matrix, n_neighbors=19, p=2, weights=distance)\n",
      "1.0\n",
      "407\n",
      "66 84\n"
     ]
    },
    {
     "name": "stderr",
     "output_type": "stream",
     "text": [
      "                                                                                                                       \r"
     ]
    },
    {
     "name": "stdout",
     "output_type": "stream",
     "text": [
      "Generation 1 - Current best internal CV score: 0.9857142857142858\n"
     ]
    },
    {
     "name": "stderr",
     "output_type": "stream",
     "text": [
      "                                                                                                                       \r"
     ]
    },
    {
     "name": "stdout",
     "output_type": "stream",
     "text": [
      "Generation 2 - Current best internal CV score: 0.9857142857142858\n"
     ]
    },
    {
     "name": "stderr",
     "output_type": "stream",
     "text": [
      "                                                                                                                       \r"
     ]
    },
    {
     "name": "stdout",
     "output_type": "stream",
     "text": [
      "Generation 3 - Current best internal CV score: 0.9857142857142858\n"
     ]
    },
    {
     "name": "stderr",
     "output_type": "stream",
     "text": [
      "                                                                                                                       \r"
     ]
    },
    {
     "name": "stdout",
     "output_type": "stream",
     "text": [
      "Generation 4 - Current best internal CV score: 0.9857142857142858\n"
     ]
    },
    {
     "name": "stderr",
     "output_type": "stream",
     "text": [
      "                                                                                                                       \r"
     ]
    },
    {
     "name": "stdout",
     "output_type": "stream",
     "text": [
      "Generation 5 - Current best internal CV score: 0.9857142857142858\n"
     ]
    },
    {
     "name": "stderr",
     "output_type": "stream",
     "text": [
      "                                                                                                                       \r"
     ]
    },
    {
     "name": "stdout",
     "output_type": "stream",
     "text": [
      "\n",
      "Best pipeline: KNeighborsClassifier(input_matrix, n_neighbors=11, p=1, weights=distance)\n",
      "1.0\n",
      "408\n",
      "66 84\n"
     ]
    },
    {
     "name": "stderr",
     "output_type": "stream",
     "text": [
      "                                                                                                                       \r"
     ]
    },
    {
     "name": "stdout",
     "output_type": "stream",
     "text": [
      "Generation 1 - Current best internal CV score: 0.9571428571428571\n"
     ]
    },
    {
     "name": "stderr",
     "output_type": "stream",
     "text": [
      "                                                                                                                       \r"
     ]
    },
    {
     "name": "stdout",
     "output_type": "stream",
     "text": [
      "Generation 2 - Current best internal CV score: 0.9571428571428571\n"
     ]
    },
    {
     "name": "stderr",
     "output_type": "stream",
     "text": [
      "                                                                                                                       \r"
     ]
    },
    {
     "name": "stdout",
     "output_type": "stream",
     "text": [
      "Generation 3 - Current best internal CV score: 0.9571428571428571\n"
     ]
    },
    {
     "name": "stderr",
     "output_type": "stream",
     "text": [
      "                                                                                                                       \r"
     ]
    },
    {
     "name": "stdout",
     "output_type": "stream",
     "text": [
      "Generation 4 - Current best internal CV score: 0.9571428571428571\n"
     ]
    },
    {
     "name": "stderr",
     "output_type": "stream",
     "text": [
      "                                                                                                                       \r"
     ]
    },
    {
     "name": "stdout",
     "output_type": "stream",
     "text": [
      "Generation 5 - Current best internal CV score: 0.9571428571428571\n"
     ]
    },
    {
     "name": "stderr",
     "output_type": "stream",
     "text": [
      "                                                                                                                       \r"
     ]
    },
    {
     "name": "stdout",
     "output_type": "stream",
     "text": [
      "\n",
      "Best pipeline: BernoulliNB(input_matrix, alpha=100.0, fit_prior=True)\n",
      "0.9444444444444444\n",
      "409\n",
      "66 84\n"
     ]
    },
    {
     "name": "stderr",
     "output_type": "stream",
     "text": [
      "                                                                                                                       \r"
     ]
    },
    {
     "name": "stdout",
     "output_type": "stream",
     "text": [
      "Generation 1 - Current best internal CV score: 0.9714285714285715\n"
     ]
    },
    {
     "name": "stderr",
     "output_type": "stream",
     "text": [
      "                                                                                                                       \r"
     ]
    },
    {
     "name": "stdout",
     "output_type": "stream",
     "text": [
      "Generation 2 - Current best internal CV score: 0.9714285714285715\n"
     ]
    },
    {
     "name": "stderr",
     "output_type": "stream",
     "text": [
      "                                                                                                                       \r"
     ]
    },
    {
     "name": "stdout",
     "output_type": "stream",
     "text": [
      "Generation 3 - Current best internal CV score: 0.9714285714285715\n"
     ]
    },
    {
     "name": "stderr",
     "output_type": "stream",
     "text": [
      "                                                                                                                       \r"
     ]
    },
    {
     "name": "stdout",
     "output_type": "stream",
     "text": [
      "Generation 4 - Current best internal CV score: 0.9714285714285715\n"
     ]
    },
    {
     "name": "stderr",
     "output_type": "stream",
     "text": [
      "                                                                                                                       \r"
     ]
    },
    {
     "name": "stdout",
     "output_type": "stream",
     "text": [
      "Generation 5 - Current best internal CV score: 0.9714285714285715\n"
     ]
    },
    {
     "name": "stderr",
     "output_type": "stream",
     "text": [
      "                                                                                                                       \r"
     ]
    },
    {
     "name": "stdout",
     "output_type": "stream",
     "text": [
      "\n",
      "Best pipeline: BernoulliNB(input_matrix, alpha=10.0, fit_prior=True)\n",
      "1.0\n",
      "410\n",
      "66 84\n"
     ]
    },
    {
     "name": "stderr",
     "output_type": "stream",
     "text": [
      "                                                                                                                       \r"
     ]
    },
    {
     "name": "stdout",
     "output_type": "stream",
     "text": [
      "Generation 1 - Current best internal CV score: 0.9285714285714285\n"
     ]
    },
    {
     "name": "stderr",
     "output_type": "stream",
     "text": [
      "                                                                                                                       \r"
     ]
    },
    {
     "name": "stdout",
     "output_type": "stream",
     "text": [
      "Generation 2 - Current best internal CV score: 0.9428571428571428\n"
     ]
    },
    {
     "name": "stderr",
     "output_type": "stream",
     "text": [
      "                                                                                                                       \r"
     ]
    },
    {
     "name": "stdout",
     "output_type": "stream",
     "text": [
      "Generation 3 - Current best internal CV score: 0.9428571428571428\n"
     ]
    },
    {
     "name": "stderr",
     "output_type": "stream",
     "text": [
      "                                                                                                                       \r"
     ]
    },
    {
     "name": "stdout",
     "output_type": "stream",
     "text": [
      "Generation 4 - Current best internal CV score: 0.9571428571428571\n"
     ]
    },
    {
     "name": "stderr",
     "output_type": "stream",
     "text": [
      "                                                                                                                       \r"
     ]
    },
    {
     "name": "stdout",
     "output_type": "stream",
     "text": [
      "Generation 5 - Current best internal CV score: 0.9571428571428571\n"
     ]
    },
    {
     "name": "stderr",
     "output_type": "stream",
     "text": [
      "                                                                                                                       \r"
     ]
    },
    {
     "name": "stdout",
     "output_type": "stream",
     "text": [
      "\n",
      "Best pipeline: BernoulliNB(input_matrix, alpha=1.0, fit_prior=False)\n",
      "1.0\n",
      "411\n",
      "66 84\n"
     ]
    },
    {
     "name": "stderr",
     "output_type": "stream",
     "text": [
      "                                                                                                                       \r"
     ]
    },
    {
     "name": "stdout",
     "output_type": "stream",
     "text": [
      "Generation 1 - Current best internal CV score: 0.9714285714285715\n"
     ]
    },
    {
     "name": "stderr",
     "output_type": "stream",
     "text": [
      "                                                                                                                       \r"
     ]
    },
    {
     "name": "stdout",
     "output_type": "stream",
     "text": [
      "Generation 2 - Current best internal CV score: 0.9857142857142858\n"
     ]
    },
    {
     "name": "stderr",
     "output_type": "stream",
     "text": [
      "                                                                                                                       \r"
     ]
    },
    {
     "name": "stdout",
     "output_type": "stream",
     "text": [
      "Generation 3 - Current best internal CV score: 0.9857142857142858\n"
     ]
    },
    {
     "name": "stderr",
     "output_type": "stream",
     "text": [
      "                                                                                                                       \r"
     ]
    },
    {
     "name": "stdout",
     "output_type": "stream",
     "text": [
      "Generation 4 - Current best internal CV score: 0.9857142857142858\n"
     ]
    },
    {
     "name": "stderr",
     "output_type": "stream",
     "text": [
      "                                                                                                                       \r"
     ]
    },
    {
     "name": "stdout",
     "output_type": "stream",
     "text": [
      "Generation 5 - Current best internal CV score: 0.9857142857142858\n"
     ]
    },
    {
     "name": "stderr",
     "output_type": "stream",
     "text": [
      "                                                                                                                       \r"
     ]
    },
    {
     "name": "stdout",
     "output_type": "stream",
     "text": [
      "\n",
      "Best pipeline: ExtraTreesClassifier(BernoulliNB(RobustScaler(input_matrix), alpha=10.0, fit_prior=True), bootstrap=False, criterion=entropy, max_features=0.25, min_samples_leaf=17, min_samples_split=13, n_estimators=100)\n",
      "1.0\n",
      "412\n",
      "198 252\n"
     ]
    },
    {
     "name": "stderr",
     "output_type": "stream",
     "text": [
      "                                                                                                                       \r"
     ]
    },
    {
     "name": "stdout",
     "output_type": "stream",
     "text": [
      "Generation 1 - Current best internal CV score: 0.9349999999999999\n"
     ]
    },
    {
     "name": "stderr",
     "output_type": "stream",
     "text": [
      "                                                                                                                       \r"
     ]
    },
    {
     "name": "stdout",
     "output_type": "stream",
     "text": [
      "Generation 2 - Current best internal CV score: 0.9349999999999999\n"
     ]
    },
    {
     "name": "stderr",
     "output_type": "stream",
     "text": [
      "                                                                                                                       \r"
     ]
    },
    {
     "name": "stdout",
     "output_type": "stream",
     "text": [
      "Generation 3 - Current best internal CV score: 0.9349999999999999\n"
     ]
    },
    {
     "name": "stderr",
     "output_type": "stream",
     "text": [
      "                                                                                                                       \r"
     ]
    },
    {
     "name": "stdout",
     "output_type": "stream",
     "text": [
      "Generation 4 - Current best internal CV score: 0.9349999999999999\n"
     ]
    },
    {
     "name": "stderr",
     "output_type": "stream",
     "text": [
      "                                                                                                                       \r"
     ]
    },
    {
     "name": "stdout",
     "output_type": "stream",
     "text": [
      "Generation 5 - Current best internal CV score: 0.9349999999999999\n"
     ]
    },
    {
     "name": "stderr",
     "output_type": "stream",
     "text": [
      "                                                                                                                       \r"
     ]
    },
    {
     "name": "stdout",
     "output_type": "stream",
     "text": [
      "\n",
      "Best pipeline: ExtraTreesClassifier(input_matrix, bootstrap=False, criterion=gini, max_features=0.05, min_samples_leaf=1, min_samples_split=2, n_estimators=100)\n",
      "0.9444444444444444\n",
      "413\n",
      "198 252\n"
     ]
    },
    {
     "name": "stderr",
     "output_type": "stream",
     "text": [
      "                                                                                                                       \r"
     ]
    },
    {
     "name": "stdout",
     "output_type": "stream",
     "text": [
      "Generation 1 - Current best internal CV score: 0.8989473684210527\n"
     ]
    },
    {
     "name": "stderr",
     "output_type": "stream",
     "text": [
      "                                                                                                                       \r"
     ]
    },
    {
     "name": "stdout",
     "output_type": "stream",
     "text": [
      "Generation 2 - Current best internal CV score: 0.9142105263157895\n"
     ]
    },
    {
     "name": "stderr",
     "output_type": "stream",
     "text": [
      "                                                                                                                       \r"
     ]
    },
    {
     "name": "stdout",
     "output_type": "stream",
     "text": [
      "Generation 3 - Current best internal CV score: 0.9142105263157895\n"
     ]
    },
    {
     "name": "stderr",
     "output_type": "stream",
     "text": [
      "                                                                                                                       \r"
     ]
    },
    {
     "name": "stdout",
     "output_type": "stream",
     "text": [
      "Generation 4 - Current best internal CV score: 0.9142105263157895\n"
     ]
    },
    {
     "name": "stderr",
     "output_type": "stream",
     "text": [
      "                                                                                                                       \r"
     ]
    },
    {
     "name": "stdout",
     "output_type": "stream",
     "text": [
      "Generation 5 - Current best internal CV score: 0.9142105263157895\n"
     ]
    },
    {
     "name": "stderr",
     "output_type": "stream",
     "text": [
      "                                                                                                                       \r"
     ]
    },
    {
     "name": "stdout",
     "output_type": "stream",
     "text": [
      "\n",
      "Best pipeline: LinearSVC(input_matrix, C=0.001, dual=True, loss=hinge, penalty=l2, tol=0.01)\n",
      "0.9444444444444444\n",
      "414\n",
      "198 252\n"
     ]
    },
    {
     "name": "stderr",
     "output_type": "stream",
     "text": [
      "                                                                                                                       \r"
     ]
    },
    {
     "name": "stdout",
     "output_type": "stream",
     "text": [
      "Generation 1 - Current best internal CV score: 0.8939473684210526\n"
     ]
    },
    {
     "name": "stderr",
     "output_type": "stream",
     "text": [
      "                                                                                                                       \r"
     ]
    },
    {
     "name": "stdout",
     "output_type": "stream",
     "text": [
      "Generation 2 - Current best internal CV score: 0.9042105263157897\n"
     ]
    },
    {
     "name": "stderr",
     "output_type": "stream",
     "text": [
      "                                                                                                                       \r"
     ]
    },
    {
     "name": "stdout",
     "output_type": "stream",
     "text": [
      "Generation 3 - Current best internal CV score: 0.9042105263157897\n"
     ]
    },
    {
     "name": "stderr",
     "output_type": "stream",
     "text": [
      "                                                                                                                       \r"
     ]
    },
    {
     "name": "stdout",
     "output_type": "stream",
     "text": [
      "Generation 4 - Current best internal CV score: 0.9042105263157897\n"
     ]
    },
    {
     "name": "stderr",
     "output_type": "stream",
     "text": [
      "                                                                                                                       \r"
     ]
    },
    {
     "name": "stdout",
     "output_type": "stream",
     "text": [
      "Generation 5 - Current best internal CV score: 0.9042105263157897\n"
     ]
    },
    {
     "name": "stderr",
     "output_type": "stream",
     "text": [
      "                                                                                                                       \r"
     ]
    },
    {
     "name": "stdout",
     "output_type": "stream",
     "text": [
      "\n",
      "Best pipeline: KNeighborsClassifier(input_matrix, n_neighbors=64, p=2, weights=uniform)\n",
      "0.9629629629629629\n",
      "415\n",
      "198 252\n"
     ]
    },
    {
     "name": "stderr",
     "output_type": "stream",
     "text": [
      "                                                                                                                       \r"
     ]
    },
    {
     "name": "stdout",
     "output_type": "stream",
     "text": [
      "Generation 1 - Current best internal CV score: 0.9144736842105263\n"
     ]
    },
    {
     "name": "stderr",
     "output_type": "stream",
     "text": [
      "                                                                                                                       \r"
     ]
    },
    {
     "name": "stdout",
     "output_type": "stream",
     "text": [
      "Generation 2 - Current best internal CV score: 0.9144736842105263\n"
     ]
    },
    {
     "name": "stderr",
     "output_type": "stream",
     "text": [
      "                                                                                                                       \r"
     ]
    },
    {
     "name": "stdout",
     "output_type": "stream",
     "text": [
      "Generation 3 - Current best internal CV score: 0.9347368421052632\n"
     ]
    },
    {
     "name": "stderr",
     "output_type": "stream",
     "text": [
      "                                                                                                                       \r"
     ]
    },
    {
     "name": "stdout",
     "output_type": "stream",
     "text": [
      "Generation 4 - Current best internal CV score: 0.9347368421052632\n"
     ]
    },
    {
     "name": "stderr",
     "output_type": "stream",
     "text": [
      "                                                                                                                       \r"
     ]
    },
    {
     "name": "stdout",
     "output_type": "stream",
     "text": [
      "Generation 5 - Current best internal CV score: 0.9347368421052632\n"
     ]
    },
    {
     "name": "stderr",
     "output_type": "stream",
     "text": [
      "                                                                                                                       \r"
     ]
    },
    {
     "name": "stdout",
     "output_type": "stream",
     "text": [
      "\n",
      "Best pipeline: KNeighborsClassifier(KNeighborsClassifier(input_matrix, n_neighbors=8, p=2, weights=distance), n_neighbors=43, p=2, weights=uniform)\n",
      "0.9444444444444444\n",
      "416\n",
      "198 252\n"
     ]
    },
    {
     "name": "stderr",
     "output_type": "stream",
     "text": [
      "                                                                                                                       \r"
     ]
    },
    {
     "name": "stdout",
     "output_type": "stream",
     "text": [
      "Generation 1 - Current best internal CV score: 0.9199999999999999\n"
     ]
    },
    {
     "name": "stderr",
     "output_type": "stream",
     "text": [
      "                                                                                                                       \r"
     ]
    },
    {
     "name": "stdout",
     "output_type": "stream",
     "text": [
      "Generation 2 - Current best internal CV score: 0.9199999999999999\n"
     ]
    },
    {
     "name": "stderr",
     "output_type": "stream",
     "text": [
      "                                                                                                                       \r"
     ]
    },
    {
     "name": "stdout",
     "output_type": "stream",
     "text": [
      "Generation 3 - Current best internal CV score: 0.925\n"
     ]
    },
    {
     "name": "stderr",
     "output_type": "stream",
     "text": [
      "                                                                                                                       \r"
     ]
    },
    {
     "name": "stdout",
     "output_type": "stream",
     "text": [
      "Generation 4 - Current best internal CV score: 0.925\n"
     ]
    },
    {
     "name": "stderr",
     "output_type": "stream",
     "text": [
      "                                                                                                                       \r"
     ]
    },
    {
     "name": "stdout",
     "output_type": "stream",
     "text": [
      "Generation 5 - Current best internal CV score: 0.925\n"
     ]
    },
    {
     "name": "stderr",
     "output_type": "stream",
     "text": [
      "                                                                                                                       \r"
     ]
    },
    {
     "name": "stdout",
     "output_type": "stream",
     "text": [
      "\n",
      "Best pipeline: LogisticRegression(input_matrix, C=10.0, dual=False, penalty=l2)\n",
      "1.0\n",
      "417\n",
      "198 252\n"
     ]
    },
    {
     "name": "stderr",
     "output_type": "stream",
     "text": [
      "                                                                                                                       \r"
     ]
    },
    {
     "name": "stdout",
     "output_type": "stream",
     "text": [
      "Generation 1 - Current best internal CV score: 0.8939473684210526\n"
     ]
    },
    {
     "name": "stderr",
     "output_type": "stream",
     "text": [
      "                                                                                                                       \r"
     ]
    },
    {
     "name": "stdout",
     "output_type": "stream",
     "text": [
      "Generation 2 - Current best internal CV score: 0.945\n"
     ]
    },
    {
     "name": "stderr",
     "output_type": "stream",
     "text": [
      "                                                                                                                       \r"
     ]
    },
    {
     "name": "stdout",
     "output_type": "stream",
     "text": [
      "Generation 3 - Current best internal CV score: 0.945\n"
     ]
    },
    {
     "name": "stderr",
     "output_type": "stream",
     "text": [
      "                                                                                                                       \r"
     ]
    },
    {
     "name": "stdout",
     "output_type": "stream",
     "text": [
      "Generation 4 - Current best internal CV score: 0.945\n"
     ]
    },
    {
     "name": "stderr",
     "output_type": "stream",
     "text": [
      "                                                                                                                       \r"
     ]
    },
    {
     "name": "stdout",
     "output_type": "stream",
     "text": [
      "Generation 5 - Current best internal CV score: 0.945\n"
     ]
    },
    {
     "name": "stderr",
     "output_type": "stream",
     "text": [
      "                                                                                                                       \r"
     ]
    },
    {
     "name": "stdout",
     "output_type": "stream",
     "text": [
      "\n",
      "Best pipeline: DecisionTreeClassifier(LogisticRegression(input_matrix, C=5.0, dual=True, penalty=l2), criterion=entropy, max_depth=3, min_samples_leaf=10, min_samples_split=10)\n",
      "0.9444444444444444\n",
      "418\n",
      "198 252\n"
     ]
    },
    {
     "name": "stderr",
     "output_type": "stream",
     "text": [
      "                                                                                                                       \r"
     ]
    },
    {
     "name": "stdout",
     "output_type": "stream",
     "text": [
      "Generation 1 - Current best internal CV score: 0.9197368421052632\n"
     ]
    },
    {
     "name": "stderr",
     "output_type": "stream",
     "text": [
      "                                                                                                                       \r"
     ]
    },
    {
     "name": "stdout",
     "output_type": "stream",
     "text": [
      "Generation 2 - Current best internal CV score: 0.9197368421052632\n"
     ]
    },
    {
     "name": "stderr",
     "output_type": "stream",
     "text": [
      "                                                                                                                       \r"
     ]
    },
    {
     "name": "stdout",
     "output_type": "stream",
     "text": [
      "Generation 3 - Current best internal CV score: 0.9197368421052632\n"
     ]
    },
    {
     "name": "stderr",
     "output_type": "stream",
     "text": [
      "                                                                                                                       \r"
     ]
    },
    {
     "name": "stdout",
     "output_type": "stream",
     "text": [
      "Generation 4 - Current best internal CV score: 0.9199999999999999\n"
     ]
    },
    {
     "name": "stderr",
     "output_type": "stream",
     "text": [
      "                                                                                                                       \r"
     ]
    },
    {
     "name": "stdout",
     "output_type": "stream",
     "text": [
      "Generation 5 - Current best internal CV score: 0.9199999999999999\n"
     ]
    },
    {
     "name": "stderr",
     "output_type": "stream",
     "text": [
      "                                                          \r"
     ]
    },
    {
     "name": "stdout",
     "output_type": "stream",
     "text": [
      "\n",
      "Best pipeline: KNeighborsClassifier(input_matrix, n_neighbors=4, p=1, weights=distance)\n",
      "0.9629629629629629\n",
      "419\n",
      "198 252\n"
     ]
    },
    {
     "name": "stderr",
     "output_type": "stream",
     "text": [
      "                                                                                                                       \r"
     ]
    },
    {
     "name": "stdout",
     "output_type": "stream",
     "text": [
      "Generation 1 - Current best internal CV score: 0.9347368421052632\n"
     ]
    },
    {
     "name": "stderr",
     "output_type": "stream",
     "text": [
      "                                                                                                                       \r"
     ]
    },
    {
     "name": "stdout",
     "output_type": "stream",
     "text": [
      "Generation 2 - Current best internal CV score: 0.9347368421052632\n"
     ]
    },
    {
     "name": "stderr",
     "output_type": "stream",
     "text": [
      "                                                                                                                       \r"
     ]
    },
    {
     "name": "stdout",
     "output_type": "stream",
     "text": [
      "Generation 3 - Current best internal CV score: 0.9347368421052632\n"
     ]
    },
    {
     "name": "stderr",
     "output_type": "stream",
     "text": [
      "                                                                                                                       \r"
     ]
    },
    {
     "name": "stdout",
     "output_type": "stream",
     "text": [
      "Generation 4 - Current best internal CV score: 0.9347368421052632\n"
     ]
    },
    {
     "name": "stderr",
     "output_type": "stream",
     "text": [
      "                                                                                                                       \r"
     ]
    },
    {
     "name": "stdout",
     "output_type": "stream",
     "text": [
      "Generation 5 - Current best internal CV score: 0.9347368421052632\n"
     ]
    },
    {
     "name": "stderr",
     "output_type": "stream",
     "text": [
      "                                                                                                                       \r"
     ]
    },
    {
     "name": "stdout",
     "output_type": "stream",
     "text": [
      "\n",
      "Best pipeline: LogisticRegression(input_matrix, C=10.0, dual=True, penalty=l2)\n",
      "0.9629629629629629\n",
      "420\n",
      "198 252\n"
     ]
    },
    {
     "name": "stderr",
     "output_type": "stream",
     "text": [
      "                                                                                                                       \r"
     ]
    },
    {
     "name": "stdout",
     "output_type": "stream",
     "text": [
      "Generation 1 - Current best internal CV score: 0.8942105263157896\n"
     ]
    },
    {
     "name": "stderr",
     "output_type": "stream",
     "text": [
      "                                                                                                                       \r"
     ]
    },
    {
     "name": "stdout",
     "output_type": "stream",
     "text": [
      "Generation 2 - Current best internal CV score: 0.8942105263157896\n"
     ]
    },
    {
     "name": "stderr",
     "output_type": "stream",
     "text": [
      "                                                                                                                       \r"
     ]
    },
    {
     "name": "stdout",
     "output_type": "stream",
     "text": [
      "Generation 3 - Current best internal CV score: 0.8942105263157896\n"
     ]
    },
    {
     "name": "stderr",
     "output_type": "stream",
     "text": [
      "                                                                                                                       \r"
     ]
    },
    {
     "name": "stdout",
     "output_type": "stream",
     "text": [
      "Generation 4 - Current best internal CV score: 0.8942105263157896\n"
     ]
    },
    {
     "name": "stderr",
     "output_type": "stream",
     "text": [
      "                                                                                                                       \r"
     ]
    },
    {
     "name": "stdout",
     "output_type": "stream",
     "text": [
      "Generation 5 - Current best internal CV score: 0.8942105263157896\n"
     ]
    },
    {
     "name": "stderr",
     "output_type": "stream",
     "text": [
      "                                                                                                                       \r"
     ]
    },
    {
     "name": "stdout",
     "output_type": "stream",
     "text": [
      "\n",
      "Best pipeline: LinearSVC(input_matrix, C=1.0, dual=True, loss=squared_hinge, penalty=l2, tol=0.001)\n",
      "0.9629629629629629\n",
      "421\n",
      "198 252\n"
     ]
    },
    {
     "name": "stderr",
     "output_type": "stream",
     "text": [
      "                                                                                                                       \r"
     ]
    },
    {
     "name": "stdout",
     "output_type": "stream",
     "text": [
      "Generation 1 - Current best internal CV score: 0.9247368421052633\n"
     ]
    },
    {
     "name": "stderr",
     "output_type": "stream",
     "text": [
      "                                                                                                                       \r"
     ]
    },
    {
     "name": "stdout",
     "output_type": "stream",
     "text": [
      "Generation 2 - Current best internal CV score: 0.9247368421052633\n"
     ]
    },
    {
     "name": "stderr",
     "output_type": "stream",
     "text": [
      "                                                                                                                       \r"
     ]
    },
    {
     "name": "stdout",
     "output_type": "stream",
     "text": [
      "Generation 3 - Current best internal CV score: 0.9247368421052633\n"
     ]
    },
    {
     "name": "stderr",
     "output_type": "stream",
     "text": [
      "                                                                                                                       \r"
     ]
    },
    {
     "name": "stdout",
     "output_type": "stream",
     "text": [
      "Generation 4 - Current best internal CV score: 0.9247368421052633\n"
     ]
    },
    {
     "name": "stderr",
     "output_type": "stream",
     "text": [
      "                                                                                                                       \r"
     ]
    },
    {
     "name": "stdout",
     "output_type": "stream",
     "text": [
      "Generation 5 - Current best internal CV score: 0.9400000000000001\n"
     ]
    },
    {
     "name": "stderr",
     "output_type": "stream",
     "text": [
      "                                                          \r"
     ]
    },
    {
     "name": "stdout",
     "output_type": "stream",
     "text": [
      "\n",
      "Best pipeline: LogisticRegression(CombineDFs(input_matrix, OneHotEncoder(BernoulliNB(input_matrix, alpha=0.1, fit_prior=True), minimum_fraction=0.05, sparse=False)), C=10.0, dual=False, penalty=l2)\n",
      "0.9259259259259259\n",
      "422\n",
      "286 364\n"
     ]
    },
    {
     "name": "stderr",
     "output_type": "stream",
     "text": [
      "                                                                                                                       \r"
     ]
    },
    {
     "name": "stdout",
     "output_type": "stream",
     "text": [
      "Generation 1 - Current best internal CV score: 0.8852216748768473\n"
     ]
    },
    {
     "name": "stderr",
     "output_type": "stream",
     "text": [
      "                                                                                                                       \r"
     ]
    },
    {
     "name": "stdout",
     "output_type": "stream",
     "text": [
      "Generation 2 - Current best internal CV score: 0.8852216748768473\n"
     ]
    },
    {
     "name": "stderr",
     "output_type": "stream",
     "text": [
      "                                                                                                                       \r"
     ]
    },
    {
     "name": "stdout",
     "output_type": "stream",
     "text": [
      "Generation 3 - Current best internal CV score: 0.8852216748768473\n"
     ]
    },
    {
     "name": "stderr",
     "output_type": "stream",
     "text": [
      "                                                                                                                       \r"
     ]
    },
    {
     "name": "stdout",
     "output_type": "stream",
     "text": [
      "Generation 4 - Current best internal CV score: 0.8852216748768473\n"
     ]
    },
    {
     "name": "stderr",
     "output_type": "stream",
     "text": [
      "                                                                                                                       \r"
     ]
    },
    {
     "name": "stdout",
     "output_type": "stream",
     "text": [
      "Generation 5 - Current best internal CV score: 0.8852216748768473\n"
     ]
    },
    {
     "name": "stderr",
     "output_type": "stream",
     "text": [
      "                                                          \r"
     ]
    },
    {
     "name": "stdout",
     "output_type": "stream",
     "text": [
      "\n",
      "Best pipeline: GaussianNB(input_matrix)\n",
      "0.8589743589743589\n",
      "423\n",
      "286 364\n"
     ]
    },
    {
     "name": "stderr",
     "output_type": "stream",
     "text": [
      "                                                                                                                       \r"
     ]
    },
    {
     "name": "stdout",
     "output_type": "stream",
     "text": [
      "Generation 1 - Current best internal CV score: 0.8708128078817733\n"
     ]
    },
    {
     "name": "stderr",
     "output_type": "stream",
     "text": [
      "                                                                                                                       \r"
     ]
    },
    {
     "name": "stdout",
     "output_type": "stream",
     "text": [
      "Generation 2 - Current best internal CV score: 0.8708128078817733\n"
     ]
    },
    {
     "name": "stderr",
     "output_type": "stream",
     "text": [
      "                                                                                                                       \r"
     ]
    },
    {
     "name": "stdout",
     "output_type": "stream",
     "text": [
      "Generation 3 - Current best internal CV score: 0.8708128078817733\n"
     ]
    },
    {
     "name": "stderr",
     "output_type": "stream",
     "text": [
      "                                                                                                                       \r"
     ]
    },
    {
     "name": "stdout",
     "output_type": "stream",
     "text": [
      "Generation 4 - Current best internal CV score: 0.8959359605911329\n"
     ]
    },
    {
     "name": "stderr",
     "output_type": "stream",
     "text": [
      "                                                                                                                       \r"
     ]
    },
    {
     "name": "stdout",
     "output_type": "stream",
     "text": [
      "Generation 5 - Current best internal CV score: 0.8959359605911329\n"
     ]
    },
    {
     "name": "stderr",
     "output_type": "stream",
     "text": [
      "                                                                                                                       \r"
     ]
    },
    {
     "name": "stdout",
     "output_type": "stream",
     "text": [
      "\n",
      "Best pipeline: LogisticRegression(input_matrix, C=1.0, dual=False, penalty=l1)\n",
      "0.8846153846153846\n",
      "424\n",
      "286 364\n"
     ]
    },
    {
     "name": "stderr",
     "output_type": "stream",
     "text": [
      "                                                                                                                       \r"
     ]
    },
    {
     "name": "stdout",
     "output_type": "stream",
     "text": [
      "Generation 1 - Current best internal CV score: 0.882512315270936\n"
     ]
    },
    {
     "name": "stderr",
     "output_type": "stream",
     "text": [
      "                                                                                                                       \r"
     ]
    },
    {
     "name": "stdout",
     "output_type": "stream",
     "text": [
      "Generation 2 - Current best internal CV score: 0.8885467980295567\n"
     ]
    },
    {
     "name": "stderr",
     "output_type": "stream",
     "text": [
      "                                                                                                                       \r"
     ]
    },
    {
     "name": "stdout",
     "output_type": "stream",
     "text": [
      "Generation 3 - Current best internal CV score: 0.8885467980295567\n"
     ]
    },
    {
     "name": "stderr",
     "output_type": "stream",
     "text": [
      "                                                                                                                       \r"
     ]
    },
    {
     "name": "stdout",
     "output_type": "stream",
     "text": [
      "Generation 4 - Current best internal CV score: 0.8955665024630541\n"
     ]
    },
    {
     "name": "stderr",
     "output_type": "stream",
     "text": [
      "                                                                                                                       \r"
     ]
    },
    {
     "name": "stdout",
     "output_type": "stream",
     "text": [
      "Generation 5 - Current best internal CV score: 0.8955665024630541\n"
     ]
    },
    {
     "name": "stderr",
     "output_type": "stream",
     "text": [
      "                                                                                                                       \r"
     ]
    },
    {
     "name": "stdout",
     "output_type": "stream",
     "text": [
      "\n",
      "Best pipeline: LinearSVC(input_matrix, C=20.0, dual=False, loss=squared_hinge, penalty=l1, tol=0.1)\n",
      "0.9358974358974359\n",
      "425\n",
      "286 364\n"
     ]
    },
    {
     "name": "stderr",
     "output_type": "stream",
     "text": [
      "                                                                                                                       \r"
     ]
    },
    {
     "name": "stdout",
     "output_type": "stream",
     "text": [
      "Generation 1 - Current best internal CV score: 0.9273399014778325\n"
     ]
    },
    {
     "name": "stderr",
     "output_type": "stream",
     "text": [
      "                                                                                                                       \r"
     ]
    },
    {
     "name": "stdout",
     "output_type": "stream",
     "text": [
      "Generation 2 - Current best internal CV score: 0.9273399014778325\n"
     ]
    },
    {
     "name": "stderr",
     "output_type": "stream",
     "text": [
      "                                                                                                                       \r"
     ]
    },
    {
     "name": "stdout",
     "output_type": "stream",
     "text": [
      "Generation 3 - Current best internal CV score: 0.9273399014778325\n"
     ]
    },
    {
     "name": "stderr",
     "output_type": "stream",
     "text": [
      "                                                                                                                       \r"
     ]
    },
    {
     "name": "stdout",
     "output_type": "stream",
     "text": [
      "Generation 4 - Current best internal CV score: 0.9307881773399014\n"
     ]
    },
    {
     "name": "stderr",
     "output_type": "stream",
     "text": [
      "                                                                                                                       \r"
     ]
    },
    {
     "name": "stdout",
     "output_type": "stream",
     "text": [
      "Generation 5 - Current best internal CV score: 0.9307881773399014\n"
     ]
    },
    {
     "name": "stderr",
     "output_type": "stream",
     "text": [
      "                                                                                                                       \r"
     ]
    },
    {
     "name": "stdout",
     "output_type": "stream",
     "text": [
      "\n",
      "Best pipeline: LogisticRegression(input_matrix, C=0.1, dual=False, penalty=l2)\n",
      "0.9230769230769231\n",
      "426\n",
      "286 364\n"
     ]
    },
    {
     "name": "stderr",
     "output_type": "stream",
     "text": [
      "                                                                                                                       \r"
     ]
    },
    {
     "name": "stdout",
     "output_type": "stream",
     "text": [
      "Generation 1 - Current best internal CV score: 0.902832512315271\n"
     ]
    },
    {
     "name": "stderr",
     "output_type": "stream",
     "text": [
      "                                                                                                                       \r"
     ]
    },
    {
     "name": "stdout",
     "output_type": "stream",
     "text": [
      "Generation 2 - Current best internal CV score: 0.9062807881773398\n"
     ]
    },
    {
     "name": "stderr",
     "output_type": "stream",
     "text": [
      "                                                                                                                       \r"
     ]
    },
    {
     "name": "stdout",
     "output_type": "stream",
     "text": [
      "Generation 3 - Current best internal CV score: 0.9098522167487685\n"
     ]
    },
    {
     "name": "stderr",
     "output_type": "stream",
     "text": [
      "                                                                                                                       \r"
     ]
    },
    {
     "name": "stdout",
     "output_type": "stream",
     "text": [
      "Generation 4 - Current best internal CV score: 0.9167487684729064\n"
     ]
    },
    {
     "name": "stderr",
     "output_type": "stream",
     "text": [
      "                                                                                                                       \r"
     ]
    },
    {
     "name": "stdout",
     "output_type": "stream",
     "text": [
      "Generation 5 - Current best internal CV score: 0.9167487684729064\n"
     ]
    },
    {
     "name": "stderr",
     "output_type": "stream",
     "text": [
      "                                                                                                                       \r"
     ]
    },
    {
     "name": "stdout",
     "output_type": "stream",
     "text": [
      "\n",
      "Best pipeline: KNeighborsClassifier(RFE(SelectPercentile(input_matrix, percentile=92), criterion=entropy, max_features=0.5, n_estimators=100, step=0.7500000000000001), n_neighbors=61, p=2, weights=distance)\n",
      "0.9487179487179487\n",
      "427\n",
      "286 364\n"
     ]
    },
    {
     "name": "stderr",
     "output_type": "stream",
     "text": [
      "                                                                                                                       \r"
     ]
    },
    {
     "name": "stdout",
     "output_type": "stream",
     "text": [
      "Generation 1 - Current best internal CV score: 0.8958128078817735\n"
     ]
    },
    {
     "name": "stderr",
     "output_type": "stream",
     "text": [
      "                                                                                                                       \r"
     ]
    },
    {
     "name": "stdout",
     "output_type": "stream",
     "text": [
      "Generation 2 - Current best internal CV score: 0.8958128078817735\n"
     ]
    },
    {
     "name": "stderr",
     "output_type": "stream",
     "text": [
      "                                                                                                                       \r"
     ]
    },
    {
     "name": "stdout",
     "output_type": "stream",
     "text": [
      "Generation 3 - Current best internal CV score: 0.9064039408866995\n"
     ]
    },
    {
     "name": "stderr",
     "output_type": "stream",
     "text": [
      "                                                                                                                       \r"
     ]
    },
    {
     "name": "stdout",
     "output_type": "stream",
     "text": [
      "Generation 4 - Current best internal CV score: 0.9064039408866995\n"
     ]
    },
    {
     "name": "stderr",
     "output_type": "stream",
     "text": [
      "                                                                                                                       \r"
     ]
    },
    {
     "name": "stdout",
     "output_type": "stream",
     "text": [
      "Generation 5 - Current best internal CV score: 0.9064039408866995\n"
     ]
    },
    {
     "name": "stderr",
     "output_type": "stream",
     "text": [
      "                                                                                                                       \r"
     ]
    },
    {
     "name": "stdout",
     "output_type": "stream",
     "text": [
      "\n",
      "Best pipeline: KNeighborsClassifier(LogisticRegression(input_matrix, C=0.001, dual=False, penalty=l2), n_neighbors=6, p=1, weights=distance)\n",
      "0.8974358974358975\n",
      "428\n",
      "286 364\n"
     ]
    },
    {
     "name": "stderr",
     "output_type": "stream",
     "text": [
      "                                                                                                                       \r"
     ]
    },
    {
     "name": "stdout",
     "output_type": "stream",
     "text": [
      "Generation 1 - Current best internal CV score: 0.8922413793103449\n"
     ]
    },
    {
     "name": "stderr",
     "output_type": "stream",
     "text": [
      "                                                                                                                       \r"
     ]
    },
    {
     "name": "stdout",
     "output_type": "stream",
     "text": [
      "Generation 2 - Current best internal CV score: 0.8923645320197044\n"
     ]
    },
    {
     "name": "stderr",
     "output_type": "stream",
     "text": [
      "                                                                                                                       \r"
     ]
    },
    {
     "name": "stdout",
     "output_type": "stream",
     "text": [
      "Generation 3 - Current best internal CV score: 0.9064039408866995\n"
     ]
    },
    {
     "name": "stderr",
     "output_type": "stream",
     "text": [
      "                                                                                                                       \r"
     ]
    },
    {
     "name": "stdout",
     "output_type": "stream",
     "text": [
      "Generation 4 - Current best internal CV score: 0.9064039408866995\n"
     ]
    },
    {
     "name": "stderr",
     "output_type": "stream",
     "text": [
      "                                                                                                                       \r"
     ]
    },
    {
     "name": "stdout",
     "output_type": "stream",
     "text": [
      "Generation 5 - Current best internal CV score: 0.9097290640394089\n"
     ]
    },
    {
     "name": "stderr",
     "output_type": "stream",
     "text": [
      "                                                                                                                       \r"
     ]
    },
    {
     "name": "stdout",
     "output_type": "stream",
     "text": [
      "\n",
      "Best pipeline: LogisticRegression(GaussianNB(DecisionTreeClassifier(input_matrix, criterion=entropy, max_depth=6, min_samples_leaf=16, min_samples_split=2)), C=5.0, dual=False, penalty=l2)\n",
      "0.9358974358974359\n",
      "429\n",
      "286 364\n"
     ]
    },
    {
     "name": "stderr",
     "output_type": "stream",
     "text": [
      "                                                                                                                       \r"
     ]
    },
    {
     "name": "stdout",
     "output_type": "stream",
     "text": [
      "Generation 1 - Current best internal CV score: 0.9131773399014778\n"
     ]
    },
    {
     "name": "stderr",
     "output_type": "stream",
     "text": [
      "                                                                                                                       \r"
     ]
    },
    {
     "name": "stdout",
     "output_type": "stream",
     "text": [
      "Generation 2 - Current best internal CV score: 0.9131773399014778\n"
     ]
    },
    {
     "name": "stderr",
     "output_type": "stream",
     "text": [
      "                                                                                                                       \r"
     ]
    },
    {
     "name": "stdout",
     "output_type": "stream",
     "text": [
      "Generation 3 - Current best internal CV score: 0.9131773399014778\n"
     ]
    },
    {
     "name": "stderr",
     "output_type": "stream",
     "text": [
      "                                                                                                                       \r"
     ]
    },
    {
     "name": "stdout",
     "output_type": "stream",
     "text": [
      "Generation 4 - Current best internal CV score: 0.9167487684729064\n"
     ]
    },
    {
     "name": "stderr",
     "output_type": "stream",
     "text": [
      "                                                                                                                       \r"
     ]
    },
    {
     "name": "stdout",
     "output_type": "stream",
     "text": [
      "Generation 5 - Current best internal CV score: 0.9167487684729064\n"
     ]
    },
    {
     "name": "stderr",
     "output_type": "stream",
     "text": [
      "                                                                                                                       \r"
     ]
    },
    {
     "name": "stdout",
     "output_type": "stream",
     "text": [
      "\n",
      "Best pipeline: LogisticRegression(input_matrix, C=0.5, dual=True, penalty=l2)\n",
      "0.9615384615384616\n",
      "430\n",
      "286 364\n"
     ]
    },
    {
     "name": "stderr",
     "output_type": "stream",
     "text": [
      "                                                                                                                       \r"
     ]
    },
    {
     "name": "stdout",
     "output_type": "stream",
     "text": [
      "Generation 1 - Current best internal CV score: 0.9199507389162562\n"
     ]
    },
    {
     "name": "stderr",
     "output_type": "stream",
     "text": [
      "                                                                                                                       \r"
     ]
    },
    {
     "name": "stdout",
     "output_type": "stream",
     "text": [
      "Generation 2 - Current best internal CV score: 0.9233990147783253\n"
     ]
    },
    {
     "name": "stderr",
     "output_type": "stream",
     "text": [
      "                                                                                                                       \r"
     ]
    },
    {
     "name": "stdout",
     "output_type": "stream",
     "text": [
      "Generation 3 - Current best internal CV score: 0.9269704433497538\n"
     ]
    },
    {
     "name": "stderr",
     "output_type": "stream",
     "text": [
      "                                                                                                                       \r"
     ]
    },
    {
     "name": "stdout",
     "output_type": "stream",
     "text": [
      "Generation 4 - Current best internal CV score: 0.9269704433497538\n"
     ]
    },
    {
     "name": "stderr",
     "output_type": "stream",
     "text": [
      "                                                                                                                       \r"
     ]
    },
    {
     "name": "stdout",
     "output_type": "stream",
     "text": [
      "Generation 5 - Current best internal CV score: 0.9304187192118226\n"
     ]
    },
    {
     "name": "stderr",
     "output_type": "stream",
     "text": [
      "                                                                                                                       \r"
     ]
    },
    {
     "name": "stdout",
     "output_type": "stream",
     "text": [
      "\n",
      "Best pipeline: LinearSVC(MaxAbsScaler(input_matrix), C=15.0, dual=True, loss=squared_hinge, penalty=l2, tol=0.0001)\n",
      "0.9230769230769231\n",
      "431\n",
      "286 364\n"
     ]
    },
    {
     "name": "stderr",
     "output_type": "stream",
     "text": [
      "                                                                                                                       \r"
     ]
    },
    {
     "name": "stdout",
     "output_type": "stream",
     "text": [
      "Generation 1 - Current best internal CV score: 0.8995073891625616\n"
     ]
    },
    {
     "name": "stderr",
     "output_type": "stream",
     "text": [
      "                                                                                                                       \r"
     ]
    },
    {
     "name": "stdout",
     "output_type": "stream",
     "text": [
      "Generation 2 - Current best internal CV score: 0.9066502463054187\n"
     ]
    },
    {
     "name": "stderr",
     "output_type": "stream",
     "text": [
      "                                                                                                                       \r"
     ]
    },
    {
     "name": "stdout",
     "output_type": "stream",
     "text": [
      "Generation 3 - Current best internal CV score: 0.9066502463054187\n"
     ]
    },
    {
     "name": "stderr",
     "output_type": "stream",
     "text": [
      "                                                                                                                       \r"
     ]
    },
    {
     "name": "stdout",
     "output_type": "stream",
     "text": [
      "Generation 4 - Current best internal CV score: 0.9066502463054187\n"
     ]
    },
    {
     "name": "stderr",
     "output_type": "stream",
     "text": [
      "                                                                                                                       \r"
     ]
    },
    {
     "name": "stdout",
     "output_type": "stream",
     "text": [
      "Generation 5 - Current best internal CV score: 0.9066502463054187\n"
     ]
    },
    {
     "name": "stderr",
     "output_type": "stream",
     "text": [
      "                                                                                                                       \r"
     ]
    },
    {
     "name": "stdout",
     "output_type": "stream",
     "text": [
      "\n",
      "Best pipeline: KNeighborsClassifier(input_matrix, n_neighbors=20, p=2, weights=uniform)\n",
      "0.9743589743589743\n"
     ]
    }
   ],
   "source": [
    "import pdb\n",
    "\n",
    "#define the columns to group by\n",
    "groupingColumn1 = 'proband'\n",
    "groupingColumn2 = 'task'\n",
    "groupingColumn3 = ''\n",
    "\n",
    "#define how many different variants of aggregation and aggregation levels\n",
    "numVariationsPerAggLevel = 10\n",
    "numAggLevels = 4\n",
    "numAggregationVariants = numVariationsPerAggLevel * numAggLevels\n",
    "\n",
    "#get the index of the starting column that contains the labels of the groupings\n",
    "offset = z_data.columns.get_loc('aggr_2_groups0')\n",
    "print(offset)\n",
    "collectAccuracies = []\n",
    "\n",
    "#collect all instances where unmatched is not possible.\n",
    "unmatched = []\n",
    "\n",
    "#loop through the columns\n",
    "#for each column, group the data set\n",
    "# transform it to numpy.ndarray and split into training and validation set\n",
    "# run t_pot\n",
    "# and do the learning\n",
    "while offset < len(z_data.columns):\n",
    "    # group the data set\n",
    "#     pdb.set_trace()\n",
    "    #=============================================================================================================\n",
    "    columnsForGrouping = [groupingColumn1,groupingColumn2,z_data.columns[offset]]\n",
    "    features, labels = prepare(z_data,columnsForGrouping)\n",
    "    #=============================================================================================================\n",
    "    #=============================================================================================================\n",
    "    # transform to numpy.ndarray and do split\n",
    "    # find low and high\n",
    "    low, high = findIndices(z_data.columns[offset])\n",
    "    training_features, testing_features, training_target, testing_target = split(features, labels, low, high)\n",
    "    #=============================================================================================================\n",
    "    print(offset)\n",
    "    print(low, high)\n",
    "    \n",
    "    folder = 'Act/'\n",
    "    fileName = 'tpot_mnist_pipeline_triangulateAggregationLevelParticipantSplit' + z_data.columns[offset] + '.py'\n",
    "    #=============================================================================================================\n",
    "    # run t_pot\n",
    "    # TODO: extract method\n",
    "    tpot = TPOTClassifier(generations=5, population_size=5, verbosity=2, n_jobs=20,max_eval_time_mins=1)\n",
    "    tpot.fit(training_features, training_target)\n",
    "    print(tpot.score(testing_features, testing_target))\n",
    "    tpot.export(folder + fileName)\n",
    "#     #=============================================================================================================\n",
    "    \n",
    "    offset = offset + 1\n"
   ]
  },
  {
   "cell_type": "code",
   "execution_count": 9,
   "metadata": {},
   "outputs": [
    {
     "name": "stdout",
     "output_type": "stream",
     "text": [
      "392\n",
      "Number of matches: 12 (of 12 )\n",
      "Accuary:  100.0\n",
      "Number of matches: 12 (of 12 )\n",
      "Accuary:  100.0\n",
      "Number of matches: 11 (of 12 )\n",
      "Accuary:  91.66666666666666\n",
      "Number of matches: 12 (of 12 )\n",
      "Accuary:  100.0\n",
      "Number of matches: 9 (of 12 )\n",
      "Accuary:  75.0\n",
      "Number of matches: 12 (of 12 )\n",
      "Accuary:  100.0\n",
      "Number of matches: 12 (of 12 )\n",
      "Accuary:  100.0\n",
      "Number of matches: 8 (of 12 )\n",
      "Accuary:  66.66666666666666\n",
      "Number of matches: 12 (of 12 )\n",
      "Accuary:  100.0\n",
      "Number of matches: 12 (of 12 )\n",
      "Accuary:  100.0\n",
      "Number of matches: 18 (of 18 )\n",
      "Accuary:  100.0\n",
      "Number of matches: 18 (of 18 )\n",
      "Accuary:  100.0\n",
      "Number of matches: 18 (of 18 )\n",
      "Accuary:  100.0\n",
      "Number of matches: 18 (of 18 )\n",
      "Accuary:  100.0\n",
      "Number of matches: 18 (of 18 )\n",
      "Accuary:  100.0\n",
      "Number of matches: 18 (of 18 )\n",
      "Accuary:  100.0\n",
      "Number of matches: 17 (of 18 )\n",
      "Accuary:  94.44444444444444\n",
      "Number of matches: 18 (of 18 )\n",
      "Accuary:  100.0\n",
      "Number of matches: 18 (of 18 )\n",
      "Accuary:  100.0\n",
      "Number of matches: 18 (of 18 )\n",
      "Accuary:  100.0\n",
      "Number of matches: 51 (of 54 )\n",
      "Accuary:  94.44444444444444\n",
      "Number of matches: 51 (of 54 )\n",
      "Accuary:  94.44444444444444\n",
      "Number of matches: 52 (of 54 )\n",
      "Accuary:  96.29629629629629\n",
      "Number of matches: 51 (of 54 )\n",
      "Accuary:  94.44444444444444\n",
      "Number of matches: 54 (of 54 )\n",
      "Accuary:  100.0\n",
      "Number of matches: 51 (of 54 )\n",
      "Accuary:  94.44444444444444\n",
      "Number of matches: 52 (of 54 )\n",
      "Accuary:  96.29629629629629\n",
      "Number of matches: 52 (of 54 )\n",
      "Accuary:  96.29629629629629\n",
      "Number of matches: 52 (of 54 )\n",
      "Accuary:  96.29629629629629\n",
      "Number of matches: 50 (of 54 )\n",
      "Accuary:  92.5925925925926\n",
      "Number of matches: 67 (of 78 )\n",
      "Accuary:  85.8974358974359\n",
      "Number of matches: 69 (of 78 )\n",
      "Accuary:  88.46153846153845\n",
      "Number of matches: 73 (of 78 )\n",
      "Accuary:  93.58974358974359\n",
      "Number of matches: 72 (of 78 )\n",
      "Accuary:  92.3076923076923\n",
      "Number of matches: 74 (of 78 )\n",
      "Accuary:  94.87179487179486\n",
      "Number of matches: 70 (of 78 )\n",
      "Accuary:  89.74358974358975\n",
      "Number of matches: 73 (of 78 )\n",
      "Accuary:  93.58974358974359\n",
      "Number of matches: 75 (of 78 )\n",
      "Accuary:  96.15384615384616\n",
      "Number of matches: 72 (of 78 )\n",
      "Accuary:  92.3076923076923\n",
      "Number of matches: 76 (of 78 )\n",
      "Accuary:  97.43589743589743\n"
     ]
    }
   ],
   "source": [
    "#get the index of the starting column that contains the labels of the groupings\n",
    "offset = z_data.columns.get_loc('aggr_2_groups0')\n",
    "print(offset)\n",
    "collectAccuracies = []\n",
    "\n",
    "#collect all instances where unmatched is not possible.\n",
    "unmatched = []\n",
    "\n",
    "#loop through the columns\n",
    "#for each column, group the data set\n",
    "# transform it to numpy.ndarray and split into training and validation set\n",
    "# run t_pot\n",
    "# and do the learning\n",
    "while offset < len(z_data.columns):    \n",
    "\n",
    "    #=============================================================================================================\n",
    "    columnsForGrouping = ['proband','task',z_data.columns[offset]]\n",
    "    features, labels = prepare(z_data,columnsForGrouping)\n",
    "    #=============================================================================================================\n",
    "    #=============================================================================================================\n",
    "    # transform to numpy.ndarray and do split\n",
    "    # find low and high\n",
    "    low, high = findIndices(z_data.columns[offset])\n",
    "    training_features, testing_features, training_target, testing_target = split(features, labels, low, high)\n",
    "    #=============================================================================================================\n",
    "    \n",
    "    fileName = 'tpot_mnist_pipeline_triangulateAggregationLevelParticipantSplit' + z_data.columns[offset] + '.py'\n",
    "\n",
    "    #=============================================================================================================\n",
    "    #do the learning\n",
    "    # TODO: extract method\n",
    "    with open(folder + fileName) as f:\n",
    "        content = f.readlines()\n",
    "    cleanedContent = []\n",
    "    for line in content:\n",
    "        if 'tpot_data' not in line and 'training_target, testing_target' not in line:\n",
    "            cleanedContent.append(line)\n",
    "    \n",
    "    fileNameCleaned = folder + 'cleaned_' + fileName\n",
    "    with open(fileNameCleaned, 'w') as filehandle:  \n",
    "        for line in cleanedContent:\n",
    "            filehandle.write('%s\\n' % line)\n",
    "            \n",
    "    %run -i $fileNameCleaned\n",
    "    \n",
    "    # print the accuracy\n",
    "    # TODO: extract method\n",
    "    # TODO: print all accurracy values to one file\n",
    "    num_matches = 0;\n",
    "    for a, b in zip(testing_target, results):\n",
    "        if a == b:\n",
    "            num_matches = num_matches + 1\n",
    "        else:\n",
    "            unmatched.append((a,b))\n",
    "    print('Number of matches:',num_matches,'(of',testing_target.size,')')\n",
    "\n",
    "    accuracy = num_matches/testing_target.size*100\n",
    "    print('Accuary: ',accuracy)\n",
    "    #=============================================================================================================\n",
    "    \n",
    "    #=============================================================================================================\n",
    "    #collect all accuracy values to plot them\n",
    "    collectAccuracies.append(accuracy)\n",
    "    \n",
    "    \n",
    "    offset = offset + 1\n",
    "    "
   ]
  },
  {
   "cell_type": "code",
   "execution_count": 10,
   "metadata": {},
   "outputs": [
    {
     "data": {
      "text/plain": [
       "92"
      ]
     },
     "execution_count": 10,
     "metadata": {},
     "output_type": "execute_result"
    }
   ],
   "source": [
    "len(unmatched)"
   ]
  },
  {
   "cell_type": "code",
   "execution_count": 11,
   "metadata": {},
   "outputs": [
    {
     "name": "stdout",
     "output_type": "stream",
     "text": [
      "Comprehension/Rest 92\n",
      "Comprehension/Syntax 0\n",
      "Rest/Syntax 0\n"
     ]
    }
   ],
   "source": [
    "countComprehensionRest = 0\n",
    "countComprehensionSyntax = 0\n",
    "countRestSyntax = 0\n",
    "for x in unmatched:\n",
    "    if x == (0,1) or x == (1,0):\n",
    "        countComprehensionRest = countComprehensionRest + 1\n",
    "    if x == (0,2) or x == (2,0):\n",
    "        countComprehensionSyntax = countComprehensionSyntax + 1\n",
    "    if x == (1,2) or x == (2,1):\n",
    "        countRestSyntax = countRestSyntax + 1\n",
    "print('Comprehension/Rest',countComprehensionRest)\n",
    "print('Comprehension/Syntax',countComprehensionSyntax)\n",
    "print('Rest/Syntax',countRestSyntax)"
   ]
  },
  {
   "cell_type": "code",
   "execution_count": 12,
   "metadata": {},
   "outputs": [],
   "source": [
    "def split_list(alist, wanted_parts=1):\n",
    "    length = len(alist)\n",
    "    return [ alist[i*length // wanted_parts: (i+1)*length // wanted_parts] \n",
    "             for i in range(wanted_parts) ]"
   ]
  },
  {
   "cell_type": "code",
   "execution_count": 13,
   "metadata": {},
   "outputs": [],
   "source": [
    "list1, list2, list3, list4 = split_list(collectAccuracies,4)\n",
    "frames = [list1, list2, list3, list4]\n",
    "collectedAccuracies = pd.DataFrame(frames).T\n",
    "collectedAccuracies.columns = ['2_groups_act','3_groups_act','9_groups_act','13_groups_act']\n",
    "\n",
    "\n",
    "collectedAccuracies.to_csv('triangulate_Act.csv',sep=';',decimal='.', index=False)"
   ]
  },
  {
   "cell_type": "code",
   "execution_count": null,
   "metadata": {},
   "outputs": [],
   "source": []
  }
 ],
 "metadata": {
  "kernelspec": {
   "display_name": "Python 3",
   "language": "python",
   "name": "python3"
  },
  "language_info": {
   "codemirror_mode": {
    "name": "ipython",
    "version": 3
   },
   "file_extension": ".py",
   "mimetype": "text/x-python",
   "name": "python",
   "nbconvert_exporter": "python",
   "pygments_lexer": "ipython3",
   "version": "3.6.5"
  }
 },
 "nbformat": 4,
 "nbformat_minor": 2
}
